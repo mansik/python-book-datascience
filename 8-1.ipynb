{
 "cells": [
  {
   "cell_type": "markdown",
   "id": "fc4ef599-96ea-423e-8cc2-e59e817838c9",
   "metadata": {},
   "source": [
    "# 확률의 기초와 원리"
   ]
  },
  {
   "cell_type": "markdown",
   "id": "ebb2498f-705d-4e0d-98b7-bd24c80072fe",
   "metadata": {},
   "source": [
    "# 집합(Set)\n",
    "\n",
    "* 집합(Set)은 유일한 원소만 가지는 특정 묶음이나 모임이다."
   ]
  },
  {
   "cell_type": "code",
   "execution_count": 1,
   "id": "36e51c7b-25a2-4b86-8126-8b8150fb5011",
   "metadata": {},
   "outputs": [],
   "source": [
    "import numpy as np"
   ]
  },
  {
   "cell_type": "code",
   "execution_count": 2,
   "id": "879ca3f8-f6f5-404e-8add-ad4f72773390",
   "metadata": {},
   "outputs": [],
   "source": [
    "# 2행 3열의 2차원 배열\n",
    "a = np.array([[1, 2, 3], [3, 2, 1]])"
   ]
  },
  {
   "cell_type": "code",
   "execution_count": 3,
   "id": "d484a6b7-de5b-4483-bd66-645ffdd0e27e",
   "metadata": {},
   "outputs": [
    {
     "data": {
      "text/plain": [
       "array([1, 2, 3])"
      ]
     },
     "execution_count": 3,
     "metadata": {},
     "output_type": "execute_result"
    }
   ],
   "source": [
    "# 유일한 원소값\n",
    "np.unique(a)"
   ]
  },
  {
   "cell_type": "markdown",
   "id": "68883402-b55a-495b-a54f-c11528bb6329",
   "metadata": {},
   "source": [
    "## 원소의 포함관계"
   ]
  },
  {
   "cell_type": "code",
   "execution_count": 4,
   "id": "f04085b2-7406-45a2-9a5b-d67d1a98a5e4",
   "metadata": {},
   "outputs": [
    {
     "data": {
      "text/plain": [
       "array([False, False,  True,  True, False, False])"
      ]
     },
     "execution_count": 4,
     "metadata": {},
     "output_type": "execute_result"
    }
   ],
   "source": [
    "# 배열 a에 원소 3이 포함되어 있는지 확인\n",
    "np.in1d(a, 3)  # 결과는 1차원 배열형태"
   ]
  },
  {
   "cell_type": "code",
   "execution_count": 5,
   "id": "caa7e671-6d55-427a-8111-61768e44b882",
   "metadata": {},
   "outputs": [
    {
     "data": {
      "text/plain": [
       "array([[False, False,  True],\n",
       "       [ True, False, False]])"
      ]
     },
     "execution_count": 5,
     "metadata": {},
     "output_type": "execute_result"
    }
   ],
   "source": [
    "# 포함되어 있는지 확인, \n",
    "np.isin(a, 3) # 결과는 a의 차원 형태"
   ]
  },
  {
   "cell_type": "markdown",
   "id": "8d4ae2fc-6ea1-4e43-a367-1ea64db59d4a",
   "metadata": {},
   "source": [
    "## 차집합(difference)"
   ]
  },
  {
   "cell_type": "code",
   "execution_count": 6,
   "id": "d33c5ba9-f01e-4296-a2fb-5a052712bd6f",
   "metadata": {},
   "outputs": [],
   "source": [
    "b = np.array([[1, 2, 7], [4, 5, 6]])"
   ]
  },
  {
   "cell_type": "code",
   "execution_count": 7,
   "id": "a877e545-defb-4bf8-8a54-5942522a96f4",
   "metadata": {},
   "outputs": [
    {
     "data": {
      "text/plain": [
       "True"
      ]
     },
     "execution_count": 7,
     "metadata": {},
     "output_type": "execute_result"
    }
   ],
   "source": [
    "# 다차원 배열의 형상 비교\n",
    "a.shape == b.shape"
   ]
  },
  {
   "cell_type": "code",
   "execution_count": 8,
   "id": "c95784a6-a4bd-415b-9333-f0162676c769",
   "metadata": {},
   "outputs": [
    {
     "data": {
      "text/plain": [
       "array([3])"
      ]
     },
     "execution_count": 8,
     "metadata": {},
     "output_type": "execute_result"
    }
   ],
   "source": [
    "# 차집합(a-b)\n",
    "np.setdiff1d(a, b) # 결과는 1차원 배열형태"
   ]
  },
  {
   "cell_type": "markdown",
   "id": "c1ac129f-501f-4a81-b63f-5226915ad192",
   "metadata": {},
   "source": [
    "## 교집합(intersect)"
   ]
  },
  {
   "cell_type": "code",
   "execution_count": 9,
   "id": "56df5c12-eaf2-47d8-a8b7-5cb5f44997b9",
   "metadata": {},
   "outputs": [
    {
     "data": {
      "text/plain": [
       "array([1, 2])"
      ]
     },
     "execution_count": 9,
     "metadata": {},
     "output_type": "execute_result"
    }
   ],
   "source": [
    "# a, b 공통 원소\n",
    "np.intersect1d(a, b)"
   ]
  },
  {
   "cell_type": "markdown",
   "id": "7af81610-c8ce-479f-99b4-f9df1d4f5cd1",
   "metadata": {},
   "source": [
    "## 합집합(union)"
   ]
  },
  {
   "cell_type": "code",
   "execution_count": 10,
   "id": "0d841d1b-426f-4a2d-8f69-ecd04d1a31f1",
   "metadata": {},
   "outputs": [
    {
     "data": {
      "text/plain": [
       "array([1, 2, 3, 4, 5, 6, 7])"
      ]
     },
     "execution_count": 10,
     "metadata": {},
     "output_type": "execute_result"
    }
   ],
   "source": [
    "# a, b 배열 모든 원소\n",
    "np.union1d(a, b)"
   ]
  },
  {
   "cell_type": "markdown",
   "id": "88d27a87-2519-4c42-8a5e-0b75b19cde84",
   "metadata": {},
   "source": [
    "## 대칭차집합(symmetric difference)\n",
    "\n",
    "* 대칭차집합 = 합집합 - 교집합"
   ]
  },
  {
   "cell_type": "code",
   "execution_count": 11,
   "id": "98a51fd4-b6e9-445e-8408-7bd50081360c",
   "metadata": {},
   "outputs": [
    {
     "data": {
      "text/plain": [
       "array([3, 4, 5, 6, 7])"
      ]
     },
     "execution_count": 11,
     "metadata": {},
     "output_type": "execute_result"
    }
   ],
   "source": [
    "np.setxor1d(a, b)"
   ]
  },
  {
   "cell_type": "code",
   "execution_count": null,
   "id": "c25a3162-034a-4025-94fe-4a59df1da525",
   "metadata": {},
   "outputs": [],
   "source": []
  }
 ],
 "metadata": {
  "kernelspec": {
   "display_name": "Python 3 (ipykernel)",
   "language": "python",
   "name": "python3"
  },
  "language_info": {
   "codemirror_mode": {
    "name": "ipython",
    "version": 3
   },
   "file_extension": ".py",
   "mimetype": "text/x-python",
   "name": "python",
   "nbconvert_exporter": "python",
   "pygments_lexer": "ipython3",
   "version": "3.9.13"
  }
 },
 "nbformat": 4,
 "nbformat_minor": 5
}
