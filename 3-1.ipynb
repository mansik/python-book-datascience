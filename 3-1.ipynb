{
 "cells": [
  {
   "cell_type": "markdown",
   "id": "9b5a8103-c82d-47f5-b203-3236588f1997",
   "metadata": {},
   "source": [
    "# 배열 데이터"
   ]
  },
  {
   "cell_type": "markdown",
   "id": "fb281511-6cf7-4855-a1f8-31b0f74ad89e",
   "metadata": {},
   "source": [
    "# 파이썬 리스트 클래스"
   ]
  },
  {
   "cell_type": "markdown",
   "id": "3772eeb9-e8c5-4275-998e-4941b3a4900e",
   "metadata": {},
   "source": [
    "* 파이썬의 리스트\n",
    "  * 배열이다. \n",
    "  * object 자료형을 가진다. (object는 최상위 클래스)\n",
    "  * 원소를 순서대로 저장하며, 원소의 위치가 지정된다.\n",
    "  * 원소의 위치 정보를 index라 한다.\n",
    "  * index로 검색"
   ]
  },
  {
   "cell_type": "markdown",
   "id": "77398014-480a-4aad-9772-d042fe70319a",
   "metadata": {},
   "source": [
    "## Sequence class 유형"
   ]
  },
  {
   "cell_type": "markdown",
   "id": "b59243dd-5dfe-49ef-a747-5d6daf613d42",
   "metadata": {},
   "source": [
    "* 추상 클래스(abstract class), 구현 클래스(concrete class)"
   ]
  },
  {
   "cell_type": "code",
   "execution_count": 1,
   "id": "08c79490-e83b-419c-9e98-c202f8783609",
   "metadata": {},
   "outputs": [],
   "source": [
    "# collections.abc는 추상클래스\n",
    "import collections.abc as abc"
   ]
  },
  {
   "cell_type": "code",
   "execution_count": 2,
   "id": "085fbaf2-8912-4c64-bf13-8f602cc3024a",
   "metadata": {},
   "outputs": [
    {
     "data": {
      "text/plain": [
       "frozenset({'__getitem__', '__len__'})"
      ]
     },
     "execution_count": 2,
     "metadata": {},
     "output_type": "execute_result"
    }
   ],
   "source": [
    "# 추상 클래스 Sequence는 변경할 수 없는 시퀀스 클래스를 만들때 상속해서 사용한다.\n",
    "abc.Sequence.__abstractmethods__  # Sequence 클래스에 구현되는 추상 메소드 확인"
   ]
  },
  {
   "cell_type": "code",
   "execution_count": 3,
   "id": "409ce780-e412-4b9e-a8f0-93d0afabd8f5",
   "metadata": {},
   "outputs": [
    {
     "data": {
      "text/plain": [
       "frozenset({'__delitem__', '__getitem__', '__len__', '__setitem__', 'insert'})"
      ]
     },
     "execution_count": 3,
     "metadata": {},
     "output_type": "execute_result"
    }
   ],
   "source": [
    "# 추상 클래스 MutalbleSequence는 변경할 수 있는 클래스를 만들때 상속해서 사용한다.\n",
    "abc.MutableSequence.__abstractmethods__  # MutableSequence 클래스의 추상 메소드 확인"
   ]
  },
  {
   "cell_type": "markdown",
   "id": "67798586-e797-4786-a9ec-f5d4c04cfab7",
   "metadata": {},
   "source": [
    "## 상속 관계 확인"
   ]
  },
  {
   "cell_type": "markdown",
   "id": "2e0c1e57-e36f-43c6-9b12-f81108e80909",
   "metadata": {},
   "source": [
    "* 상위 클래스(super class)와 하위 클래스(sub class)는 상속관계를 표시하는 클래스를 부르는 방식이다.\n",
    "* 이 상속관계를 확인하는 내장 함수는 issubclass(sub class, super class)이다.\n",
    "* issubclass는 추상 클래스의 모든 것을 구현하면 True, 일부만 구현하거나 구현하지 않았으면 False를 반환한다."
   ]
  },
  {
   "cell_type": "code",
   "execution_count": 4,
   "id": "b94211ea-af99-4d9f-88e4-f66623b832ea",
   "metadata": {},
   "outputs": [
    {
     "data": {
      "text/plain": [
       "True"
      ]
     },
     "execution_count": 4,
     "metadata": {},
     "output_type": "execute_result"
    }
   ],
   "source": [
    "issubclass(list, abc.Sequence)  # list 클래스와 Sequence 클래스의 상속관계 확인"
   ]
  },
  {
   "cell_type": "code",
   "execution_count": 5,
   "id": "2d57c527-3fca-4195-8d10-3a629bdf9bb8",
   "metadata": {},
   "outputs": [
    {
     "data": {
      "text/plain": [
       "True"
      ]
     },
     "execution_count": 5,
     "metadata": {},
     "output_type": "execute_result"
    }
   ],
   "source": [
    "issubclass(list, abc.MutableSequence) # 변경할 수 있는 MutableSequence 클래스의 상속 관계 확인, 변경가능하다."
   ]
  },
  {
   "cell_type": "markdown",
   "id": "aae273a0-b89d-466f-a4e0-78d930bf1fa6",
   "metadata": {},
   "source": [
    "* list는 Sequence, MutableSequence 클래스 둘 다 상속해서 구현되어 있다."
   ]
  },
  {
   "cell_type": "markdown",
   "id": "c75ca937-2747-4d37-96a7-b8d2dad14f49",
   "metadata": {},
   "source": [
    "## list 클래스로 객체 생성"
   ]
  },
  {
   "cell_type": "markdown",
   "id": "5c24d65a-5513-4707-bb0a-cf2bc253e8f3",
   "metadata": {},
   "source": [
    "* list()의 인자는 튜플, 리스트 등 여러 자료형이 올 수 있다.(모든 객체가 올수 있다.)"
   ]
  },
  {
   "cell_type": "code",
   "execution_count": 6,
   "id": "3253256e-7461-4dbf-a03c-fba13f275842",
   "metadata": {},
   "outputs": [],
   "source": [
    "x = list((1, 2, 3, 'a'))"
   ]
  },
  {
   "cell_type": "code",
   "execution_count": 7,
   "id": "7eddebb0-f251-4279-896d-619eca9c9f52",
   "metadata": {},
   "outputs": [
    {
     "data": {
      "text/plain": [
       "[1, 2, 3, 'a']"
      ]
     },
     "execution_count": 7,
     "metadata": {},
     "output_type": "execute_result"
    }
   ],
   "source": [
    "x"
   ]
  },
  {
   "cell_type": "code",
   "execution_count": 8,
   "id": "76cf66df-7d2a-4037-ae07-b52d4823c454",
   "metadata": {},
   "outputs": [
    {
     "data": {
      "text/plain": [
       "True"
      ]
     },
     "execution_count": 8,
     "metadata": {},
     "output_type": "execute_result"
    }
   ],
   "source": [
    "isinstance(x, list)"
   ]
  },
  {
   "cell_type": "markdown",
   "id": "f82b6d54-7126-49de-bef8-25a59032e72c",
   "metadata": {},
   "source": [
    "## list 객체의 원소에 접근하기"
   ]
  },
  {
   "cell_type": "markdown",
   "id": "0395d51f-85a9-48cd-b3d2-0ec03c826337",
   "metadata": {},
   "source": [
    "* list는 내부 원소를 순서대로 보관하며, 이 순서 정보가 index 이다. 이 index는 정수이다.\n",
    "* index의 시작은 맨 앞을 0으로 하여 +1씩 증가하는 양의 정수를 사용하는 forward(순방향) 검색\n",
    "* 맨 뒤의 원소를 -1로 하여 -1씩 감소하는 backward(역방향) 검색이 있다."
   ]
  },
  {
   "cell_type": "code",
   "execution_count": 9,
   "id": "5741a6d4-69d6-40b3-993d-9ba65565efd6",
   "metadata": {},
   "outputs": [
    {
     "data": {
      "text/plain": [
       "1"
      ]
     },
     "execution_count": 9,
     "metadata": {},
     "output_type": "execute_result"
    }
   ],
   "source": [
    "x[0]  # forward searching"
   ]
  },
  {
   "cell_type": "code",
   "execution_count": 10,
   "id": "c874883a-13a4-4731-af6f-24ec717821f6",
   "metadata": {},
   "outputs": [
    {
     "data": {
      "text/plain": [
       "'a'"
      ]
     },
     "execution_count": 10,
     "metadata": {},
     "output_type": "execute_result"
    }
   ],
   "source": [
    "x[-1] # backward searching"
   ]
  },
  {
   "cell_type": "markdown",
   "id": "4c9e40c2-7215-4416-8cd4-5877dd936c2b",
   "metadata": {},
   "source": [
    "## 인덱스 정보의 범위 확인"
   ]
  },
  {
   "cell_type": "code",
   "execution_count": 11,
   "id": "d5eaf6da-c543-40c0-b96f-0ecc68b64631",
   "metadata": {},
   "outputs": [
    {
     "name": "stdout",
     "output_type": "stream",
     "text": [
      "list index out of range\n"
     ]
    }
   ],
   "source": [
    "# list 객체 x가 가진 인덱스의 범위를 벗어나면 오류 발생\n",
    "try:\n",
    "    x[10]\n",
    "except Exception as e:\n",
    "    print(e)"
   ]
  },
  {
   "cell_type": "code",
   "execution_count": 12,
   "id": "bc2e35fa-a970-48f4-8d0d-812b378a5d66",
   "metadata": {},
   "outputs": [
    {
     "data": {
      "text/plain": [
       "4"
      ]
     },
     "execution_count": 12,
     "metadata": {},
     "output_type": "execute_result"
    }
   ],
   "source": [
    "len(x)  # list의 원소의 개수"
   ]
  },
  {
   "cell_type": "code",
   "execution_count": 13,
   "id": "80269128-ef9f-40e9-8ebb-6a4416d9b9e1",
   "metadata": {},
   "outputs": [
    {
     "data": {
      "text/plain": [
       "'a'"
      ]
     },
     "execution_count": 13,
     "metadata": {},
     "output_type": "execute_result"
    }
   ],
   "source": [
    "x[len(x)-1] # 마지막 원소 검색"
   ]
  },
  {
   "cell_type": "markdown",
   "id": "4ec16ec5-364b-4e3f-99fa-df2e5eadd8e5",
   "metadata": {},
   "source": [
    "## list 객체에 원소 추가"
   ]
  },
  {
   "cell_type": "code",
   "execution_count": 14,
   "id": "91951fd6-4880-4964-9328-df0893c9ccb4",
   "metadata": {},
   "outputs": [],
   "source": [
    "x.append(10)  # 새로운 원소 1개를 추가, 여러개를 추가할 수 없다."
   ]
  },
  {
   "cell_type": "code",
   "execution_count": 15,
   "id": "4943bf90-9f19-4474-88a3-e1b8399e7ce4",
   "metadata": {},
   "outputs": [
    {
     "data": {
      "text/plain": [
       "[1, 2, 3, 'a', 10]"
      ]
     },
     "execution_count": 15,
     "metadata": {},
     "output_type": "execute_result"
    }
   ],
   "source": [
    "x"
   ]
  },
  {
   "cell_type": "code",
   "execution_count": 16,
   "id": "5ac1cce0-fec2-4176-a1fc-2b75ed288d63",
   "metadata": {},
   "outputs": [],
   "source": [
    "x.extend([5, 6, 7, 8])  # 여러개의 원소를 추가시 extend 사용"
   ]
  },
  {
   "cell_type": "code",
   "execution_count": 17,
   "id": "9e4170fd-d2de-47c3-a849-4d88547197ab",
   "metadata": {},
   "outputs": [
    {
     "data": {
      "text/plain": [
       "[1, 2, 3, 'a', 10, 5, 6, 7, 8]"
      ]
     },
     "execution_count": 17,
     "metadata": {},
     "output_type": "execute_result"
    }
   ],
   "source": [
    "x"
   ]
  },
  {
   "cell_type": "code",
   "execution_count": 18,
   "id": "55dc76ea-4434-4324-8652-adb6d5ba997c",
   "metadata": {},
   "outputs": [],
   "source": [
    "x.insert(0, 100)  # 특정 위치에 원소를 추가"
   ]
  },
  {
   "cell_type": "code",
   "execution_count": 19,
   "id": "74cc7508-9223-4427-801a-7353a9b37e8e",
   "metadata": {},
   "outputs": [
    {
     "data": {
      "text/plain": [
       "[100, 1, 2, 3, 'a', 10, 5, 6, 7, 8]"
      ]
     },
     "execution_count": 19,
     "metadata": {},
     "output_type": "execute_result"
    }
   ],
   "source": [
    "x"
   ]
  },
  {
   "cell_type": "markdown",
   "id": "bc8ed2ad-ec8d-415b-9617-28d4832f1959",
   "metadata": {
    "tags": []
   },
   "source": [
    "## list 객체의 원소 삭제"
   ]
  },
  {
   "cell_type": "code",
   "execution_count": 20,
   "id": "0e17c7a1-8fe0-423f-b28b-db8707ef5432",
   "metadata": {},
   "outputs": [],
   "source": [
    "x.remove('a')  # 원소의 값을 삭제"
   ]
  },
  {
   "cell_type": "code",
   "execution_count": 21,
   "id": "727cb8e0-9d45-478f-b8dc-ae767f7bbb62",
   "metadata": {},
   "outputs": [
    {
     "data": {
      "text/plain": [
       "[100, 1, 2, 3, 10, 5, 6, 7, 8]"
      ]
     },
     "execution_count": 21,
     "metadata": {},
     "output_type": "execute_result"
    }
   ],
   "source": [
    "x"
   ]
  },
  {
   "cell_type": "code",
   "execution_count": 22,
   "id": "7931156c-6b06-458b-bbbc-e1a3c606e113",
   "metadata": {},
   "outputs": [],
   "source": [
    "del x[4]  # 원소의 index를 이용한 삭제"
   ]
  },
  {
   "cell_type": "code",
   "execution_count": 23,
   "id": "66f1fc9b-e1a5-4440-bc1e-8d56f5207868",
   "metadata": {},
   "outputs": [
    {
     "data": {
      "text/plain": [
       "[100, 1, 2, 3, 5, 6, 7, 8]"
      ]
     },
     "execution_count": 23,
     "metadata": {},
     "output_type": "execute_result"
    }
   ],
   "source": [
    "x"
   ]
  },
  {
   "cell_type": "code",
   "execution_count": 24,
   "id": "3cbd4eee-6bcc-4f0d-bdea-42d0f40eba9a",
   "metadata": {},
   "outputs": [
    {
     "data": {
      "text/plain": [
       "8"
      ]
     },
     "execution_count": 24,
     "metadata": {},
     "output_type": "execute_result"
    }
   ],
   "source": [
    "x.pop()  # 마지막 원소를 삭제하고 값 가져옴"
   ]
  },
  {
   "cell_type": "code",
   "execution_count": 25,
   "id": "45adfcb3-748f-41e4-911c-4f9eee37a60f",
   "metadata": {},
   "outputs": [
    {
     "data": {
      "text/plain": [
       "[100, 1, 2, 3, 5, 6, 7]"
      ]
     },
     "execution_count": 25,
     "metadata": {},
     "output_type": "execute_result"
    }
   ],
   "source": [
    "x"
   ]
  },
  {
   "cell_type": "code",
   "execution_count": 26,
   "id": "ca25284f-4236-429c-a236-ecb733c289cc",
   "metadata": {},
   "outputs": [
    {
     "data": {
      "text/plain": [
       "100"
      ]
     },
     "execution_count": 26,
     "metadata": {},
     "output_type": "execute_result"
    }
   ],
   "source": [
    "x.pop(0)  # 원소의 index를 이용한 삭기하고 값 가져오기"
   ]
  },
  {
   "cell_type": "code",
   "execution_count": 27,
   "id": "63e3f740-ab2a-4d8e-aa8b-0398711bb64a",
   "metadata": {},
   "outputs": [
    {
     "data": {
      "text/plain": [
       "[1, 2, 3, 5, 6, 7]"
      ]
     },
     "execution_count": 27,
     "metadata": {},
     "output_type": "execute_result"
    }
   ],
   "source": [
    "x"
   ]
  },
  {
   "cell_type": "markdown",
   "id": "3d4db3f9-9c0d-429f-ba3f-55d3b1340b2e",
   "metadata": {},
   "source": [
    "## list 객체의 원소 변경"
   ]
  },
  {
   "cell_type": "code",
   "execution_count": 28,
   "id": "f3dba743-4c70-4bda-b5b4-b67c6421569d",
   "metadata": {},
   "outputs": [],
   "source": [
    "x[3] = 4"
   ]
  },
  {
   "cell_type": "code",
   "execution_count": 29,
   "id": "34b116f9-312c-4525-be23-5fafa54411a9",
   "metadata": {},
   "outputs": [
    {
     "data": {
      "text/plain": [
       "[1, 2, 3, 4, 6, 7]"
      ]
     },
     "execution_count": 29,
     "metadata": {},
     "output_type": "execute_result"
    }
   ],
   "source": [
    "x"
   ]
  },
  {
   "cell_type": "markdown",
   "id": "d12d594d-fc11-4462-af9e-c2be66882e45",
   "metadata": {},
   "source": [
    "# list 객체의 slicing(범위 검색)"
   ]
  },
  {
   "cell_type": "code",
   "execution_count": 30,
   "id": "3f1dd9ed-c42f-4609-8289-51a5969f34da",
   "metadata": {},
   "outputs": [],
   "source": [
    "y = x[3:5]  # 3에서 5-1까지 검색"
   ]
  },
  {
   "cell_type": "code",
   "execution_count": 31,
   "id": "1e5ae71a-bb97-434d-abdf-a00519e42fe1",
   "metadata": {},
   "outputs": [
    {
     "data": {
      "text/plain": [
       "[4, 6]"
      ]
     },
     "execution_count": 31,
     "metadata": {},
     "output_type": "execute_result"
    }
   ],
   "source": [
    "y"
   ]
  },
  {
   "cell_type": "code",
   "execution_count": 32,
   "id": "0e4f6f4b-a89b-45fd-a8d3-3130cc597429",
   "metadata": {},
   "outputs": [],
   "source": [
    "y[0] = 999"
   ]
  },
  {
   "cell_type": "code",
   "execution_count": 33,
   "id": "57024e86-7676-4929-abb5-5411a55a5d71",
   "metadata": {},
   "outputs": [
    {
     "data": {
      "text/plain": [
       "[999, 6]"
      ]
     },
     "execution_count": 33,
     "metadata": {},
     "output_type": "execute_result"
    }
   ],
   "source": [
    "y"
   ]
  },
  {
   "cell_type": "code",
   "execution_count": null,
   "id": "9d4de0a6-ebac-446a-b4b9-2d2ee91241e0",
   "metadata": {},
   "outputs": [],
   "source": []
  }
 ],
 "metadata": {
  "kernelspec": {
   "display_name": "Python 3 (ipykernel)",
   "language": "python",
   "name": "python3"
  },
  "language_info": {
   "codemirror_mode": {
    "name": "ipython",
    "version": 3
   },
   "file_extension": ".py",
   "mimetype": "text/x-python",
   "name": "python",
   "nbconvert_exporter": "python",
   "pygments_lexer": "ipython3",
   "version": "3.9.13"
  }
 },
 "nbformat": 4,
 "nbformat_minor": 5
}
