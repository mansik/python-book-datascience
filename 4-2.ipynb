{
 "cells": [
  {
   "cell_type": "markdown",
   "id": "b7dcdd82-5a33-4eea-82ac-5ec950e94fe8",
   "metadata": {},
   "source": [
    "# 데이터프레임(DataFrame) 구조"
   ]
  },
  {
   "cell_type": "markdown",
   "id": "b3fcac3c-028f-48bc-9ef4-16159b8dda6d",
   "metadata": {},
   "source": [
    "* 행과 열을 가진 2차원 배열 구조\n",
    "* index, columns을 가짐"
   ]
  },
  {
   "cell_type": "markdown",
   "id": "fc1f1eeb-273f-426e-929c-2568eb88dea4",
   "metadata": {},
   "source": [
    "## 데이터프레임 생성"
   ]
  },
  {
   "cell_type": "code",
   "execution_count": 1,
   "id": "abff808b-9f28-4050-a451-5ea46ca0791e",
   "metadata": {},
   "outputs": [],
   "source": [
    "import pandas as pd"
   ]
  },
  {
   "cell_type": "code",
   "execution_count": 2,
   "id": "d364ec95-7d8d-494d-aca1-9cf7b3d6ba31",
   "metadata": {},
   "outputs": [],
   "source": [
    "# 행과 열 구조의 DataFrame\n",
    "df = pd.DataFrame([[1, 2, 3, 4], [5, 6, 7, 8]],\n",
    "                  index=list('ab'),\n",
    "                  columns=list('abcd'))                             "
   ]
  },
  {
   "cell_type": "code",
   "execution_count": 3,
   "id": "61e8d0ce-919b-4057-a56d-106e552c1f2b",
   "metadata": {},
   "outputs": [
    {
     "data": {
      "text/html": [
       "<div>\n",
       "<style scoped>\n",
       "    .dataframe tbody tr th:only-of-type {\n",
       "        vertical-align: middle;\n",
       "    }\n",
       "\n",
       "    .dataframe tbody tr th {\n",
       "        vertical-align: top;\n",
       "    }\n",
       "\n",
       "    .dataframe thead th {\n",
       "        text-align: right;\n",
       "    }\n",
       "</style>\n",
       "<table border=\"1\" class=\"dataframe\">\n",
       "  <thead>\n",
       "    <tr style=\"text-align: right;\">\n",
       "      <th></th>\n",
       "      <th>a</th>\n",
       "      <th>b</th>\n",
       "      <th>c</th>\n",
       "      <th>d</th>\n",
       "    </tr>\n",
       "  </thead>\n",
       "  <tbody>\n",
       "    <tr>\n",
       "      <th>a</th>\n",
       "      <td>1</td>\n",
       "      <td>2</td>\n",
       "      <td>3</td>\n",
       "      <td>4</td>\n",
       "    </tr>\n",
       "    <tr>\n",
       "      <th>b</th>\n",
       "      <td>5</td>\n",
       "      <td>6</td>\n",
       "      <td>7</td>\n",
       "      <td>8</td>\n",
       "    </tr>\n",
       "  </tbody>\n",
       "</table>\n",
       "</div>"
      ],
      "text/plain": [
       "   a  b  c  d\n",
       "a  1  2  3  4\n",
       "b  5  6  7  8"
      ]
     },
     "execution_count": 3,
     "metadata": {},
     "output_type": "execute_result"
    }
   ],
   "source": [
    "df"
   ]
  },
  {
   "cell_type": "code",
   "execution_count": 4,
   "id": "4fe96689-7f2d-49f5-b64d-62c1c3e1778a",
   "metadata": {},
   "outputs": [
    {
     "data": {
      "text/plain": [
       "array([[1, 2, 3, 4],\n",
       "       [5, 6, 7, 8]], dtype=int64)"
      ]
     },
     "execution_count": 4,
     "metadata": {},
     "output_type": "execute_result"
    }
   ],
   "source": [
    "# 데이터 조회\n",
    "df.values  # 결과가 다차원 배열로 관리되는 것을 알 수 있다."
   ]
  },
  {
   "cell_type": "code",
   "execution_count": 5,
   "id": "1b8a88da-bc6a-4d88-a27d-920f3b15368e",
   "metadata": {},
   "outputs": [
    {
     "data": {
      "text/plain": [
       "numpy.ndarray"
      ]
     },
     "execution_count": 5,
     "metadata": {},
     "output_type": "execute_result"
    }
   ],
   "source": [
    "type(df.values)"
   ]
  },
  {
   "cell_type": "markdown",
   "id": "61b7cebd-b519-42ae-8690-0d0fa383be79",
   "metadata": {},
   "source": [
    "## 행과 열의 인덱스 정보와 배열의 메타 정보 확인"
   ]
  },
  {
   "cell_type": "code",
   "execution_count": 6,
   "id": "badd735c-0407-4b6a-b5fb-a355f2f45f1a",
   "metadata": {},
   "outputs": [
    {
     "data": {
      "text/plain": [
       "Index(['a', 'b'], dtype='object')"
      ]
     },
     "execution_count": 6,
     "metadata": {},
     "output_type": "execute_result"
    }
   ],
   "source": [
    "df.index  # 행의 레이블은 index 클래스의 객체"
   ]
  },
  {
   "cell_type": "code",
   "execution_count": 7,
   "id": "f007bd3e-d268-49fe-b792-70d76a376b79",
   "metadata": {},
   "outputs": [
    {
     "data": {
      "text/plain": [
       "Index(['a', 'b', 'c', 'd'], dtype='object')"
      ]
     },
     "execution_count": 7,
     "metadata": {},
     "output_type": "execute_result"
    }
   ],
   "source": [
    "df.columns  # 열의 레이블도 index 클래스의 객체"
   ]
  },
  {
   "cell_type": "code",
   "execution_count": 8,
   "id": "5658e25d-9d21-4901-9770-4a582d980f52",
   "metadata": {},
   "outputs": [
    {
     "data": {
      "text/plain": [
       "((2, 4), 2, 8)"
      ]
     },
     "execution_count": 8,
     "metadata": {},
     "output_type": "execute_result"
    }
   ],
   "source": [
    "df.shape, df.ndim, df.size  \n",
    "# 형상은 2차원이라 2개의 원소를 갖는 튜플로 표시(2,4)=2행 4열, 차원, 크기는 원소의 개수인 8개"
   ]
  },
  {
   "cell_type": "markdown",
   "id": "bf7eb15c-274d-4d09-a422-7513e6b0d9e9",
   "metadata": {},
   "source": [
    "## 색인 검색"
   ]
  },
  {
   "cell_type": "markdown",
   "id": "5952ea8a-5977-402a-9149-42da3e8afad0",
   "metadata": {},
   "source": [
    "* 데이터프레임의 색인 검색은 열의 레이블을 검색하는 방식이다.\n",
    "* index로 검색은 안된다."
   ]
  },
  {
   "cell_type": "code",
   "execution_count": 9,
   "id": "47ac6f76-5e08-4ea3-bbba-12eb80954e75",
   "metadata": {},
   "outputs": [
    {
     "name": "stdout",
     "output_type": "stream",
     "text": [
      "0\n"
     ]
    }
   ],
   "source": [
    "try:\n",
    "    df[0]\n",
    "except Exception as e:\n",
    "    print(e)"
   ]
  },
  {
   "cell_type": "code",
   "execution_count": 10,
   "id": "3abc2ec2-2422-47d7-bb0c-b2aa248a3148",
   "metadata": {},
   "outputs": [
    {
     "data": {
      "text/plain": [
       "a    1\n",
       "b    5\n",
       "Name: a, dtype: int64"
      ]
     },
     "execution_count": 10,
     "metadata": {},
     "output_type": "execute_result"
    }
   ],
   "source": [
    "df['a']  # 열 이름으로 검색하면 결과는 Series 객체이다."
   ]
  },
  {
   "cell_type": "markdown",
   "id": "69ba7972-5487-4b59-b63b-99d7e1406b40",
   "metadata": {},
   "source": [
    "## 데이터프레임의 행 명칭으로 검색: loc(label based)\n",
    "\n",
    "* 행 명칭으로 조회할 때는 loc(label based) indexer를 사용한다."
   ]
  },
  {
   "cell_type": "code",
   "execution_count": 11,
   "id": "1e9bfb6a-2ea2-45a4-ae84-c470f7897079",
   "metadata": {},
   "outputs": [
    {
     "data": {
      "text/plain": [
       "a    1\n",
       "b    2\n",
       "c    3\n",
       "d    4\n",
       "Name: a, dtype: int64"
      ]
     },
     "execution_count": 11,
     "metadata": {},
     "output_type": "execute_result"
    }
   ],
   "source": [
    "df.loc['a'] # 행('a')으로 조회할 때는 loc indexer를 사용한다.\n",
    "# 데이터프레임의 행이 1개일 경우 결과는 Series 객체"
   ]
  },
  {
   "cell_type": "code",
   "execution_count": 12,
   "id": "d814efe6-b617-42be-8d04-df4372564dc5",
   "metadata": {},
   "outputs": [
    {
     "data": {
      "text/plain": [
       "a    1\n",
       "b    2\n",
       "c    3\n",
       "d    4\n",
       "Name: a, dtype: int64"
      ]
     },
     "execution_count": 12,
     "metadata": {},
     "output_type": "execute_result"
    }
   ],
   "source": [
    "# 'a' 행, 모든 열 조회\n",
    "df.loc['a', :]\n",
    "# 행이 1개이면 결과는 Series 객체"
   ]
  },
  {
   "cell_type": "code",
   "execution_count": 13,
   "id": "03512d24-b404-424b-8b7b-d419d92ef20a",
   "metadata": {},
   "outputs": [
    {
     "data": {
      "text/html": [
       "<div>\n",
       "<style scoped>\n",
       "    .dataframe tbody tr th:only-of-type {\n",
       "        vertical-align: middle;\n",
       "    }\n",
       "\n",
       "    .dataframe tbody tr th {\n",
       "        vertical-align: top;\n",
       "    }\n",
       "\n",
       "    .dataframe thead th {\n",
       "        text-align: right;\n",
       "    }\n",
       "</style>\n",
       "<table border=\"1\" class=\"dataframe\">\n",
       "  <thead>\n",
       "    <tr style=\"text-align: right;\">\n",
       "      <th></th>\n",
       "      <th>b</th>\n",
       "      <th>c</th>\n",
       "    </tr>\n",
       "  </thead>\n",
       "  <tbody>\n",
       "    <tr>\n",
       "      <th>a</th>\n",
       "      <td>2</td>\n",
       "      <td>3</td>\n",
       "    </tr>\n",
       "    <tr>\n",
       "      <th>b</th>\n",
       "      <td>6</td>\n",
       "      <td>7</td>\n",
       "    </tr>\n",
       "  </tbody>\n",
       "</table>\n",
       "</div>"
      ],
      "text/plain": [
       "   b  c\n",
       "a  2  3\n",
       "b  6  7"
      ]
     },
     "execution_count": 13,
     "metadata": {},
     "output_type": "execute_result"
    }
   ],
   "source": [
    "# 모든 행과 'b','c' 열을 조회\n",
    "df.loc['a':, 'b':'c']\n",
    "# 결과는 행과 열이 있는 DataFrame이다."
   ]
  },
  {
   "cell_type": "markdown",
   "id": "e5c992c3-cd5a-4e01-bf2a-6ead4498a65f",
   "metadata": {},
   "source": [
    "## 슬라이스 검색을 통한 부분 집합일 때 메모리 공유"
   ]
  },
  {
   "cell_type": "code",
   "execution_count": 14,
   "id": "40c8eb38-e860-4ff3-896c-589fecef234a",
   "metadata": {},
   "outputs": [],
   "source": [
    "dfv = df.loc['a':, 'b':'c']"
   ]
  },
  {
   "cell_type": "code",
   "execution_count": 15,
   "id": "6e50a6e3-626d-41d9-9180-0547fc2a570e",
   "metadata": {},
   "outputs": [],
   "source": [
    "import numpy as np"
   ]
  },
  {
   "cell_type": "code",
   "execution_count": null,
   "id": "7aeabedf-05b1-49ff-885a-f43564dd4d9e",
   "metadata": {},
   "outputs": [
    {
     "data": {
      "text/plain": [
       "True"
      ]
     },
     "execution_count": 16,
     "metadata": {},
     "output_type": "execute_result"
    }
   ],
   "source": [
    "# 판다스의 데이터프레임은 슬라이스 검색하면 원본과 메모리를 공유한다.\n",
    "np.may_share_memory(dfv, df)"
   ]
  },
  {
   "cell_type": "code",
   "execution_count": null,
   "id": "99f0835c-6213-4902-815d-59b43d3b4ea1",
   "metadata": {},
   "outputs": [],
   "source": [
    "dfv['b'] = 0"
   ]
  },
  {
   "cell_type": "code",
   "execution_count": null,
   "id": "9f55c4ba-0b0c-4c68-a167-c47743bac24c",
   "metadata": {},
   "outputs": [],
   "source": [
    "dfv"
   ]
  },
  {
   "cell_type": "code",
   "execution_count": null,
   "id": "80cf9972-f664-404b-b6ac-ddcc797a5b75",
   "metadata": {},
   "outputs": [],
   "source": [
    "df\n",
    "# 메모리는 공유하는데 값은 변하지 않네ㅠㅠ.. 이전 버전에서는 변했는데 버전에 따라 달라지고 있다."
   ]
  },
  {
   "cell_type": "markdown",
   "id": "ba2c91e6-d4b5-416f-86cb-ad6dcb20b65f",
   "metadata": {},
   "source": [
    "## 인덱스 숫자 정보로 검색: iloc(integer position based)"
   ]
  },
  {
   "cell_type": "markdown",
   "id": "ff0cff4e-396b-4e49-9543-092e656e6dd5",
   "metadata": {},
   "source": [
    "* 정수 인덱스로 조회할 때는 iloc(integer position based) indexer를 사용한다."
   ]
  },
  {
   "cell_type": "code",
   "execution_count": null,
   "id": "e6d3dcbf-fc9c-4c6f-9dac-9a5319ae97f0",
   "metadata": {},
   "outputs": [],
   "source": [
    "df.iloc[0]  # 0은 위치(position)이며, 0 position의 행을 의미한다."
   ]
  },
  {
   "cell_type": "code",
   "execution_count": null,
   "id": "f4e4099b-c74e-48a2-b487-38d0836e0150",
   "metadata": {},
   "outputs": [],
   "source": [
    "df.iloc[0, 0]"
   ]
  },
  {
   "cell_type": "code",
   "execution_count": null,
   "id": "20df2d61-3f1b-41a8-8eb3-e3a82fc65e33",
   "metadata": {},
   "outputs": [],
   "source": [
    "s = df.iloc[:, 0] # 0 position 열"
   ]
  },
  {
   "cell_type": "code",
   "execution_count": null,
   "id": "0123cdc7-1aa4-4066-8150-a456939bb7ae",
   "metadata": {},
   "outputs": [],
   "source": [
    "s"
   ]
  },
  {
   "cell_type": "code",
   "execution_count": null,
   "id": "57ee5b76-537e-479d-bbd0-46fc9a4e2459",
   "metadata": {},
   "outputs": [],
   "source": [
    "# iloc를 이용한 슬라이싱도 메모리를 공유한다.\n",
    "np.may_share_memory(s, df)"
   ]
  },
  {
   "cell_type": "code",
   "execution_count": null,
   "id": "05a15d56-b685-437e-9458-1b161e22b7de",
   "metadata": {},
   "outputs": [],
   "source": [
    "df.iloc[0, 0] = 100"
   ]
  },
  {
   "cell_type": "code",
   "execution_count": null,
   "id": "eb617c4e-7e67-4132-96ee-76b979daecef",
   "metadata": {},
   "outputs": [],
   "source": [
    "df"
   ]
  },
  {
   "cell_type": "code",
   "execution_count": null,
   "id": "33470cf3-7a03-4850-b91c-33b2b42fbbbe",
   "metadata": {},
   "outputs": [],
   "source": [
    "s"
   ]
  },
  {
   "cell_type": "code",
   "execution_count": null,
   "id": "c80253c8-a921-4714-90a1-5e0f3efef0bb",
   "metadata": {},
   "outputs": [],
   "source": []
  }
 ],
 "metadata": {
  "kernelspec": {
   "display_name": "Python 3 (ipykernel)",
   "language": "python",
   "name": "python3"
  },
  "language_info": {
   "codemirror_mode": {
    "name": "ipython",
    "version": 3
   },
   "file_extension": ".py",
   "mimetype": "text/x-python",
   "name": "python",
   "nbconvert_exporter": "python",
   "pygments_lexer": "ipython3",
   "version": "3.9.13"
  }
 },
 "nbformat": 4,
 "nbformat_minor": 5
}
