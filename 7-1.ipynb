{
 "cells": [
  {
   "cell_type": "markdown",
   "id": "62e29d8e-560c-4438-a6ab-df7363c2d39f",
   "metadata": {},
   "source": [
    "# 수학 함수"
   ]
  },
  {
   "cell_type": "markdown",
   "id": "a185f657-11f0-4827-9d69-7898cf787e1c",
   "metadata": {
    "tags": []
   },
   "source": [
    "# 시그마와 파이 기호"
   ]
  },
  {
   "cell_type": "code",
   "execution_count": 1,
   "id": "374f5f8a-5559-4fdb-bae9-3aed58f90f65",
   "metadata": {},
   "outputs": [],
   "source": [
    "import numpy as np"
   ]
  },
  {
   "cell_type": "code",
   "execution_count": 2,
   "id": "01a3a027-90b5-416a-9228-4a7d148ab681",
   "metadata": {},
   "outputs": [
    {
     "data": {
      "text/plain": [
       "array([ 1.,  2.,  3.,  4.,  5.,  6.,  7.,  8.,  9., 10.])"
      ]
     },
     "execution_count": 2,
     "metadata": {},
     "output_type": "execute_result"
    }
   ],
   "source": [
    "# 1~10까지 10개의 원소를 가지는 배열 생성\n",
    "y = np.linspace(1, 10, 10)\n",
    "y"
   ]
  },
  {
   "cell_type": "markdown",
   "id": "4064baa6-e564-42b2-9741-aed8ddedefda",
   "metadata": {},
   "source": [
    "## 덧셈"
   ]
  },
  {
   "cell_type": "code",
   "execution_count": 3,
   "id": "017fc5f8-9114-47f5-9beb-44bf48916663",
   "metadata": {},
   "outputs": [
    {
     "data": {
      "text/plain": [
       "array([ 2.,  4.,  6.,  8., 10., 12., 14., 16., 18., 20.])"
      ]
     },
     "execution_count": 3,
     "metadata": {},
     "output_type": "execute_result"
    }
   ],
   "source": [
    "# 다차원 배열의 연산은 벡터화 연산\n",
    "y + y"
   ]
  },
  {
   "cell_type": "code",
   "execution_count": 4,
   "id": "9565add9-8c59-4743-90a7-a6cb0a41f24f",
   "metadata": {},
   "outputs": [
    {
     "data": {
      "text/plain": [
       "array([ 2.,  4.,  6.,  8., 10., 12., 14., 16., 18., 20.])"
      ]
     },
     "execution_count": 4,
     "metadata": {},
     "output_type": "execute_result"
    }
   ],
   "source": [
    "# 스페셜 메소드를 이용한 덧셈 연산\n",
    "y.__add__(y)"
   ]
  },
  {
   "cell_type": "code",
   "execution_count": 5,
   "id": "5f93f626-a162-4054-9ae2-cd9c48fabab0",
   "metadata": {},
   "outputs": [
    {
     "data": {
      "text/plain": [
       "array([ 2.,  4.,  6.,  8., 10., 12., 14., 16., 18., 20.])"
      ]
     },
     "execution_count": 5,
     "metadata": {},
     "output_type": "execute_result"
    }
   ],
   "source": [
    "# 메소드를 이용한 덧셈 연산\n",
    "np.add(y, y)"
   ]
  },
  {
   "cell_type": "markdown",
   "id": "e9d116b2-5204-40a7-b6db-506e12ebffbb",
   "metadata": {},
   "source": [
    "## 합"
   ]
  },
  {
   "cell_type": "code",
   "execution_count": 6,
   "id": "bbb5efff-e35d-470f-8512-b57efd210fc6",
   "metadata": {},
   "outputs": [
    {
     "data": {
      "text/plain": [
       "55.0"
      ]
     },
     "execution_count": 6,
     "metadata": {},
     "output_type": "execute_result"
    }
   ],
   "source": [
    "# 합\n",
    "y.sum()"
   ]
  },
  {
   "cell_type": "code",
   "execution_count": 7,
   "id": "8a992284-8ca3-4444-9718-95d01327ad7d",
   "metadata": {},
   "outputs": [
    {
     "data": {
      "text/plain": [
       "array([ 1.,  3.,  6., 10., 15., 21., 28., 36., 45., 55.])"
      ]
     },
     "execution_count": 7,
     "metadata": {},
     "output_type": "execute_result"
    }
   ],
   "source": [
    "# 누적 합산\n",
    "z = y.cumsum()\n",
    "z"
   ]
  },
  {
   "cell_type": "markdown",
   "id": "119c461f-1823-41a5-afc0-20c3b3452b0a",
   "metadata": {},
   "source": [
    "## 곱셈(product)"
   ]
  },
  {
   "cell_type": "code",
   "execution_count": 8,
   "id": "e7290ca7-f376-45be-95e1-9ebd7f53bf9b",
   "metadata": {},
   "outputs": [
    {
     "data": {
      "text/plain": [
       "3628800.0"
      ]
     },
     "execution_count": 8,
     "metadata": {},
     "output_type": "execute_result"
    }
   ],
   "source": [
    "# 곱셈\n",
    "y.prod()"
   ]
  },
  {
   "cell_type": "code",
   "execution_count": 9,
   "id": "188303e7-6229-43dd-984c-f7db79480dae",
   "metadata": {},
   "outputs": [
    {
     "data": {
      "text/plain": [
       "array([1.0000e+00, 2.0000e+00, 6.0000e+00, 2.4000e+01, 1.2000e+02,\n",
       "       7.2000e+02, 5.0400e+03, 4.0320e+04, 3.6288e+05, 3.6288e+06])"
      ]
     },
     "execution_count": 9,
     "metadata": {},
     "output_type": "execute_result"
    }
   ],
   "source": [
    "# 누적 곱셉\n",
    "w = y.cumprod()\n",
    "w"
   ]
  }
 ],
 "metadata": {
  "kernelspec": {
   "display_name": "Python 3 (ipykernel)",
   "language": "python",
   "name": "python3"
  },
  "language_info": {
   "codemirror_mode": {
    "name": "ipython",
    "version": 3
   },
   "file_extension": ".py",
   "mimetype": "text/x-python",
   "name": "python",
   "nbconvert_exporter": "python",
   "pygments_lexer": "ipython3",
   "version": "3.9.13"
  }
 },
 "nbformat": 4,
 "nbformat_minor": 5
}
