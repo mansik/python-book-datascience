{
 "cells": [
  {
   "cell_type": "markdown",
   "id": "a097c8e9-518d-4d8f-bb1e-ef1804273769",
   "metadata": {},
   "source": [
    "# 파이썬 함수"
   ]
  },
  {
   "cell_type": "markdown",
   "id": "3ae80fb6-ae9d-4196-ad69-ece8746d959a",
   "metadata": {},
   "source": [
    "## function definition"
   ]
  },
  {
   "cell_type": "code",
   "execution_count": 1,
   "id": "6bcdc1c2-641f-4bd1-81d0-4ce61ab218be",
   "metadata": {},
   "outputs": [],
   "source": [
    "\n",
    "def func(x):\n",
    "    return x"
   ]
  },
  {
   "cell_type": "markdown",
   "id": "d761326e-42f9-492d-a05b-faa869e37d6e",
   "metadata": {},
   "source": [
    "## use functions"
   ]
  },
  {
   "cell_type": "code",
   "execution_count": 2,
   "id": "baf6b519-e64c-4809-b0e6-3578134a1632",
   "metadata": {},
   "outputs": [
    {
     "data": {
      "text/plain": [
       "100"
      ]
     },
     "execution_count": 2,
     "metadata": {},
     "output_type": "execute_result"
    }
   ],
   "source": [
    "func(100)"
   ]
  },
  {
   "cell_type": "code",
   "execution_count": 3,
   "id": "6a841c4c-e8d1-4295-86f5-2c7f9823155c",
   "metadata": {},
   "outputs": [
    {
     "data": {
      "text/plain": [
       "100"
      ]
     },
     "execution_count": 3,
     "metadata": {},
     "output_type": "execute_result"
    }
   ],
   "source": [
    "x = func(100)\n",
    "x"
   ]
  },
  {
   "cell_type": "code",
   "execution_count": 4,
   "id": "d3457d74-0c60-4bb8-9500-eead94860dae",
   "metadata": {},
   "outputs": [
    {
     "data": {
      "text/plain": [
       "<function __main__.func(x)>"
      ]
     },
     "execution_count": 4,
     "metadata": {},
     "output_type": "execute_result"
    }
   ],
   "source": [
    "globals()['func']  # global namespace 에서 `func` 함수 확인"
   ]
  },
  {
   "cell_type": "code",
   "execution_count": 5,
   "id": "7b6e743a-8cc8-466e-8fe6-ce3cb5664a6f",
   "metadata": {},
   "outputs": [
    {
     "data": {
      "text/plain": [
       "100"
      ]
     },
     "execution_count": 5,
     "metadata": {},
     "output_type": "execute_result"
    }
   ],
   "source": [
    "globals()['x']"
   ]
  },
  {
   "cell_type": "code",
   "execution_count": 6,
   "id": "1f908eef-a2f9-462c-82c8-9cb3a1218749",
   "metadata": {},
   "outputs": [
    {
     "data": {
      "text/plain": [
       "True"
      ]
     },
     "execution_count": 6,
     "metadata": {},
     "output_type": "execute_result"
    }
   ],
   "source": [
    "globals()['func'] is func  # 정의문이 실행되면 전역이름공간에 함수 이름과 객체 저장"
   ]
  },
  {
   "cell_type": "markdown",
   "id": "2f9a7112-cdec-45d7-b0ee-f4cdfcc4f004",
   "metadata": {},
   "source": [
    "## Parameters, Arguments\n",
    "* Parameters = 매개 변수, 함수 정의에서 사용, 변수\n",
    "* Arguments = 인자, 함수 호출에서 사용, parameter로 전달되는 값"
   ]
  },
  {
   "cell_type": "code",
   "execution_count": 7,
   "id": "5e99f59b-cca1-41c1-be4d-da6a6a228a16",
   "metadata": {},
   "outputs": [],
   "source": [
    "def func_p(x=10, y=10):\n",
    "    return x + y"
   ]
  },
  {
   "cell_type": "code",
   "execution_count": 8,
   "id": "a26e2342-2040-4e32-a7a0-2bba03decb10",
   "metadata": {},
   "outputs": [
    {
     "data": {
      "text/plain": [
       "20"
      ]
     },
     "execution_count": 8,
     "metadata": {},
     "output_type": "execute_result"
    }
   ],
   "source": [
    "func_p()"
   ]
  },
  {
   "cell_type": "code",
   "execution_count": 9,
   "id": "558b068e-ff03-4d91-9a85-2985c8a092c5",
   "metadata": {},
   "outputs": [
    {
     "data": {
      "text/plain": [
       "110"
      ]
     },
     "execution_count": 9,
     "metadata": {},
     "output_type": "execute_result"
    }
   ],
   "source": [
    "func_p(100)"
   ]
  },
  {
   "cell_type": "code",
   "execution_count": 10,
   "id": "324bb06a-8566-4368-97f6-a24eef0abe5b",
   "metadata": {},
   "outputs": [
    {
     "data": {
      "text/plain": [
       "200"
      ]
     },
     "execution_count": 10,
     "metadata": {},
     "output_type": "execute_result"
    }
   ],
   "source": [
    "func_p(100, 100)"
   ]
  },
  {
   "cell_type": "code",
   "execution_count": 11,
   "id": "2ddfa322-99d6-4f6e-a90c-ee4da88f42c6",
   "metadata": {},
   "outputs": [
    {
     "data": {
      "text/plain": [
       "200"
      ]
     },
     "execution_count": 11,
     "metadata": {},
     "output_type": "execute_result"
    }
   ],
   "source": [
    "func_p(x=100, y=100)"
   ]
  },
  {
   "cell_type": "markdown",
   "id": "690aa303-470c-493b-aca7-ff905a537938",
   "metadata": {},
   "source": [
    "## func(args, *arguments, **keywords) parameter\n",
    "\n",
    "* args = general arguments, positional-or-keyword Arguments(value or key=value)\n",
    "* *arguments = tuple arguments, 여러 인자를 tuple로 받음, positional-only Arguments(values)\n",
    "* **keywords = dict arguments, 여러 키워드 인자를 dictionary로 받음, keyword-only Arguments(key=value)\n",
    "* 각 인자의 위치가 중요하다. **keywards는 매개변수의 마지막에 위치해야 한다."
   ]
  },
  {
   "cell_type": "code",
   "execution_count": 12,
   "id": "c430805d-61ba-4b74-9763-4f33d0467012",
   "metadata": {},
   "outputs": [],
   "source": [
    "*a, b = (1, 2, 3, 4)  # b에 1개의 값을 할당하고, a에 나머지를 list형으로 할당"
   ]
  },
  {
   "cell_type": "code",
   "execution_count": 13,
   "id": "a1eb34a2-eff2-4bca-be63-c4ac7fed88db",
   "metadata": {},
   "outputs": [
    {
     "data": {
      "text/plain": [
       "[1, 2, 3]"
      ]
     },
     "execution_count": 13,
     "metadata": {},
     "output_type": "execute_result"
    }
   ],
   "source": [
    "a"
   ]
  },
  {
   "cell_type": "code",
   "execution_count": 14,
   "id": "5e983648-73a5-40a1-93e3-b8b16bb58247",
   "metadata": {},
   "outputs": [
    {
     "data": {
      "text/plain": [
       "4"
      ]
     },
     "execution_count": 14,
     "metadata": {},
     "output_type": "execute_result"
    }
   ],
   "source": [
    "b"
   ]
  },
  {
   "cell_type": "markdown",
   "id": "433fe976-8c63-4511-ad27-6fdf9ccccf33",
   "metadata": {},
   "source": [
    "### args\n",
    "\n",
    " * args = general arguments, positional-or-keyword Arguments(value or key=value)"
   ]
  },
  {
   "cell_type": "code",
   "execution_count": 15,
   "id": "24f473ab-f9af-49e4-aa5f-8686306d0cae",
   "metadata": {},
   "outputs": [],
   "source": [
    "def func_gen(args):\n",
    "    return args"
   ]
  },
  {
   "cell_type": "code",
   "execution_count": 16,
   "id": "d0ff013e-d475-4603-bd7f-fd7d3756d423",
   "metadata": {},
   "outputs": [
    {
     "data": {
      "text/plain": [
       "10"
      ]
     },
     "execution_count": 16,
     "metadata": {},
     "output_type": "execute_result"
    }
   ],
   "source": [
    "func_gen(10)  # position arguments"
   ]
  },
  {
   "cell_type": "code",
   "execution_count": 17,
   "id": "cd05ddd9-a99e-4f01-9f0a-bec9f817a0f9",
   "metadata": {},
   "outputs": [
    {
     "data": {
      "text/plain": [
       "10"
      ]
     },
     "execution_count": 17,
     "metadata": {},
     "output_type": "execute_result"
    }
   ],
   "source": [
    "func_gen(args=10)  # keyword arguments"
   ]
  },
  {
   "cell_type": "markdown",
   "id": "efcbe3a2-43d9-4134-a524-81a809fe7bd7",
   "metadata": {},
   "source": [
    "### *arguments\n",
    "\n",
    "* *arguments = tuple arguments, 여러 인자를 tuple로 받음, positional-only Arguments(values)"
   ]
  },
  {
   "cell_type": "code",
   "execution_count": 18,
   "id": "4cb18f09-7753-4f68-a4aa-12327425edd6",
   "metadata": {},
   "outputs": [],
   "source": [
    "def var_arg(*args):\n",
    "    print(args)\n",
    "    return sum(args)"
   ]
  },
  {
   "cell_type": "code",
   "execution_count": 19,
   "id": "34322a61-56a1-4278-b631-a94ef2e87371",
   "metadata": {},
   "outputs": [
    {
     "name": "stdout",
     "output_type": "stream",
     "text": [
      "(1, 2, 3, 4, 5)\n"
     ]
    },
    {
     "data": {
      "text/plain": [
       "15"
      ]
     },
     "execution_count": 19,
     "metadata": {},
     "output_type": "execute_result"
    }
   ],
   "source": [
    "var_arg(1, 2, 3, 4, 5) # position arguments"
   ]
  },
  {
   "cell_type": "markdown",
   "id": "37f6569b-26d7-42f9-b9cc-e83b4e6a3d66",
   "metadata": {},
   "source": [
    "### **keywords\n",
    "\n",
    "* **keywords = dict arguments, 여러 키워드 인자를 dictionary로 받음, keyword-only Arguments(key=value)"
   ]
  },
  {
   "cell_type": "code",
   "execution_count": 20,
   "id": "6451044b-75e4-47c8-b802-33d261ac3362",
   "metadata": {},
   "outputs": [],
   "source": [
    "def var_kwarg(**kwargs):\n",
    "    print(kwargs)\n",
    "    print(*kwargs.values())\n",
    "    return sum([*kwargs.values()]) # dictionary의 값만을 가져와서 sum"
   ]
  },
  {
   "cell_type": "code",
   "execution_count": 21,
   "id": "f26f76c2-0930-4f91-bfcb-dcb857dec529",
   "metadata": {},
   "outputs": [
    {
     "name": "stdout",
     "output_type": "stream",
     "text": [
      "{'a': 1, 'b': 2}\n",
      "1 2\n"
     ]
    },
    {
     "data": {
      "text/plain": [
       "3"
      ]
     },
     "execution_count": 21,
     "metadata": {},
     "output_type": "execute_result"
    }
   ],
   "source": [
    "var_kwarg(a=1, b=2)  # keyword arguments"
   ]
  },
  {
   "cell_type": "markdown",
   "id": "16bc1ecb-ab98-4b27-98c9-0ff0a159ef86",
   "metadata": {},
   "source": [
    "### keywords arguments는 매개변수의 마지막에 위치 "
   ]
  },
  {
   "cell_type": "code",
   "execution_count": 22,
   "id": "2b88b799-dd18-48c4-830a-9efa68a7a90a",
   "metadata": {},
   "outputs": [],
   "source": [
    "def var_args(gen, *args, **kwargs):\n",
    "    print(gen)\n",
    "    print(args)\n",
    "    print(kwargs)\n",
    "    args = list(args) + [*kwargs.values()]\n",
    "    # args = list(args) + list(kwargs.values())\n",
    "    return sum(args)"
   ]
  },
  {
   "cell_type": "code",
   "execution_count": 23,
   "id": "6fc378f5-9b13-46f5-9dd8-716bc3ef8333",
   "metadata": {},
   "outputs": [
    {
     "name": "stdout",
     "output_type": "stream",
     "text": [
      "0\n",
      "(1, 2, 3, 4, 5)\n",
      "{'a': 1, 'b': 2}\n"
     ]
    },
    {
     "data": {
      "text/plain": [
       "18"
      ]
     },
     "execution_count": 23,
     "metadata": {},
     "output_type": "execute_result"
    }
   ],
   "source": [
    "var_args(0, 1, 2, 3, 4, 5, a=1, b=2)"
   ]
  },
  {
   "cell_type": "code",
   "execution_count": null,
   "id": "888d2015-7799-474b-a8c5-ea963913414b",
   "metadata": {},
   "outputs": [],
   "source": []
  }
 ],
 "metadata": {
  "kernelspec": {
   "display_name": "Python 3 (ipykernel)",
   "language": "python",
   "name": "python3"
  },
  "language_info": {
   "codemirror_mode": {
    "name": "ipython",
    "version": 3
   },
   "file_extension": ".py",
   "mimetype": "text/x-python",
   "name": "python",
   "nbconvert_exporter": "python",
   "pygments_lexer": "ipython3",
   "version": "3.9.13"
  }
 },
 "nbformat": 4,
 "nbformat_minor": 5
}
