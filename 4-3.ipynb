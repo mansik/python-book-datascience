{
 "cells": [
  {
   "cell_type": "markdown",
   "id": "c686abb6-55d3-4590-9926-218a09bbf546",
   "metadata": {},
   "source": [
    "# 시리즈와 데이터프레임의 자료형 관리 기준"
   ]
  },
  {
   "cell_type": "markdown",
   "id": "f3bc5847-041f-4ebb-9e8d-336675c8d0a3",
   "metadata": {},
   "source": [
    "* 판다스내의 시리즈나 데이터프레임도 넘파이의 다차원 배열처럼 다양한 자료형을 처리한다.\n",
    "* 판다스의 모듈은 넘파이의 자료형을 기반으로 추가적인 자료형을 만든다."
   ]
  },
  {
   "cell_type": "code",
   "execution_count": 1,
   "id": "65e268c1-c85c-4f1e-ac2a-203ef06b1660",
   "metadata": {},
   "outputs": [],
   "source": [
    "import pandas as pd\n",
    "import numpy as np"
   ]
  },
  {
   "cell_type": "markdown",
   "id": "5b80083a-dd70-4c3a-a29e-84af1bc5aef8",
   "metadata": {},
   "source": [
    "## 데이터프레임의 자료형 변경"
   ]
  },
  {
   "cell_type": "code",
   "execution_count": 2,
   "id": "ac4aede4-d4c4-4c99-bc58-fdfc7a6158b7",
   "metadata": {},
   "outputs": [],
   "source": [
    "# 2차원 배열을 리스트로 만들려면 리스트 내부에 리스트를 넣어 리스트 객체를 만든다.\n",
    "data = [[1, 3], [4, 5]]"
   ]
  },
  {
   "cell_type": "code",
   "execution_count": 3,
   "id": "9667ccfa-8bb7-4092-8a3d-72cd73156702",
   "metadata": {},
   "outputs": [],
   "source": [
    "# 열의 레이블을 리스트로 생성\n",
    "columns = ['a', 'b']"
   ]
  },
  {
   "cell_type": "code",
   "execution_count": 4,
   "id": "9ae7021b-2c8d-4798-a08a-282115f9458a",
   "metadata": {},
   "outputs": [],
   "source": [
    "df_ = pd.DataFrame(data=data, columns=columns) # 데이터프레임의 data, columns 매개변수에 지정해서 객체 생성"
   ]
  },
  {
   "cell_type": "code",
   "execution_count": 5,
   "id": "4c4a2248-ef74-4a6a-8873-3bf6df9bc2b2",
   "metadata": {},
   "outputs": [
    {
     "data": {
      "text/plain": [
       "a    int64\n",
       "b    int64\n",
       "dtype: object"
      ]
     },
     "execution_count": 5,
     "metadata": {},
     "output_type": "execute_result"
    }
   ],
   "source": [
    "df_.dtypes  # 데이터프레임의 자료형 확인"
   ]
  },
  {
   "cell_type": "code",
   "execution_count": 6,
   "id": "6a07ccb9-35f5-45bb-820a-8300ba868c97",
   "metadata": {},
   "outputs": [],
   "source": [
    "# 여러 열의 자료형을 변경시 dict를 사용\n",
    "# 자료형은 넘파이의 자료형 또는 파이썬의 자료형 사용\n",
    "df_c = df_.astype({'a': str, 'b': np.int32}) # str은 파이썬의 자료형, np.int32는 넘파이의 자료형\n",
    "# df_c = df_.astype({'a': 'str', 'b': 'int32'}) # 'str', 'int32'는 넘파이 자료형"
   ]
  },
  {
   "cell_type": "code",
   "execution_count": 7,
   "id": "c7b252a1-f3ba-4a1b-8962-8bd2ca6e9cea",
   "metadata": {},
   "outputs": [
    {
     "data": {
      "text/plain": [
       "a    object\n",
       "b     int32\n",
       "dtype: object"
      ]
     },
     "execution_count": 7,
     "metadata": {},
     "output_type": "execute_result"
    }
   ],
   "source": [
    "df_c.dtypes \n",
    "# pandas에서 str은 object이다."
   ]
  },
  {
   "cell_type": "markdown",
   "id": "45b3c7b7-a625-4f89-af11-c0f8fc032ef1",
   "metadata": {},
   "source": [
    "## 시리즈로 데이터프레임 만들기"
   ]
  },
  {
   "cell_type": "code",
   "execution_count": 8,
   "id": "cd2c5f63-6ef4-4bea-9967-21c0d572fa48",
   "metadata": {},
   "outputs": [],
   "source": [
    "# dict에 열이름을 키로, 시리즈 객체를 값으로 한다.\n",
    "df = pd.DataFrame({'a': pd.Series([1, 2, 3], dtype='int'),\n",
    "                   'b': pd.Series([7, 8, 9], dtype='float')})"
   ]
  },
  {
   "cell_type": "code",
   "execution_count": 9,
   "id": "e5f978f3-4649-4267-bf03-dbb70daef247",
   "metadata": {},
   "outputs": [
    {
     "data": {
      "text/plain": [
       "a      int32\n",
       "b    float64\n",
       "dtype: object"
      ]
     },
     "execution_count": 9,
     "metadata": {},
     "output_type": "execute_result"
    }
   ],
   "source": [
    "df.dtypes"
   ]
  },
  {
   "cell_type": "code",
   "execution_count": 10,
   "id": "97d7bf85-150e-4dd7-8f16-3a51115df1cc",
   "metadata": {},
   "outputs": [
    {
     "data": {
      "text/html": [
       "<div>\n",
       "<style scoped>\n",
       "    .dataframe tbody tr th:only-of-type {\n",
       "        vertical-align: middle;\n",
       "    }\n",
       "\n",
       "    .dataframe tbody tr th {\n",
       "        vertical-align: top;\n",
       "    }\n",
       "\n",
       "    .dataframe thead th {\n",
       "        text-align: right;\n",
       "    }\n",
       "</style>\n",
       "<table border=\"1\" class=\"dataframe\">\n",
       "  <thead>\n",
       "    <tr style=\"text-align: right;\">\n",
       "      <th></th>\n",
       "      <th>a</th>\n",
       "      <th>b</th>\n",
       "    </tr>\n",
       "  </thead>\n",
       "  <tbody>\n",
       "    <tr>\n",
       "      <th>0</th>\n",
       "      <td>1</td>\n",
       "      <td>7.0</td>\n",
       "    </tr>\n",
       "    <tr>\n",
       "      <th>1</th>\n",
       "      <td>2</td>\n",
       "      <td>8.0</td>\n",
       "    </tr>\n",
       "    <tr>\n",
       "      <th>2</th>\n",
       "      <td>3</td>\n",
       "      <td>9.0</td>\n",
       "    </tr>\n",
       "  </tbody>\n",
       "</table>\n",
       "</div>"
      ],
      "text/plain": [
       "   a    b\n",
       "0  1  7.0\n",
       "1  2  8.0\n",
       "2  3  9.0"
      ]
     },
     "execution_count": 10,
     "metadata": {},
     "output_type": "execute_result"
    }
   ],
   "source": [
    "df"
   ]
  },
  {
   "cell_type": "markdown",
   "id": "3050eda6-3fe0-4ed3-a4ef-2ff2750d0238",
   "metadata": {},
   "source": [
    "## 하나의 열만 자료형 변경"
   ]
  },
  {
   "cell_type": "code",
   "execution_count": 11,
   "id": "7d28c3b4-c852-4fe4-b3d4-e5e11eb26742",
   "metadata": {},
   "outputs": [],
   "source": [
    "data = pd.DataFrame({'date': [2016, 2017, 2018, 2019],\n",
    "                     'type': ['A', 'B', 'C', 'D']}) "
   ]
  },
  {
   "cell_type": "code",
   "execution_count": 12,
   "id": "8e2953a3-b137-4a8b-845e-58f070a3c26e",
   "metadata": {},
   "outputs": [
    {
     "data": {
      "text/html": [
       "<div>\n",
       "<style scoped>\n",
       "    .dataframe tbody tr th:only-of-type {\n",
       "        vertical-align: middle;\n",
       "    }\n",
       "\n",
       "    .dataframe tbody tr th {\n",
       "        vertical-align: top;\n",
       "    }\n",
       "\n",
       "    .dataframe thead th {\n",
       "        text-align: right;\n",
       "    }\n",
       "</style>\n",
       "<table border=\"1\" class=\"dataframe\">\n",
       "  <thead>\n",
       "    <tr style=\"text-align: right;\">\n",
       "      <th></th>\n",
       "      <th>date</th>\n",
       "      <th>type</th>\n",
       "    </tr>\n",
       "  </thead>\n",
       "  <tbody>\n",
       "    <tr>\n",
       "      <th>0</th>\n",
       "      <td>2016</td>\n",
       "      <td>A</td>\n",
       "    </tr>\n",
       "    <tr>\n",
       "      <th>1</th>\n",
       "      <td>2017</td>\n",
       "      <td>B</td>\n",
       "    </tr>\n",
       "    <tr>\n",
       "      <th>2</th>\n",
       "      <td>2018</td>\n",
       "      <td>C</td>\n",
       "    </tr>\n",
       "    <tr>\n",
       "      <th>3</th>\n",
       "      <td>2019</td>\n",
       "      <td>D</td>\n",
       "    </tr>\n",
       "  </tbody>\n",
       "</table>\n",
       "</div>"
      ],
      "text/plain": [
       "   date type\n",
       "0  2016    A\n",
       "1  2017    B\n",
       "2  2018    C\n",
       "3  2019    D"
      ]
     },
     "execution_count": 12,
     "metadata": {},
     "output_type": "execute_result"
    }
   ],
   "source": [
    "data"
   ]
  },
  {
   "cell_type": "code",
   "execution_count": 13,
   "id": "a19ce253-bd77-4392-be3a-a2f5b255d0ff",
   "metadata": {},
   "outputs": [
    {
     "data": {
      "text/plain": [
       "date     int64\n",
       "type    object\n",
       "dtype: object"
      ]
     },
     "execution_count": 13,
     "metadata": {},
     "output_type": "execute_result"
    }
   ],
   "source": [
    "data.dtypes\n",
    "# 판다스에서 문자열은 object이다."
   ]
  },
  {
   "cell_type": "code",
   "execution_count": 14,
   "id": "534861cf-18e4-48ad-884f-38cf0485c07b",
   "metadata": {},
   "outputs": [],
   "source": [
    "# 하나의 열만 자료형 변경\n",
    "data['date'] = data['date'].astype('float') # 'float'은 파이썬의 자료형"
   ]
  },
  {
   "cell_type": "code",
   "execution_count": 15,
   "id": "4cdee49f-2380-4e9d-826d-1af33d6c2ac2",
   "metadata": {},
   "outputs": [
    {
     "data": {
      "text/plain": [
       "date    float64\n",
       "type     object\n",
       "dtype: object"
      ]
     },
     "execution_count": 15,
     "metadata": {},
     "output_type": "execute_result"
    }
   ],
   "source": [
    "data.dtypes"
   ]
  },
  {
   "cell_type": "code",
   "execution_count": null,
   "id": "ea492ea3-0768-429e-9062-cc37ca8d99a3",
   "metadata": {},
   "outputs": [],
   "source": []
  },
  {
   "cell_type": "code",
   "execution_count": null,
   "id": "7c1e133a-05e1-4586-b8d1-077af74b9af5",
   "metadata": {},
   "outputs": [],
   "source": []
  }
 ],
 "metadata": {
  "kernelspec": {
   "display_name": "Python 3 (ipykernel)",
   "language": "python",
   "name": "python3"
  },
  "language_info": {
   "codemirror_mode": {
    "name": "ipython",
    "version": 3
   },
   "file_extension": ".py",
   "mimetype": "text/x-python",
   "name": "python",
   "nbconvert_exporter": "python",
   "pygments_lexer": "ipython3",
   "version": "3.9.13"
  }
 },
 "nbformat": 4,
 "nbformat_minor": 5
}
