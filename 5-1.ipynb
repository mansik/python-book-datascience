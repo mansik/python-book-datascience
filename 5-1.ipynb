{
 "cells": [
  {
   "cell_type": "markdown",
   "id": "4a134a66-f10f-4bcf-b615-a5ca35dadab0",
   "metadata": {},
   "source": [
    "# 데이터 구조 접근하기\n",
    "\n",
    "* 배열을 인자로 처리하는 팬시 검색(Fancy indexing)과 논리 검색(Boolean Indexing)"
   ]
  },
  {
   "cell_type": "markdown",
   "id": "b749cc47-5c26-4079-a922-de2584c7e672",
   "metadata": {},
   "source": [
    "# 다차원 배열(numpy.array) 팬시 검색과 논리 검색"
   ]
  },
  {
   "cell_type": "code",
   "execution_count": 1,
   "id": "94b07338-9e3c-443f-893a-b559cbd0b71f",
   "metadata": {},
   "outputs": [],
   "source": [
    "import numpy as np"
   ]
  },
  {
   "cell_type": "markdown",
   "id": "12b77da9-dc82-4324-bfa1-aa7252c57b6d",
   "metadata": {},
   "source": [
    "## 팬시 검색"
   ]
  },
  {
   "cell_type": "markdown",
   "id": "e77193bc-f83e-4e03-b591-d243c953cd32",
   "metadata": {},
   "source": [
    "### 2차원 배열 만들기"
   ]
  },
  {
   "cell_type": "code",
   "execution_count": 2,
   "id": "1ff282cf-5837-42ba-95ea-f71172913535",
   "metadata": {},
   "outputs": [],
   "source": [
    "# 3행 3열 배열\n",
    "a = np.array([[1, 2, 3],\n",
    "              [4, 5, 6], \n",
    "              [7, 8, 9]\n",
    "             ])"
   ]
  },
  {
   "cell_type": "code",
   "execution_count": 3,
   "id": "d37288f1-76f0-4141-86f6-acfbcb6a8da9",
   "metadata": {},
   "outputs": [
    {
     "data": {
      "text/plain": [
       "array([[1, 2, 3],\n",
       "       [4, 5, 6],\n",
       "       [7, 8, 9]])"
      ]
     },
     "execution_count": 3,
     "metadata": {},
     "output_type": "execute_result"
    }
   ],
   "source": [
    "a"
   ]
  },
  {
   "cell_type": "code",
   "execution_count": 4,
   "id": "10d786d9-7867-409e-b05f-a5de2c857358",
   "metadata": {},
   "outputs": [
    {
     "name": "stdout",
     "output_type": "stream",
     "text": [
      "[[1 2 3]\n",
      " [4 5 6]\n",
      " [7 8 9]]\n"
     ]
    }
   ],
   "source": [
    "print(a)"
   ]
  },
  {
   "cell_type": "markdown",
   "id": "4a739c30-19b4-412a-a5e4-529de5ed842b",
   "metadata": {},
   "source": [
    "### 행을 중심으로 팬시 검색\n",
    "\n",
    "* 한개의 리스트를 색인 연산의 인자로 전달\n",
    "* 행을 2차원 배열로 반환"
   ]
  },
  {
   "cell_type": "code",
   "execution_count": 5,
   "id": "b615d43d-1eb4-4d80-afdb-50a98ad5f45a",
   "metadata": {},
   "outputs": [
    {
     "data": {
      "text/plain": [
       "array([1, 2, 3])"
      ]
     },
     "execution_count": 5,
     "metadata": {},
     "output_type": "execute_result"
    }
   ],
   "source": [
    "a[0] # 첫 번째 행의 1차원 배열을 조회"
   ]
  },
  {
   "cell_type": "code",
   "execution_count": 6,
   "id": "402c6307-ecd3-4056-a396-13a293a49cc0",
   "metadata": {},
   "outputs": [
    {
     "data": {
      "text/plain": [
       "array([[1, 2, 3]])"
      ]
     },
     "execution_count": 6,
     "metadata": {},
     "output_type": "execute_result"
    }
   ],
   "source": [
    "# 팬시 검색: 리스트를 색인 연산의 인자로 전달, 0행인 2차원 배열을 반환\n",
    "a[[0]]"
   ]
  },
  {
   "cell_type": "code",
   "execution_count": 7,
   "id": "f42f8a20-dcb5-4018-a842-b4e44cb960dc",
   "metadata": {},
   "outputs": [
    {
     "data": {
      "text/plain": [
       "3"
      ]
     },
     "execution_count": 7,
     "metadata": {},
     "output_type": "execute_result"
    }
   ],
   "source": [
    "# 0행, 2열의 값\n",
    "a[0,2]"
   ]
  },
  {
   "cell_type": "code",
   "execution_count": 8,
   "id": "a0a4bf42-62be-4513-b8cf-f2a045f54c06",
   "metadata": {},
   "outputs": [
    {
     "data": {
      "text/plain": [
       "array([[1, 2, 3],\n",
       "       [7, 8, 9]])"
      ]
     },
     "execution_count": 8,
     "metadata": {},
     "output_type": "execute_result"
    }
   ],
   "source": [
    "# 팬시 검색: 0행과 2행을 가진 2차원 배열을 반환\n",
    "a[[0,2]]"
   ]
  },
  {
   "cell_type": "code",
   "execution_count": 9,
   "id": "9234e1bb-69a8-4010-8cde-12a4a61db0f4",
   "metadata": {},
   "outputs": [
    {
     "name": "stdout",
     "output_type": "stream",
     "text": [
      "index 3 is out of bounds for axis 0 with size 3\n"
     ]
    }
   ],
   "source": [
    "# 범위를 벗어나면 오류\n",
    "try:\n",
    "    a[[3]]\n",
    "except Exception as e:\n",
    "    print(e)"
   ]
  },
  {
   "cell_type": "markdown",
   "id": "3a2a9b63-7750-4ffa-910a-4350ba7cc5b6",
   "metadata": {},
   "source": [
    "### 행과 열을 조합한 팬시검색"
   ]
  },
  {
   "cell_type": "code",
   "execution_count": 10,
   "id": "c43621f1-af10-4913-b849-a7d662350551",
   "metadata": {},
   "outputs": [
    {
     "data": {
      "text/plain": [
       "array([[1, 2, 3],\n",
       "       [7, 8, 9]])"
      ]
     },
     "execution_count": 10,
     "metadata": {},
     "output_type": "execute_result"
    }
   ],
   "source": [
    "# 0행, 2행 조회\n",
    "b = a[[0,2]]\n",
    "b"
   ]
  },
  {
   "cell_type": "code",
   "execution_count": 11,
   "id": "38cc9abd-1e7a-4d45-9c5b-aea9d1e2b1d8",
   "metadata": {},
   "outputs": [
    {
     "data": {
      "text/plain": [
       "array([[1, 3],\n",
       "       [7, 9]])"
      ]
     },
     "execution_count": 11,
     "metadata": {},
     "output_type": "execute_result"
    }
   ],
   "source": [
    "# 모든행, 0,2열 조회\n",
    "b[:, [0,2]]"
   ]
  },
  {
   "cell_type": "markdown",
   "id": "21e7b439-7361-41b0-9710-563443c5cd9c",
   "metadata": {},
   "source": [
    "### 두 개의 팬시 검색을 행과 열에 전달"
   ]
  },
  {
   "cell_type": "code",
   "execution_count": 12,
   "id": "4de341f7-31a7-4e31-9890-e9e602dff8cd",
   "metadata": {},
   "outputs": [
    {
     "data": {
      "text/plain": [
       "array([1, 9])"
      ]
     },
     "execution_count": 12,
     "metadata": {},
     "output_type": "execute_result"
    }
   ],
   "source": [
    "# 두개의 리스트를 사용하면 다차원 배열이 만들어 지지 않는다.\n",
    "# 순서쌍을 만들어서 해당하는 원소만 팬시 검색으로 처리한다.\n",
    "# 0행 0열, 2행 2열의 값을 조회\n",
    "a[[0,2], [0,2]]"
   ]
  },
  {
   "cell_type": "code",
   "execution_count": 13,
   "id": "297ff57b-b2fb-423b-a6aa-357bb4a06d89",
   "metadata": {},
   "outputs": [
    {
     "data": {
      "text/plain": [
       "array([[1, 3],\n",
       "       [7, 9]])"
      ]
     },
     "execution_count": 13,
     "metadata": {},
     "output_type": "execute_result"
    }
   ],
   "source": [
    "# 두 개의 행과 두 개의 열을 검색하려면 np.ix_함수를 사용하여야 한다.\n",
    "# 앞[]의 첫 번째 인수인 0을 뒤의[]에 각각 대입한 list 값 [[0,0], (0,2)]\n",
    "# 앞[]의 두 번째 인수인 2를 뒤의[]에 각각 대입한 list 값 [(2,0), (2,2)]\n",
    "a[np.ix_([0,2], [0,2])]"
   ]
  },
  {
   "cell_type": "code",
   "execution_count": 14,
   "id": "e3032746-e287-4670-932b-1720a3eea124",
   "metadata": {},
   "outputs": [
    {
     "data": {
      "text/plain": [
       "(array([[0],\n",
       "        [2]]),\n",
       " array([[0, 2]]))"
      ]
     },
     "execution_count": 14,
     "metadata": {},
     "output_type": "execute_result"
    }
   ],
   "source": [
    "np.ix_([0,2], [0,2])"
   ]
  },
  {
   "cell_type": "code",
   "execution_count": 15,
   "id": "31cb04e4-0e8d-4061-9f0b-ed1688deee0d",
   "metadata": {},
   "outputs": [
    {
     "data": {
      "text/plain": [
       "array([['2', '3'],\n",
       "       ['8', '9'],\n",
       "       ['b', 'c']], dtype='<U11')"
      ]
     },
     "execution_count": 15,
     "metadata": {},
     "output_type": "execute_result"
    }
   ],
   "source": [
    "p = np.array([[1, 2, 3],\n",
    "              [4, 5, 6], \n",
    "              [7, 8, 9],\n",
    "              ['a', 'b', 'c'] \n",
    "             ])\n",
    "p[np.ix_([0,2,3], [1,2])]"
   ]
  },
  {
   "cell_type": "code",
   "execution_count": 16,
   "id": "a4b031cd-f19a-412f-89ab-19b192d7f243",
   "metadata": {},
   "outputs": [
    {
     "data": {
      "text/plain": [
       "(array([[0],\n",
       "        [2],\n",
       "        [3]]),\n",
       " array([[1, 2]]))"
      ]
     },
     "execution_count": 16,
     "metadata": {},
     "output_type": "execute_result"
    }
   ],
   "source": [
    "np.ix_([0,2,3], [1,2])"
   ]
  },
  {
   "cell_type": "markdown",
   "id": "aebe44b0-684f-416c-9aec-17f70adfbb92",
   "metadata": {},
   "source": [
    "### 팬시 검색은 새로운 배열 사본을 생성하여, 메모리를 공유하지 않는다."
   ]
  },
  {
   "cell_type": "code",
   "execution_count": 17,
   "id": "2ace1070-9914-4029-a5ec-8e089043e332",
   "metadata": {},
   "outputs": [],
   "source": [
    "c = a[np.ix_([0,2], [0,2])]"
   ]
  },
  {
   "cell_type": "code",
   "execution_count": 18,
   "id": "55819ba3-6233-4947-be9e-8b5f866b02cc",
   "metadata": {},
   "outputs": [
    {
     "data": {
      "text/plain": [
       "False"
      ]
     },
     "execution_count": 18,
     "metadata": {},
     "output_type": "execute_result"
    }
   ],
   "source": [
    "# 메모리 공유하는지 확인\n",
    "np.may_share_memory(c, a) # 메모리를 공유하지 않는다."
   ]
  },
  {
   "cell_type": "markdown",
   "id": "e78194f1-11e0-4e39-9616-31ea1a6b2cf8",
   "metadata": {},
   "source": [
    "## 논리 검색"
   ]
  },
  {
   "cell_type": "markdown",
   "id": "0fa01f06-4ed6-43cc-854d-0ad222aacbc9",
   "metadata": {},
   "source": [
    "* 다차원 배열은 비교 연산과 관계 연산을 사용해 검색할 수 있다."
   ]
  },
  {
   "cell_type": "markdown",
   "id": "abfae6fc-6df2-4564-a31c-8af90f3f9ed0",
   "metadata": {},
   "source": [
    "### 논리식 적용"
   ]
  },
  {
   "cell_type": "code",
   "execution_count": 19,
   "id": "1dc58781-477d-4825-a906-5f497d46943c",
   "metadata": {},
   "outputs": [
    {
     "data": {
      "text/plain": [
       "array([[1, 2, 3],\n",
       "       [4, 5, 6],\n",
       "       [7, 8, 9]])"
      ]
     },
     "execution_count": 19,
     "metadata": {},
     "output_type": "execute_result"
    }
   ],
   "source": [
    "a"
   ]
  },
  {
   "cell_type": "code",
   "execution_count": 20,
   "id": "279b2327-a76f-4e3d-ac09-68527648319d",
   "metadata": {},
   "outputs": [
    {
     "data": {
      "text/plain": [
       "array([[False, False, False],\n",
       "       [False, False,  True],\n",
       "       [ True,  True,  True]])"
      ]
     },
     "execution_count": 20,
     "metadata": {},
     "output_type": "execute_result"
    }
   ],
   "source": [
    "# 원소별로 비교\n",
    "a > 5  # 5보다 크면 True"
   ]
  },
  {
   "cell_type": "markdown",
   "id": "add4fd15-9049-4fd2-acbb-dd0fed1b6b76",
   "metadata": {},
   "source": [
    "### 논리식을 색인 연산에 넣기"
   ]
  },
  {
   "cell_type": "code",
   "execution_count": 21,
   "id": "9a7449ed-b598-4b78-b451-4be85e63eab8",
   "metadata": {},
   "outputs": [
    {
     "data": {
      "text/plain": [
       "array([6, 7, 8, 9])"
      ]
     },
     "execution_count": 21,
     "metadata": {},
     "output_type": "execute_result"
    }
   ],
   "source": [
    "# 조건을 만족하는 결과(True)만 조회\n",
    "a[a>5]"
   ]
  },
  {
   "cell_type": "markdown",
   "id": "35f03c11-d8a7-46fe-9828-cc9a5e187eb4",
   "metadata": {},
   "source": [
    "### 논리 연산을 묶어서 처리"
   ]
  },
  {
   "cell_type": "code",
   "execution_count": 22,
   "id": "15311de6-03e6-4fec-a8b7-2587483ec9e7",
   "metadata": {},
   "outputs": [
    {
     "data": {
      "text/plain": [
       "array([[False, False, False],\n",
       "       [False, False,  True],\n",
       "       [ True, False, False]])"
      ]
     },
     "execution_count": 22,
     "metadata": {},
     "output_type": "execute_result"
    }
   ],
   "source": [
    "# 5보다 크고 8보다 작은 값을 True\n",
    "(a>5) & (a<8)"
   ]
  },
  {
   "cell_type": "code",
   "execution_count": 23,
   "id": "487a10a6-ddf0-433f-a88d-36dda2d60901",
   "metadata": {},
   "outputs": [
    {
     "data": {
      "text/plain": [
       "array([6, 7])"
      ]
     },
     "execution_count": 23,
     "metadata": {},
     "output_type": "execute_result"
    }
   ],
   "source": [
    "# 조건을 만족하는 결과(True)만 조회\n",
    "a[(a>5) & (a<8)]"
   ]
  },
  {
   "cell_type": "markdown",
   "id": "2df8bb00-a712-4d27-9260-b0dc2ce49324",
   "metadata": {},
   "source": [
    "### 논리 검색은 새로운 배열 사본을 생성하여, 메모리를 공유하지 않는다."
   ]
  },
  {
   "cell_type": "code",
   "execution_count": 24,
   "id": "45a3afad-4dd6-4b86-8684-91e0c428b1d4",
   "metadata": {},
   "outputs": [],
   "source": [
    "d = a[(a>5) & (a<8)] "
   ]
  },
  {
   "cell_type": "code",
   "execution_count": 25,
   "id": "ddfa1984-964d-4473-99cf-fc50636416f1",
   "metadata": {},
   "outputs": [
    {
     "data": {
      "text/plain": [
       "False"
      ]
     },
     "execution_count": 25,
     "metadata": {},
     "output_type": "execute_result"
    }
   ],
   "source": [
    "# 메모리 공유하는지 확인\n",
    "np.may_share_memory(d, a)  # 메모리를 공유하지 않는다."
   ]
  },
  {
   "cell_type": "markdown",
   "id": "82150a7e-e05a-41e1-ac19-be9996150e05",
   "metadata": {},
   "source": [
    "### 검색연산자 내에 관계연산자 사용은 안된다."
   ]
  },
  {
   "cell_type": "code",
   "execution_count": 26,
   "id": "f0417ec1-76da-419a-ad43-2beba981123f",
   "metadata": {},
   "outputs": [
    {
     "name": "stdout",
     "output_type": "stream",
     "text": [
      "The truth value of an array with more than one element is ambiguous. Use a.any() or a.all()\n"
     ]
    }
   ],
   "source": [
    "try:\n",
    "    a[(a>5) and (a<8)]\n",
    "except Exception as e:\n",
    "    print(e)"
   ]
  },
  {
   "cell_type": "code",
   "execution_count": null,
   "id": "ce687381-b5be-4218-ab8d-0ee7a4b4deaa",
   "metadata": {},
   "outputs": [],
   "source": []
  }
 ],
 "metadata": {
  "kernelspec": {
   "display_name": "Python 3 (ipykernel)",
   "language": "python",
   "name": "python3"
  },
  "language_info": {
   "codemirror_mode": {
    "name": "ipython",
    "version": 3
   },
   "file_extension": ".py",
   "mimetype": "text/x-python",
   "name": "python",
   "nbconvert_exporter": "python",
   "pygments_lexer": "ipython3",
   "version": "3.9.13"
  }
 },
 "nbformat": 4,
 "nbformat_minor": 5
}
