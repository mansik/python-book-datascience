{
 "cells": [
  {
   "cell_type": "markdown",
   "id": "1fb71ac3-a2e6-48bf-be3b-f7da7e328c44",
   "metadata": {},
   "source": [
    "# 넘파이 모듈의 다차원 배열"
   ]
  },
  {
   "cell_type": "markdown",
   "id": "c9c7ba89-a712-4266-b98e-700f2f554891",
   "metadata": {},
   "source": [
    "> 아래 내용은 다차원 배열이 어떻게 만들어지고 내부를 어떻게 구성하는지의 내용으로  \n",
    "> 이해하지 않아도 사용하는데는 문제 될 것이 없다."
   ]
  },
  {
   "cell_type": "markdown",
   "id": "52918bbd-31a3-46b1-bdef-c819a9ad878f",
   "metadata": {},
   "source": [
    "* 넘파이 모듈은 같은 클래스의 객체를 다차원적으로 표현하는 데이터 구조이다.\n",
    "* 이로 인해 선형대수 등을 처리한다.\n",
    "* 이 모듈에서 다차원 배열을 객체로 만드는 클래스는 ndarray이다.\n",
    "* 또한 순환문 없이 원소를 계산하는 벡터화를 지원하는 유니버설 함수도 지원한다."
   ]
  },
  {
   "cell_type": "markdown",
   "id": "2ba00469-0c91-4caf-aa82-2759e76968e2",
   "metadata": {},
   "source": [
    "# 넘파이 모듈 import"
   ]
  },
  {
   "cell_type": "code",
   "execution_count": 1,
   "id": "15121b9f-b4c9-44af-9b61-be6ebb8739b4",
   "metadata": {},
   "outputs": [],
   "source": [
    "import numpy as np"
   ]
  },
  {
   "cell_type": "code",
   "execution_count": 2,
   "id": "565de0ea-2018-4e44-864c-8ec202f50ec1",
   "metadata": {},
   "outputs": [
    {
     "data": {
      "text/plain": [
       "'1.21.5'"
      ]
     },
     "execution_count": 2,
     "metadata": {},
     "output_type": "execute_result"
    }
   ],
   "source": [
    "np.__version__"
   ]
  },
  {
   "cell_type": "markdown",
   "id": "e6d5d9f6-87f7-4727-82de-92c9cefe734f",
   "metadata": {},
   "source": [
    "## 다차원 배열 생성"
   ]
  },
  {
   "cell_type": "code",
   "execution_count": 3,
   "id": "b662b664-97d5-4b01-b12d-ec846428c841",
   "metadata": {},
   "outputs": [],
   "source": [
    "a = np.array([1, 2, 3, 4])"
   ]
  },
  {
   "cell_type": "code",
   "execution_count": 4,
   "id": "af87f5cd-a718-46a1-be72-cb7d2ef949b0",
   "metadata": {},
   "outputs": [
    {
     "data": {
      "text/plain": [
       "array([1, 2, 3, 4])"
      ]
     },
     "execution_count": 4,
     "metadata": {},
     "output_type": "execute_result"
    }
   ],
   "source": [
    "a"
   ]
  },
  {
   "cell_type": "code",
   "execution_count": 5,
   "id": "aca00aec-43e2-48b9-8c2d-e23989d3748e",
   "metadata": {},
   "outputs": [
    {
     "name": "stdout",
     "output_type": "stream",
     "text": [
      "[1 2 3 4]\n"
     ]
    }
   ],
   "source": [
    "print(a)  # list와 구별되게 쉼표가 없음"
   ]
  },
  {
   "cell_type": "code",
   "execution_count": 6,
   "id": "22c5db1b-2b58-4951-a9c1-8607bfb978ce",
   "metadata": {},
   "outputs": [
    {
     "data": {
      "text/plain": [
       "numpy.ndarray"
      ]
     },
     "execution_count": 6,
     "metadata": {},
     "output_type": "execute_result"
    }
   ],
   "source": [
    "type(a)"
   ]
  },
  {
   "cell_type": "code",
   "execution_count": 7,
   "id": "32fc577e-0e75-4e44-908c-b38b7c7a5063",
   "metadata": {},
   "outputs": [],
   "source": [
    "import collections.abc as abc # 추상 클래스와의 관계를 알아보기 위해"
   ]
  },
  {
   "cell_type": "code",
   "execution_count": 8,
   "id": "40e56a71-008f-4d70-980a-ed8cca343ba5",
   "metadata": {},
   "outputs": [
    {
     "data": {
      "text/plain": [
       "False"
      ]
     },
     "execution_count": 8,
     "metadata": {},
     "output_type": "execute_result"
    }
   ],
   "source": [
    "issubclass(type(a), abc.MutableSequence)  # False = np.array는 변경이 가능한 MutableSequence 클래스를 상속하지 않는다.\n",
    "# 추상 클래스의 모든 것을 구현하지 않아서 상속관계가 성립하지 않는다."
   ]
  },
  {
   "cell_type": "code",
   "execution_count": 9,
   "id": "2b07806a-7980-4d61-a2d1-fb8fdcb38666",
   "metadata": {},
   "outputs": [
    {
     "data": {
      "text/plain": [
       "frozenset({'__delitem__', '__getitem__', '__len__', '__setitem__', 'insert'})"
      ]
     },
     "execution_count": 9,
     "metadata": {},
     "output_type": "execute_result"
    }
   ],
   "source": [
    "abc.MutableSequence.__abstractmethods__ # 반드시 구현해야 할 메소드"
   ]
  },
  {
   "cell_type": "code",
   "execution_count": 10,
   "id": "b07672b4-ffe8-45df-8cc4-11fc951e7e18",
   "metadata": {},
   "outputs": [
    {
     "data": {
      "text/plain": [
       "0"
      ]
     },
     "execution_count": 10,
     "metadata": {},
     "output_type": "execute_result"
    }
   ],
   "source": [
    "dir(np.ndarray).count('insert') # np.array 객체에서 insert attributes(속성)이 있는지 확인"
   ]
  },
  {
   "cell_type": "code",
   "execution_count": 11,
   "id": "d9fd033c-2e7c-457b-ae73-adbd9fbc3505",
   "metadata": {},
   "outputs": [
    {
     "data": {
      "text/plain": [
       "['T',\n",
       " '__abs__',\n",
       " '__add__',\n",
       " '__and__',\n",
       " '__array__',\n",
       " '__array_finalize__',\n",
       " '__array_function__',\n",
       " '__array_interface__',\n",
       " '__array_prepare__',\n",
       " '__array_priority__',\n",
       " '__array_struct__',\n",
       " '__array_ufunc__',\n",
       " '__array_wrap__',\n",
       " '__bool__',\n",
       " '__class__',\n",
       " '__complex__',\n",
       " '__contains__',\n",
       " '__copy__',\n",
       " '__deepcopy__',\n",
       " '__delattr__',\n",
       " '__delitem__',\n",
       " '__dir__',\n",
       " '__divmod__',\n",
       " '__doc__',\n",
       " '__eq__',\n",
       " '__float__',\n",
       " '__floordiv__',\n",
       " '__format__',\n",
       " '__ge__',\n",
       " '__getattribute__',\n",
       " '__getitem__',\n",
       " '__gt__',\n",
       " '__hash__',\n",
       " '__iadd__',\n",
       " '__iand__',\n",
       " '__ifloordiv__',\n",
       " '__ilshift__',\n",
       " '__imatmul__',\n",
       " '__imod__',\n",
       " '__imul__',\n",
       " '__index__',\n",
       " '__init__',\n",
       " '__init_subclass__',\n",
       " '__int__',\n",
       " '__invert__',\n",
       " '__ior__',\n",
       " '__ipow__',\n",
       " '__irshift__',\n",
       " '__isub__',\n",
       " '__iter__',\n",
       " '__itruediv__',\n",
       " '__ixor__',\n",
       " '__le__',\n",
       " '__len__',\n",
       " '__lshift__',\n",
       " '__lt__',\n",
       " '__matmul__',\n",
       " '__mod__',\n",
       " '__mul__',\n",
       " '__ne__',\n",
       " '__neg__',\n",
       " '__new__',\n",
       " '__or__',\n",
       " '__pos__',\n",
       " '__pow__',\n",
       " '__radd__',\n",
       " '__rand__',\n",
       " '__rdivmod__',\n",
       " '__reduce__',\n",
       " '__reduce_ex__',\n",
       " '__repr__',\n",
       " '__rfloordiv__',\n",
       " '__rlshift__',\n",
       " '__rmatmul__',\n",
       " '__rmod__',\n",
       " '__rmul__',\n",
       " '__ror__',\n",
       " '__rpow__',\n",
       " '__rrshift__',\n",
       " '__rshift__',\n",
       " '__rsub__',\n",
       " '__rtruediv__',\n",
       " '__rxor__',\n",
       " '__setattr__',\n",
       " '__setitem__',\n",
       " '__setstate__',\n",
       " '__sizeof__',\n",
       " '__str__',\n",
       " '__sub__',\n",
       " '__subclasshook__',\n",
       " '__truediv__',\n",
       " '__xor__',\n",
       " 'all',\n",
       " 'any',\n",
       " 'argmax',\n",
       " 'argmin',\n",
       " 'argpartition',\n",
       " 'argsort',\n",
       " 'astype',\n",
       " 'base',\n",
       " 'byteswap',\n",
       " 'choose',\n",
       " 'clip',\n",
       " 'compress',\n",
       " 'conj',\n",
       " 'conjugate',\n",
       " 'copy',\n",
       " 'ctypes',\n",
       " 'cumprod',\n",
       " 'cumsum',\n",
       " 'data',\n",
       " 'diagonal',\n",
       " 'dot',\n",
       " 'dtype',\n",
       " 'dump',\n",
       " 'dumps',\n",
       " 'fill',\n",
       " 'flags',\n",
       " 'flat',\n",
       " 'flatten',\n",
       " 'getfield',\n",
       " 'imag',\n",
       " 'item',\n",
       " 'itemset',\n",
       " 'itemsize',\n",
       " 'max',\n",
       " 'mean',\n",
       " 'min',\n",
       " 'nbytes',\n",
       " 'ndim',\n",
       " 'newbyteorder',\n",
       " 'nonzero',\n",
       " 'partition',\n",
       " 'prod',\n",
       " 'ptp',\n",
       " 'put',\n",
       " 'ravel',\n",
       " 'real',\n",
       " 'repeat',\n",
       " 'reshape',\n",
       " 'resize',\n",
       " 'round',\n",
       " 'searchsorted',\n",
       " 'setfield',\n",
       " 'setflags',\n",
       " 'shape',\n",
       " 'size',\n",
       " 'sort',\n",
       " 'squeeze',\n",
       " 'std',\n",
       " 'strides',\n",
       " 'sum',\n",
       " 'swapaxes',\n",
       " 'take',\n",
       " 'tobytes',\n",
       " 'tofile',\n",
       " 'tolist',\n",
       " 'tostring',\n",
       " 'trace',\n",
       " 'transpose',\n",
       " 'var',\n",
       " 'view']"
      ]
     },
     "execution_count": 11,
     "metadata": {},
     "output_type": "execute_result"
    }
   ],
   "source": [
    "dir(np.ndarray) # np.array 객체가 제공하는 attributes(속성) 확인"
   ]
  },
  {
   "cell_type": "markdown",
   "id": "5fbedf70-17d1-44bc-8291-710dbf2191b4",
   "metadata": {},
   "source": [
    "## 다차원 배열의 구성"
   ]
  },
  {
   "cell_type": "markdown",
   "id": "28deec20-ee41-4e50-96c8-5fa127b09ded",
   "metadata": {},
   "source": [
    "* 다차원 배열의 객체를 생성하는 ndarray 클래스는 데이터와 메타 정보를 분리해서 관리한다.\n",
    "| 배열의 메타 정보 | 데이터 |\n",
    "| :-------------: | :----: |\n",
    "| dtype  | |\n",
    "| ndim   | |\n",
    "| shape  | |\n",
    "| stides | |\n",
    "| data   | 데이터1 데이터2 ... |"
   ]
  },
  {
   "cell_type": "markdown",
   "id": "942a7406-4453-4856-bd6d-f943a4d6f519",
   "metadata": {},
   "source": [
    "## 다차원 배열의 자료형 확인"
   ]
  },
  {
   "cell_type": "code",
   "execution_count": 12,
   "id": "f1a60044-0ab0-434f-9e81-800b90514906",
   "metadata": {},
   "outputs": [
    {
     "data": {
      "text/plain": [
       "dtype('int32')"
      ]
     },
     "execution_count": 12,
     "metadata": {},
     "output_type": "execute_result"
    }
   ],
   "source": [
    "a.dtype # 다차원 배열의 모든 원소는 하나의 자료형으로 구성"
   ]
  },
  {
   "cell_type": "markdown",
   "id": "8a9b0527-6612-43bc-b6e7-f2b79dae3b41",
   "metadata": {},
   "source": [
    "## 다차원 배열의 메타 정보 확인"
   ]
  },
  {
   "cell_type": "code",
   "execution_count": 13,
   "id": "dbaa1b24-d640-447c-942f-2f5b33702a02",
   "metadata": {},
   "outputs": [
    {
     "data": {
      "text/plain": [
       "(1, (4,), 4)"
      ]
     },
     "execution_count": 13,
     "metadata": {},
     "output_type": "execute_result"
    }
   ],
   "source": [
    "a.ndim, a.shape, a.itemsize \n",
    "# ndim(차원): 다차원 배열의 축이 몇 개인지 확인하는 dimension(차원)\n",
    "# shape(형상): 차원별로 몇 개의 원소로 구성되었는지 관리하는 형상\n",
    "# itemsize : 원소 한개의 바이트 크기"
   ]
  },
  {
   "cell_type": "code",
   "execution_count": 14,
   "id": "8ac0b604-4cfd-471d-8dcf-1edebac99e25",
   "metadata": {},
   "outputs": [
    {
     "data": {
      "text/plain": [
       "(4,)"
      ]
     },
     "execution_count": 14,
     "metadata": {},
     "output_type": "execute_result"
    }
   ],
   "source": [
    "# 배열은 확장이나 특정 행이나 열을 검색할 때 사용하는 길이(strides:걸음걸이)정보도 제공한다.\n",
    "a.strides  # 총 사이즈"
   ]
  },
  {
   "cell_type": "markdown",
   "id": "846c3098-507e-48ae-9e41-21c3f37febcd",
   "metadata": {},
   "source": [
    "## 다차원 배열의 데이터 정보 확인"
   ]
  },
  {
   "cell_type": "code",
   "execution_count": 15,
   "id": "b8270cb6-8307-47db-9c19-495732ae4fbd",
   "metadata": {},
   "outputs": [
    {
     "data": {
      "text/plain": [
       "<memory at 0x00000235F5305040>"
      ]
     },
     "execution_count": 15,
     "metadata": {},
     "output_type": "execute_result"
    }
   ],
   "source": [
    "a.data  # 다차원 배열을 만들면 데이터는 메모리에 로딩된다. 메모리를 관리하는 속성이 data 이다."
   ]
  },
  {
   "cell_type": "code",
   "execution_count": 16,
   "id": "798e8c71-7bd6-4bed-8537-933f330e2c36",
   "metadata": {},
   "outputs": [
    {
     "data": {
      "text/plain": [
       "array([1, 2, 3, 4])"
      ]
     },
     "execution_count": 16,
     "metadata": {},
     "output_type": "execute_result"
    }
   ],
   "source": [
    "a.data.obj  # 저장된 값 확인"
   ]
  },
  {
   "cell_type": "code",
   "execution_count": 17,
   "id": "ec0d95c2-4473-4222-9e85-c4b34868b093",
   "metadata": {},
   "outputs": [
    {
     "data": {
      "text/plain": [
       "array([1, 2, 3, 4])"
      ]
     },
     "execution_count": 17,
     "metadata": {},
     "output_type": "execute_result"
    }
   ],
   "source": [
    "a"
   ]
  },
  {
   "cell_type": "markdown",
   "id": "ab2d7f61-553d-4768-a3c0-a9c387a6fc00",
   "metadata": {},
   "source": [
    "## 다차원 배열을 리스트로 변환"
   ]
  },
  {
   "cell_type": "code",
   "execution_count": 18,
   "id": "dd3eff20-8a3a-4c91-a057-ac65ae4a1827",
   "metadata": {},
   "outputs": [
    {
     "data": {
      "text/plain": [
       "[1, 2, 3, 4]"
      ]
     },
     "execution_count": 18,
     "metadata": {},
     "output_type": "execute_result"
    }
   ],
   "source": [
    "a.tolist()"
   ]
  },
  {
   "cell_type": "code",
   "execution_count": 19,
   "id": "dba0ba23-ec31-4373-8b44-917c5089044d",
   "metadata": {},
   "outputs": [
    {
     "name": "stdout",
     "output_type": "stream",
     "text": [
      "[1, 2, 3, 4]\n"
     ]
    }
   ],
   "source": [
    "print(a.tolist()) # list"
   ]
  },
  {
   "cell_type": "code",
   "execution_count": 20,
   "id": "4336ffc8-74ac-4fd1-96e0-25de83183c85",
   "metadata": {},
   "outputs": [
    {
     "name": "stdout",
     "output_type": "stream",
     "text": [
      "[1 2 3 4]\n"
     ]
    }
   ],
   "source": [
    "print(a)  # numpy.ndarray"
   ]
  },
  {
   "cell_type": "code",
   "execution_count": 21,
   "id": "c79f6b49-a6a7-476d-a442-491af962f47e",
   "metadata": {},
   "outputs": [
    {
     "data": {
      "text/plain": [
       "list"
      ]
     },
     "execution_count": 21,
     "metadata": {},
     "output_type": "execute_result"
    }
   ],
   "source": [
    "type(a.tolist())"
   ]
  },
  {
   "cell_type": "code",
   "execution_count": 22,
   "id": "861554ca-144f-4b8e-bb48-a5e53c631f1c",
   "metadata": {},
   "outputs": [
    {
     "data": {
      "text/plain": [
       "numpy.ndarray"
      ]
     },
     "execution_count": 22,
     "metadata": {},
     "output_type": "execute_result"
    }
   ],
   "source": [
    "type(a)"
   ]
  },
  {
   "cell_type": "markdown",
   "id": "018eff5e-7b02-4821-95a2-df6e31a927f3",
   "metadata": {},
   "source": [
    "## 다차원 배열 자료형 처리"
   ]
  },
  {
   "cell_type": "markdown",
   "id": "98b23f0d-cba8-4998-bf3f-b8ecbae11ea3",
   "metadata": {},
   "source": [
    "* 다차원 배열은 메모리에 데이터를 넣어서 처리한다.\n",
    "* 파이썬 보다 더 다양한 자료형을 지원한다."
   ]
  },
  {
   "cell_type": "markdown",
   "id": "83edb60e-87d1-497a-879d-522984b2bee5",
   "metadata": {},
   "source": [
    "## 클래스 dtype 알아보기"
   ]
  },
  {
   "cell_type": "code",
   "execution_count": 23,
   "id": "31a155d6-6e9f-4817-a8e8-a906a7ba1316",
   "metadata": {},
   "outputs": [],
   "source": [
    "# 다차원 배열의 자료형은 dtype 클래스의 객체로 만들어진다.\n",
    "d = np.dtype(np.int32)  # dtype 클래스에 자료형(np.int32 클래스)을 인자로 전달해서 객체 생성"
   ]
  },
  {
   "cell_type": "code",
   "execution_count": 24,
   "id": "847a9036-0eb0-418c-b572-5026a5c27647",
   "metadata": {},
   "outputs": [
    {
     "data": {
      "text/plain": [
       "dtype('int32')"
      ]
     },
     "execution_count": 24,
     "metadata": {},
     "output_type": "execute_result"
    }
   ],
   "source": [
    "d"
   ]
  },
  {
   "cell_type": "code",
   "execution_count": 25,
   "id": "5cb5af35-3624-47a6-a9c0-764a02b9dca4",
   "metadata": {},
   "outputs": [
    {
     "data": {
      "text/plain": [
       "numpy.dtype[int32]"
      ]
     },
     "execution_count": 25,
     "metadata": {},
     "output_type": "execute_result"
    }
   ],
   "source": [
    "type(d) # 객체의 타입 확인"
   ]
  },
  {
   "cell_type": "markdown",
   "id": "3da6d0d4-da4e-44b7-8d31-1285be39f651",
   "metadata": {},
   "source": [
    "## 자료형 내의 속성 확인"
   ]
  },
  {
   "cell_type": "code",
   "execution_count": 26,
   "id": "fe7fe484-e9e3-4dde-b5c6-b2cd7e31c9dc",
   "metadata": {},
   "outputs": [
    {
     "data": {
      "text/plain": [
       "('l', 'i', 4)"
      ]
     },
     "execution_count": 26,
     "metadata": {},
     "output_type": "execute_result"
    }
   ],
   "source": [
    "d.char, d.kind, d.itemsize\n",
    "# char, kind: 문자 속성\n",
    "# itemsize:바이트 크기(4byte=32bit)"
   ]
  },
  {
   "cell_type": "markdown",
   "id": "9cb666fe-22b6-45fd-8971-68eda0ef1c7c",
   "metadata": {},
   "source": [
    "## 문자열을 전달받아 자료형 객체 생성"
   ]
  },
  {
   "cell_type": "markdown",
   "id": "95784dc8-4232-41dd-9cff-f0eefc442e78",
   "metadata": {},
   "source": [
    "* 자료형 클래스로 객체를 생성할 때 문자열을 인자로 전달할 수도 있다.\n",
    "* 문자열은 정수를 나타내는 소문자 i이고, 원소의 길이를 나타내는 4로 구성된다.\n",
    "* 맨 앞의 부등호 표시는 [byteorder](https://en.wikipedia.org/wiki/Endianness)로 실제 바이트 단위로 저장될 때 들어가는 순서를 알려준다.\n",
    "* 저장되는 방식은 byteorder 속성으로 확인 할 수 있다."
   ]
  },
  {
   "cell_type": "code",
   "execution_count": 27,
   "id": "90cd6781-3a18-4d60-a459-3c83d3d8b824",
   "metadata": {},
   "outputs": [],
   "source": [
    "dt = np.dtype('<i4') # 자료형('<i4'), <는 byteorder, i는 정수, 4는 4byte를 의미"
   ]
  },
  {
   "cell_type": "code",
   "execution_count": 28,
   "id": "194a9f16-03ed-45b9-a801-9d295b3ace13",
   "metadata": {},
   "outputs": [
    {
     "data": {
      "text/plain": [
       "'='"
      ]
     },
     "execution_count": 28,
     "metadata": {},
     "output_type": "execute_result"
    }
   ],
   "source": [
    "dt.byteorder"
   ]
  },
  {
   "cell_type": "markdown",
   "id": "519bb782-efe8-45a2-90c0-29914e7a246c",
   "metadata": {},
   "source": [
    "## 자료형 생성과 데이터 저장 순서"
   ]
  },
  {
   "cell_type": "code",
   "execution_count": 29,
   "id": "63f3e1cb-0fa0-466b-8926-8be57162dc27",
   "metadata": {},
   "outputs": [
    {
     "data": {
      "text/plain": [
       "b'\\x01\\x00\\x00\\x00\\x02\\x00\\x00\\x00\\x03\\x00\\x00\\x00\\x04\\x00\\x00\\x00'"
      ]
     },
     "execution_count": 29,
     "metadata": {},
     "output_type": "execute_result"
    }
   ],
   "source": [
    "a.tobytes()  # 배열을 바이트로 변환해 보면 4바이트 단위로 정수 저장\n",
    "# 가장 왼쪽부터 숫자가 들어가 있음\n",
    "# b'\\x01\\x00\\x00\\x00\\x02\\x00\\x00\\x00\\x03\\x00\\x00\\x00\\x04\\x00\\x00\\x00'\n",
    "#     ^               ^               ^                ^"
   ]
  },
  {
   "cell_type": "code",
   "execution_count": 30,
   "id": "8b4bf7bc-effc-4035-8e47-a3db34e7f18a",
   "metadata": {},
   "outputs": [],
   "source": [
    "dt1 = np.dtype('>i4')  # 숫자가 들어가는 순서를 확인하기 위해 부등호 기호를 반대로 지정해서 자료형 생성"
   ]
  },
  {
   "cell_type": "code",
   "execution_count": 31,
   "id": "6f0aa428-2a84-48a2-9deb-d2cb77222dae",
   "metadata": {},
   "outputs": [
    {
     "data": {
      "text/plain": [
       "'>'"
      ]
     },
     "execution_count": 31,
     "metadata": {},
     "output_type": "execute_result"
    }
   ],
   "source": [
    "dt1.byteorder"
   ]
  },
  {
   "cell_type": "markdown",
   "id": "dc5c0eb9-3c87-4023-b8f0-7cff3ed04c4e",
   "metadata": {},
   "source": [
    "## 다차원 배열의 복사"
   ]
  },
  {
   "cell_type": "markdown",
   "id": "5455502a-6d6d-46e1-8d28-082dab55eb03",
   "metadata": {},
   "source": [
    "* 다차원 배열의 객체를 만들면 메모리에 로딩해서 처리한다.\n",
    "* a = np.array([1, 2, 3])\n",
    "* b = np.asarray(a) # 같다.\n",
    "* c = a.copy() # 다르다.\n",
    "* d = np.array(a) # 다fm다."
   ]
  },
  {
   "cell_type": "code",
   "execution_count": 32,
   "id": "8967ab94-87fa-49b8-8dea-ca5bcb969da4",
   "metadata": {},
   "outputs": [],
   "source": [
    "c = np.array([1, 2, 3])"
   ]
  },
  {
   "cell_type": "code",
   "execution_count": 33,
   "id": "398639f4-d6db-4981-847a-948eb1d9a418",
   "metadata": {},
   "outputs": [],
   "source": [
    "# np.asarray: 인자로 들어온 값을 이용해 새로운 다차원 배열을 만든다.\n",
    "# 다만, 다차원 배열의 객체가 인자로 들어오면 들어온 인자와 동일하다.\n",
    "d = np.asarray(c) "
   ]
  },
  {
   "cell_type": "code",
   "execution_count": 34,
   "id": "abe7269e-a8f3-4d59-b2c4-6fd58f81b2a7",
   "metadata": {},
   "outputs": [
    {
     "data": {
      "text/plain": [
       "True"
      ]
     },
     "execution_count": 34,
     "metadata": {},
     "output_type": "execute_result"
    }
   ],
   "source": [
    "# 두개의 배열이 같은지 확인\n",
    "c is d"
   ]
  },
  {
   "cell_type": "code",
   "execution_count": 35,
   "id": "e515def2-70db-4870-933a-ad8a09cc2fb6",
   "metadata": {},
   "outputs": [],
   "source": [
    "# [1, 2, 3]이라는 새로운 객체를 이용해서 다차원 배열을 만든다. 위에서 만든 객체와는 다르다.\n",
    "e = np.asarray([1, 2, 3])"
   ]
  },
  {
   "cell_type": "code",
   "execution_count": 36,
   "id": "fafb9706-8217-4d96-b822-1bbdaa41f0ea",
   "metadata": {},
   "outputs": [
    {
     "data": {
      "text/plain": [
       "False"
      ]
     },
     "execution_count": 36,
     "metadata": {},
     "output_type": "execute_result"
    }
   ],
   "source": [
    "c is e"
   ]
  },
  {
   "cell_type": "code",
   "execution_count": 37,
   "id": "71c38cde-cc09-42b3-86c7-9e6fbd09a4b9",
   "metadata": {},
   "outputs": [],
   "source": [
    "f = c.copy()  # 새로운 다차원 배열 생성"
   ]
  },
  {
   "cell_type": "code",
   "execution_count": 38,
   "id": "8d693589-aab1-491c-898f-4d58ca3b0953",
   "metadata": {},
   "outputs": [
    {
     "data": {
      "text/plain": [
       "False"
      ]
     },
     "execution_count": 38,
     "metadata": {},
     "output_type": "execute_result"
    }
   ],
   "source": [
    "c is f"
   ]
  },
  {
   "cell_type": "code",
   "execution_count": 39,
   "id": "006c07a0-f774-4022-8a96-7f3182db84fb",
   "metadata": {},
   "outputs": [],
   "source": [
    "g = np.array(c) # 새로운 다차원 배열 생성"
   ]
  },
  {
   "cell_type": "code",
   "execution_count": 40,
   "id": "d8bb2c0b-908a-4714-82a4-efd4c609cc1b",
   "metadata": {},
   "outputs": [
    {
     "data": {
      "text/plain": [
       "False"
      ]
     },
     "execution_count": 40,
     "metadata": {},
     "output_type": "execute_result"
    }
   ],
   "source": [
    "g is c"
   ]
  },
  {
   "cell_type": "code",
   "execution_count": null,
   "id": "f419d46d-aa8e-41a1-8789-4cb73f99b99a",
   "metadata": {},
   "outputs": [],
   "source": []
  }
 ],
 "metadata": {
  "kernelspec": {
   "display_name": "Python 3 (ipykernel)",
   "language": "python",
   "name": "python3"
  },
  "language_info": {
   "codemirror_mode": {
    "name": "ipython",
    "version": 3
   },
   "file_extension": ".py",
   "mimetype": "text/x-python",
   "name": "python",
   "nbconvert_exporter": "python",
   "pygments_lexer": "ipython3",
   "version": "3.9.13"
  }
 },
 "nbformat": 4,
 "nbformat_minor": 5
}
