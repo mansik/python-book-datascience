{
 "cells": [
  {
   "cell_type": "markdown",
   "id": "ea865e41-8cf6-4f4b-9727-6c4a8a43f8f1",
   "metadata": {},
   "source": [
    "# 배열(array) 모듈의 배열"
   ]
  },
  {
   "cell_type": "markdown",
   "id": "99cc14ea-dad5-401e-b472-c7ab5f0d7ef5",
   "metadata": {},
   "source": [
    "# 배열의 모듈 사용"
   ]
  },
  {
   "cell_type": "code",
   "execution_count": 1,
   "id": "3e6b1012-6278-48ec-a982-ec03558e57c1",
   "metadata": {},
   "outputs": [],
   "source": [
    "import array  # 배열을 처리하는 모듈"
   ]
  },
  {
   "cell_type": "code",
   "execution_count": 2,
   "id": "c476df6b-77bc-4dd8-8a16-18ac86dc8c59",
   "metadata": {},
   "outputs": [],
   "source": [
    "a = array.array('i', [1, 2, 3, 4, 5])  # `i`는 typecode(자료형)가 signed integer, [1,...5] 는 초기값"
   ]
  },
  {
   "cell_type": "code",
   "execution_count": 3,
   "id": "17e0f384-b311-4af8-8fe8-666e02e234e8",
   "metadata": {},
   "outputs": [
    {
     "data": {
      "text/plain": [
       "array('i', [1, 2, 3, 4, 5])"
      ]
     },
     "execution_count": 3,
     "metadata": {},
     "output_type": "execute_result"
    }
   ],
   "source": [
    "a"
   ]
  },
  {
   "cell_type": "code",
   "execution_count": 4,
   "id": "c51f2b0a-d124-4934-8fde-9d4271b785d3",
   "metadata": {},
   "outputs": [
    {
     "data": {
      "text/plain": [
       "array.array"
      ]
     },
     "execution_count": 4,
     "metadata": {},
     "output_type": "execute_result"
    }
   ],
   "source": [
    "type(a)"
   ]
  },
  {
   "cell_type": "code",
   "execution_count": 5,
   "id": "a194d270-926b-406d-bd0b-c0fc05c250cc",
   "metadata": {},
   "outputs": [],
   "source": [
    "import collections.abc as abc"
   ]
  },
  {
   "cell_type": "code",
   "execution_count": 37,
   "id": "8982c17a-ccee-4909-94e2-8bf48b594d37",
   "metadata": {},
   "outputs": [
    {
     "data": {
      "text/plain": [
       "False"
      ]
     },
     "execution_count": 37,
     "metadata": {},
     "output_type": "execute_result"
    }
   ],
   "source": [
    "issubclass(type(a), abc.MutableSequence) # 상속관계 확인, False = MutableSequence 클래스를 상속하지 않는다. \n",
    "# 즉 일부만 구현했거나 구현하지 않았음"
   ]
  },
  {
   "cell_type": "code",
   "execution_count": 39,
   "id": "70f0fdfc-05cc-4129-a012-26d9bfdc89b2",
   "metadata": {},
   "outputs": [
    {
     "data": {
      "text/plain": [
       "['__add__',\n",
       " '__class__',\n",
       " '__contains__',\n",
       " '__copy__',\n",
       " '__deepcopy__',\n",
       " '__delattr__',\n",
       " '__delitem__',\n",
       " '__dir__',\n",
       " '__doc__',\n",
       " '__eq__',\n",
       " '__format__',\n",
       " '__ge__',\n",
       " '__getattribute__',\n",
       " '__getitem__',\n",
       " '__gt__',\n",
       " '__hash__',\n",
       " '__iadd__',\n",
       " '__imul__',\n",
       " '__init__',\n",
       " '__init_subclass__',\n",
       " '__iter__',\n",
       " '__le__',\n",
       " '__len__',\n",
       " '__lt__',\n",
       " '__mul__',\n",
       " '__ne__',\n",
       " '__new__',\n",
       " '__reduce__',\n",
       " '__reduce_ex__',\n",
       " '__repr__',\n",
       " '__rmul__',\n",
       " '__setattr__',\n",
       " '__setitem__',\n",
       " '__sizeof__',\n",
       " '__str__',\n",
       " '__subclasshook__',\n",
       " 'append',\n",
       " 'buffer_info',\n",
       " 'byteswap',\n",
       " 'count',\n",
       " 'extend',\n",
       " 'frombytes',\n",
       " 'fromfile',\n",
       " 'fromlist',\n",
       " 'fromunicode',\n",
       " 'index',\n",
       " 'insert',\n",
       " 'itemsize',\n",
       " 'pop',\n",
       " 'remove',\n",
       " 'reverse',\n",
       " 'tobytes',\n",
       " 'tofile',\n",
       " 'tolist',\n",
       " 'tounicode',\n",
       " 'typecode']"
      ]
     },
     "execution_count": 39,
     "metadata": {},
     "output_type": "execute_result"
    }
   ],
   "source": [
    "dir(a) # 객체 a가 제공하는 attributes(속성) 확인"
   ]
  },
  {
   "cell_type": "markdown",
   "id": "70278281-f47e-4bcb-a9bc-f0e73dcf4d91",
   "metadata": {},
   "source": [
    "## 배열의 메타 정보\n",
    "\n",
    "* 메타 정보 = 객체가 가진 다양한 정보"
   ]
  },
  {
   "cell_type": "code",
   "execution_count": 7,
   "id": "2d55e764-88bc-4b6d-90d8-6ea0375757c8",
   "metadata": {},
   "outputs": [
    {
     "data": {
      "text/plain": [
       "('i', 4)"
      ]
     },
     "execution_count": 7,
     "metadata": {},
     "output_type": "execute_result"
    }
   ],
   "source": [
    "a.typecode, a.itemsize # 배열의 자료형(typecode), 원소의 바이트 크기(itemsize)"
   ]
  },
  {
   "cell_type": "code",
   "execution_count": 8,
   "id": "9e3ff6e7-7a21-4579-8bc6-2deefad12e6d",
   "metadata": {},
   "outputs": [
    {
     "data": {
      "text/plain": [
       "(2896417397584, 5)"
      ]
     },
     "execution_count": 8,
     "metadata": {},
     "output_type": "execute_result"
    }
   ],
   "source": [
    "a.buffer_info()  # 메모리 주소와 원소의 개수"
   ]
  },
  {
   "cell_type": "markdown",
   "id": "9bc3bf53-af16-4131-ac81-aa276e0f6158",
   "metadata": {},
   "source": [
    "## 배열의 원소 검색\n",
    "\n",
    "* list와 같다.(색인을 만들고 원소와 매핑)"
   ]
  },
  {
   "cell_type": "code",
   "execution_count": 9,
   "id": "0b6c76de-8357-4da1-b735-896b223762cb",
   "metadata": {},
   "outputs": [
    {
     "data": {
      "text/plain": [
       "1"
      ]
     },
     "execution_count": 9,
     "metadata": {},
     "output_type": "execute_result"
    }
   ],
   "source": [
    "a[0]"
   ]
  },
  {
   "cell_type": "code",
   "execution_count": 10,
   "id": "20a41f7a-afcd-40c1-94fc-00663ec061dd",
   "metadata": {},
   "outputs": [
    {
     "data": {
      "text/plain": [
       "5"
      ]
     },
     "execution_count": 10,
     "metadata": {},
     "output_type": "execute_result"
    }
   ],
   "source": [
    "a[-1]"
   ]
  },
  {
   "cell_type": "code",
   "execution_count": 11,
   "id": "6b1c2615-ec37-4bf0-b67d-b010c1036681",
   "metadata": {},
   "outputs": [
    {
     "data": {
      "text/plain": [
       "5"
      ]
     },
     "execution_count": 11,
     "metadata": {},
     "output_type": "execute_result"
    }
   ],
   "source": [
    "len(a)"
   ]
  },
  {
   "cell_type": "markdown",
   "id": "4d2c9084-f64b-48ec-a717-5856caf4e832",
   "metadata": {},
   "source": [
    "# 배열의 인덱스 범위 확인"
   ]
  },
  {
   "cell_type": "code",
   "execution_count": 12,
   "id": "749a7b1c-7ad7-4bee-8c68-0e46098cc436",
   "metadata": {},
   "outputs": [
    {
     "name": "stdout",
     "output_type": "stream",
     "text": [
      "array assignment index out of range\n"
     ]
    }
   ],
   "source": [
    "try:\n",
    "    a[5] = 100  # index의 범위를 벗어난 경우, 색인연산으로 원소를 추가 할 수 없다.\n",
    "except Exception as e:\n",
    "    print(e)"
   ]
  },
  {
   "cell_type": "markdown",
   "id": "045f3b91-0e74-4ea9-a5a8-0e173d7ed87f",
   "metadata": {},
   "source": [
    "## 배열의 원소별 크기"
   ]
  },
  {
   "cell_type": "code",
   "execution_count": 13,
   "id": "772943fc-ef14-4f01-9e0b-a3cc2bd81c62",
   "metadata": {},
   "outputs": [],
   "source": [
    "ab = a.tobytes()  # 배열을 바이트로 변환"
   ]
  },
  {
   "cell_type": "code",
   "execution_count": 14,
   "id": "8ba159b6-1718-4b59-9a7f-0b2d7bde1350",
   "metadata": {},
   "outputs": [
    {
     "data": {
      "text/plain": [
       "4.0"
      ]
     },
     "execution_count": 14,
     "metadata": {},
     "output_type": "execute_result"
    }
   ],
   "source": [
    "len(ab)/len(a)  # 원소 1개의 바이트 길이는 바이트의 총 길이를 원소의 개수로 나눈 값"
   ]
  },
  {
   "cell_type": "markdown",
   "id": "efa34032-a82d-47f5-91ae-96306e4b5607",
   "metadata": {},
   "source": [
    "# 배열에 원소 추가"
   ]
  },
  {
   "cell_type": "code",
   "execution_count": 15,
   "id": "78010299-8575-4d67-9343-c3781bc0f3eb",
   "metadata": {},
   "outputs": [],
   "source": [
    "a.append(100)  # 마지막에 원소 1개 추가, 여러개 추가는 안됨"
   ]
  },
  {
   "cell_type": "code",
   "execution_count": 16,
   "id": "51692d58-565c-46f2-9f08-734b09297fa5",
   "metadata": {},
   "outputs": [
    {
     "data": {
      "text/plain": [
       "array('i', [1, 2, 3, 4, 5, 100])"
      ]
     },
     "execution_count": 16,
     "metadata": {},
     "output_type": "execute_result"
    }
   ],
   "source": [
    "a"
   ]
  },
  {
   "cell_type": "code",
   "execution_count": 17,
   "id": "90888cdb-c1a3-404d-87ee-1bfbf222dc23",
   "metadata": {},
   "outputs": [],
   "source": [
    "a.extend([6, 7, 8])  # 여러 원소를 추가할 때는 extend 메소드 사용"
   ]
  },
  {
   "cell_type": "code",
   "execution_count": 18,
   "id": "56623924-9d90-4854-8b58-d95a954a5b04",
   "metadata": {},
   "outputs": [
    {
     "data": {
      "text/plain": [
       "[1, 2, 3, 4, 5, 100, 6, 7, 8]"
      ]
     },
     "execution_count": 18,
     "metadata": {},
     "output_type": "execute_result"
    }
   ],
   "source": [
    "a.tolist()  # 배열을 list로 변환"
   ]
  },
  {
   "cell_type": "code",
   "execution_count": 19,
   "id": "a1089a67-8b39-4890-8b61-7da935baa889",
   "metadata": {},
   "outputs": [],
   "source": [
    "a.insert(0, 999) # 0 index에 값이 999인 원소 추가"
   ]
  },
  {
   "cell_type": "code",
   "execution_count": 20,
   "id": "ef26c67d-bca0-4e6f-b6ab-1bce7d1afd1f",
   "metadata": {},
   "outputs": [
    {
     "data": {
      "text/plain": [
       "[999, 1, 2, 3, 4, 5, 100, 6, 7, 8]"
      ]
     },
     "execution_count": 20,
     "metadata": {},
     "output_type": "execute_result"
    }
   ],
   "source": [
    "a.tolist()"
   ]
  },
  {
   "cell_type": "markdown",
   "id": "6d5df239-6d20-467f-94fb-cbbe2967eb20",
   "metadata": {},
   "source": [
    "## 배열의 원소 삭제"
   ]
  },
  {
   "cell_type": "code",
   "execution_count": 21,
   "id": "04c0f2ae-80bf-4b6b-aa97-b9623ff6678c",
   "metadata": {},
   "outputs": [],
   "source": [
    "del a[-2]  # index를 이용한 삭제"
   ]
  },
  {
   "cell_type": "code",
   "execution_count": 22,
   "id": "d119176d-679d-4152-9c9f-934c5afbde22",
   "metadata": {},
   "outputs": [
    {
     "data": {
      "text/plain": [
       "array('i', [999, 1, 2, 3, 4, 5, 100, 6, 8])"
      ]
     },
     "execution_count": 22,
     "metadata": {},
     "output_type": "execute_result"
    }
   ],
   "source": [
    "a"
   ]
  },
  {
   "cell_type": "code",
   "execution_count": 23,
   "id": "66ca961d-fc98-4fb1-a6aa-40ef7d4eae8c",
   "metadata": {},
   "outputs": [],
   "source": [
    "a.remove(999)  # 원소의 값을 이용한 삭제"
   ]
  },
  {
   "cell_type": "code",
   "execution_count": 24,
   "id": "ab730e29-2420-431f-9b69-a32a9c7778fc",
   "metadata": {},
   "outputs": [
    {
     "data": {
      "text/plain": [
       "array('i', [1, 2, 3, 4, 5, 100, 6, 8])"
      ]
     },
     "execution_count": 24,
     "metadata": {},
     "output_type": "execute_result"
    }
   ],
   "source": [
    "a"
   ]
  },
  {
   "cell_type": "code",
   "execution_count": 25,
   "id": "cb79bafd-5941-448e-bcac-d793cf11145f",
   "metadata": {},
   "outputs": [
    {
     "data": {
      "text/plain": [
       "8"
      ]
     },
     "execution_count": 25,
     "metadata": {},
     "output_type": "execute_result"
    }
   ],
   "source": [
    "a.pop()  # index를 이용한 원소 삭제 및 가져오기, 인자가 없으면 마지막 원소 가져오고 삭제"
   ]
  },
  {
   "cell_type": "code",
   "execution_count": 26,
   "id": "93cbfd14-03f8-4c87-8cf7-b7ec0fe485dd",
   "metadata": {},
   "outputs": [
    {
     "data": {
      "text/plain": [
       "array('i', [1, 2, 3, 4, 5, 100, 6])"
      ]
     },
     "execution_count": 26,
     "metadata": {},
     "output_type": "execute_result"
    }
   ],
   "source": [
    "a"
   ]
  },
  {
   "cell_type": "code",
   "execution_count": 27,
   "id": "443a517c-2ec0-4d05-a82a-b7b2c0f8484b",
   "metadata": {},
   "outputs": [
    {
     "data": {
      "text/plain": [
       "6"
      ]
     },
     "execution_count": 27,
     "metadata": {},
     "output_type": "execute_result"
    }
   ],
   "source": [
    "a.pop(-1) # index를 이용한 원소 삭제 및 가져오기"
   ]
  },
  {
   "cell_type": "code",
   "execution_count": 28,
   "id": "b1ee9d8d-5fff-4148-95fe-e7760bdf47e2",
   "metadata": {},
   "outputs": [
    {
     "data": {
      "text/plain": [
       "array('i', [1, 2, 3, 4, 5, 100])"
      ]
     },
     "execution_count": 28,
     "metadata": {},
     "output_type": "execute_result"
    }
   ],
   "source": [
    "a"
   ]
  },
  {
   "cell_type": "markdown",
   "id": "e76b06d7-00ff-47a7-9f8e-eb41c08f4ce4",
   "metadata": {},
   "source": [
    "## 배열의 원소값으로 위치 확인, 원소 개수 확인"
   ]
  },
  {
   "cell_type": "code",
   "execution_count": 29,
   "id": "7ad13d52-fd23-4ddd-9781-acf2eabb314d",
   "metadata": {},
   "outputs": [
    {
     "data": {
      "text/plain": [
       "(5, 1)"
      ]
     },
     "execution_count": 29,
     "metadata": {},
     "output_type": "execute_result"
    }
   ],
   "source": [
    "a.index(100), a.count(100)  # 원소의 값으로 위치 및 원소의 개수"
   ]
  },
  {
   "cell_type": "markdown",
   "id": "85a4f16e-7ff2-4547-87f3-59a8dfa1b360",
   "metadata": {},
   "source": [
    "## 배열을 역으로 정렬"
   ]
  },
  {
   "cell_type": "code",
   "execution_count": 30,
   "id": "13cb4d5f-a6c0-473f-b25a-c1fb7a057a82",
   "metadata": {},
   "outputs": [],
   "source": [
    "a.reverse()  # 반대 방향으로 정렬"
   ]
  },
  {
   "cell_type": "code",
   "execution_count": 31,
   "id": "2f37eefa-2c0e-46ea-90ef-fa608d9a61e6",
   "metadata": {},
   "outputs": [
    {
     "data": {
      "text/plain": [
       "array('i', [100, 5, 4, 3, 2, 1])"
      ]
     },
     "execution_count": 31,
     "metadata": {},
     "output_type": "execute_result"
    }
   ],
   "source": [
    "a"
   ]
  },
  {
   "cell_type": "markdown",
   "id": "560fca55-82f7-44c9-ae6d-5bf1145bea01",
   "metadata": {},
   "source": [
    "## 배열의 덧셈과 상수 곱셉"
   ]
  },
  {
   "cell_type": "code",
   "execution_count": 32,
   "id": "5e98f54e-b566-4f32-84be-e29e1f6fe78a",
   "metadata": {},
   "outputs": [
    {
     "data": {
      "text/plain": [
       "array('i', [100, 5, 4, 3, 2, 1, 100, 5, 4, 3, 2, 1])"
      ]
     },
     "execution_count": 32,
     "metadata": {},
     "output_type": "execute_result"
    }
   ],
   "source": [
    "a + a  # 두 배열을 하나로 만든다."
   ]
  },
  {
   "cell_type": "code",
   "execution_count": 33,
   "id": "54b4c9c6-5429-482c-8bdd-8e579b1a771c",
   "metadata": {},
   "outputs": [
    {
     "data": {
      "text/plain": [
       "array('i', [100, 5, 4, 3, 2, 1, 100, 5, 4, 3, 2, 1])"
      ]
     },
     "execution_count": 33,
     "metadata": {},
     "output_type": "execute_result"
    }
   ],
   "source": [
    "a * 2  # 기존 배열의 원소를 상수 배만큼 만든다. = a+a"
   ]
  }
 ],
 "metadata": {
  "kernelspec": {
   "display_name": "Python 3 (ipykernel)",
   "language": "python",
   "name": "python3"
  },
  "language_info": {
   "codemirror_mode": {
    "name": "ipython",
    "version": 3
   },
   "file_extension": ".py",
   "mimetype": "text/x-python",
   "name": "python",
   "nbconvert_exporter": "python",
   "pygments_lexer": "ipython3",
   "version": "3.9.13"
  }
 },
 "nbformat": 4,
 "nbformat_minor": 5
}
