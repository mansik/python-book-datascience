{
 "cells": [
  {
   "cell_type": "markdown",
   "id": "18ef6277-bdff-4689-a940-404b1efeca37",
   "metadata": {},
   "source": [
    "# 파이썬 기본"
   ]
  },
  {
   "cell_type": "markdown",
   "id": "1db5d644-6333-4a7a-91b5-5feacd3cee6a",
   "metadata": {},
   "source": [
    "# 파이썬 변수와 기본 문장 "
   ]
  },
  {
   "cell_type": "markdown",
   "id": "76feee0b-0552-4c1a-b5c0-464db2962d35",
   "metadata": {},
   "source": [
    "## 파이썬 변수"
   ]
  },
  {
   "cell_type": "code",
   "execution_count": 1,
   "id": "5c68dc58-e282-4543-825e-bf8daf4fb0db",
   "metadata": {},
   "outputs": [],
   "source": [
    "var = 100"
   ]
  },
  {
   "cell_type": "markdown",
   "id": "21aa545d-c350-4447-8f83-1dfaf3d719e3",
   "metadata": {},
   "source": [
    "* 파이썬은 모듈 단위로 하나의 이름공간을 관리한다.\n",
    "* 이 모듈의 이름공간은 전역 이름공간(global namespace)이며, dictionary로 구현 되어 있다.\n",
    "* 이 전역 이름공간의 정보를 조회하는 globals 함수"
   ]
  },
  {
   "cell_type": "code",
   "execution_count": 2,
   "id": "ef9b9ef5-d6b0-42da-9e4d-ad00263e2b25",
   "metadata": {},
   "outputs": [
    {
     "data": {
      "text/plain": [
       "100"
      ]
     },
     "execution_count": 2,
     "metadata": {},
     "output_type": "execute_result"
    }
   ],
   "source": [
    "globals()['var']"
   ]
  },
  {
   "cell_type": "code",
   "execution_count": 3,
   "id": "7475ed19-2945-4a1a-a292-983e37b368cc",
   "metadata": {},
   "outputs": [],
   "source": [
    "s = \"문자열\""
   ]
  },
  {
   "cell_type": "code",
   "execution_count": 4,
   "id": "21ec06e9-93be-4489-8c2c-5fe8cf5a027d",
   "metadata": {},
   "outputs": [
    {
     "data": {
      "text/plain": [
       "'문자열'"
      ]
     },
     "execution_count": 4,
     "metadata": {},
     "output_type": "execute_result"
    }
   ],
   "source": [
    "globals()['s']"
   ]
  },
  {
   "cell_type": "markdown",
   "id": "2760c25e-96db-4533-8c5b-fb2c3433a673",
   "metadata": {},
   "source": [
    "* 변수에 특정 자료형을 표시할 수 있는 타입 힌트(type hint)를 사용\n",
    "* 이것은 정의할 변수에 어떤 자료형의 값이 들어가는지 주석으로 표기하는 것이다."
   ]
  },
  {
   "cell_type": "code",
   "execution_count": 5,
   "id": "9c8df89b-866e-47c8-80ef-1240b01e980c",
   "metadata": {},
   "outputs": [],
   "source": [
    "x : int  # 변수에 타입 힌트 부여(변수 할당이 없어 전역 이름공간에 변수가 저장되지 않는다.)"
   ]
  },
  {
   "cell_type": "code",
   "execution_count": 6,
   "id": "d81c9df6-0b8a-4e65-9294-83fcf1274528",
   "metadata": {},
   "outputs": [
    {
     "ename": "NameError",
     "evalue": "name 'x' is not defined",
     "output_type": "error",
     "traceback": [
      "\u001b[1;31m---------------------------------------------------------------------------\u001b[0m",
      "\u001b[1;31mNameError\u001b[0m                                 Traceback (most recent call last)",
      "\u001b[1;32m~\\AppData\\Local\\Temp\\ipykernel_14828\\1345618024.py\u001b[0m in \u001b[0;36m<module>\u001b[1;34m\u001b[0m\n\u001b[1;32m----> 1\u001b[1;33m \u001b[0mx\u001b[0m  \u001b[1;31m# 변수 할당이 없어 예외 발생\u001b[0m\u001b[1;33m\u001b[0m\u001b[1;33m\u001b[0m\u001b[0m\n\u001b[0m",
      "\u001b[1;31mNameError\u001b[0m: name 'x' is not defined"
     ]
    }
   ],
   "source": [
    "x  # 변수 할당이 없어 예외 발생"
   ]
  },
  {
   "cell_type": "code",
   "execution_count": 7,
   "id": "78d39670-63c1-449a-899f-c2f6597aed47",
   "metadata": {},
   "outputs": [],
   "source": [
    "x = 100"
   ]
  },
  {
   "cell_type": "markdown",
   "id": "073408b2-a8b3-4fdb-8a96-c7e3d182b157",
   "metadata": {},
   "source": [
    "## 제어문"
   ]
  },
  {
   "cell_type": "code",
   "execution_count": 8,
   "id": "181b62e4-8f0a-4bbe-bed3-94a312cf299d",
   "metadata": {},
   "outputs": [
    {
     "name": "stdout",
     "output_type": "stream",
     "text": [
      "This is True\n"
     ]
    }
   ],
   "source": [
    "if 10 > 5:\n",
    "    print(\"This is True\")"
   ]
  },
  {
   "cell_type": "code",
   "execution_count": 9,
   "id": "b494cfc1-da0e-42f2-a7e1-7490b0458308",
   "metadata": {},
   "outputs": [
    {
     "name": "stdout",
     "output_type": "stream",
     "text": [
      "This is False\n"
     ]
    }
   ],
   "source": [
    "if 10 < 5:\n",
    "    print(\"This is True\")\n",
    "else:\n",
    "    print(\"This is False\")"
   ]
  },
  {
   "cell_type": "code",
   "execution_count": 10,
   "id": "ff5d955b-3384-4c52-9de9-14663bc9100e",
   "metadata": {},
   "outputs": [
    {
     "name": "stdout",
     "output_type": "stream",
     "text": [
      "This is False\n"
     ]
    }
   ],
   "source": [
    "print(\"This is True\") if 10 < 5 else print(\"This is False\")"
   ]
  },
  {
   "cell_type": "markdown",
   "id": "7173043c-5366-4fa7-ae87-f8e0eb8c6621",
   "metadata": {},
   "source": [
    "## 순환문"
   ]
  },
  {
   "cell_type": "code",
   "execution_count": 11,
   "id": "935f2922-00fd-409b-aca0-c225adb4cbc2",
   "metadata": {},
   "outputs": [
    {
     "data": {
      "text/plain": [
       "10"
      ]
     },
     "execution_count": 11,
     "metadata": {},
     "output_type": "execute_result"
    }
   ],
   "source": [
    "result = 0\n",
    "\n",
    "for i in range(1, 5):\n",
    "    result += i\n",
    "    \n",
    "result"
   ]
  },
  {
   "cell_type": "code",
   "execution_count": 12,
   "id": "61f8f1e6-5534-463c-930c-769e7ca06904",
   "metadata": {},
   "outputs": [
    {
     "data": {
      "text/plain": [
       "10"
      ]
     },
     "execution_count": 12,
     "metadata": {},
     "output_type": "execute_result"
    }
   ],
   "source": [
    "result = 0 \n",
    "i = 1\n",
    "\n",
    "while i < 5:\n",
    "    result += i\n",
    "    i += 1\n",
    "\n",
    "result"
   ]
  },
  {
   "cell_type": "code",
   "execution_count": null,
   "id": "256d39f7-59d0-49d5-8451-fc384f58584b",
   "metadata": {},
   "outputs": [],
   "source": []
  }
 ],
 "metadata": {
  "kernelspec": {
   "display_name": "Python 3 (ipykernel)",
   "language": "python",
   "name": "python3"
  },
  "language_info": {
   "codemirror_mode": {
    "name": "ipython",
    "version": 3
   },
   "file_extension": ".py",
   "mimetype": "text/x-python",
   "name": "python",
   "nbconvert_exporter": "python",
   "pygments_lexer": "ipython3",
   "version": "3.9.13"
  }
 },
 "nbformat": 4,
 "nbformat_minor": 5
}
