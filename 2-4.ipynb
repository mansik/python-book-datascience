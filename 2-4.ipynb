{
 "cells": [
  {
   "cell_type": "markdown",
   "id": "718474ba-68ce-48a7-8cdd-aabcb92d7525",
   "metadata": {},
   "source": [
    "# 파이썬 내장 숫자 클래스"
   ]
  },
  {
   "cell_type": "markdown",
   "id": "6403bd9e-faf8-462f-8f87-513b17910f46",
   "metadata": {},
   "source": [
    "## 정수(int)와 실수(float)\n",
    "\n",
    "* 정수나 실수 클래스를 객체로 만드는 2가지 방법\n",
    "  * 클래스 이름을 생성자로 사용\n",
    "  * 직접 숫자를 표기해서 사용 = 리터럴 표기법"
   ]
  },
  {
   "cell_type": "markdown",
   "id": "6e87a9a8-24cf-419a-9523-13a072990b2d",
   "metadata": {},
   "source": [
    "## 리터럴(literal) 표기법"
   ]
  },
  {
   "cell_type": "code",
   "execution_count": 1,
   "id": "74b7be08-1913-430b-b271-f192bd87d8d5",
   "metadata": {},
   "outputs": [],
   "source": [
    "x = 1"
   ]
  },
  {
   "cell_type": "code",
   "execution_count": 2,
   "id": "bfa73d12-c333-470c-a7e1-4d53ef5e1f8d",
   "metadata": {},
   "outputs": [
    {
     "data": {
      "text/plain": [
       "True"
      ]
     },
     "execution_count": 2,
     "metadata": {},
     "output_type": "execute_result"
    }
   ],
   "source": [
    "isinstance(x, int)"
   ]
  },
  {
   "cell_type": "code",
   "execution_count": 3,
   "id": "ca9f03bf-c770-428e-8878-a80bb164f74c",
   "metadata": {},
   "outputs": [],
   "source": [
    "y = 1.1"
   ]
  },
  {
   "cell_type": "code",
   "execution_count": 4,
   "id": "881c198a-1501-4450-9686-66784414cbe8",
   "metadata": {},
   "outputs": [
    {
     "data": {
      "text/plain": [
       "True"
      ]
     },
     "execution_count": 4,
     "metadata": {},
     "output_type": "execute_result"
    }
   ],
   "source": [
    "isinstance(y, float)"
   ]
  },
  {
   "cell_type": "markdown",
   "id": "d11298c2-77df-4fa8-92b6-3eb2f4ea174e",
   "metadata": {},
   "source": [
    "## 숫자 생성자로 객체 만들기"
   ]
  },
  {
   "cell_type": "code",
   "execution_count": 5,
   "id": "141abb14-acbb-4b32-96aa-15852abd3ec4",
   "metadata": {},
   "outputs": [],
   "source": [
    "a = float(1)"
   ]
  },
  {
   "cell_type": "code",
   "execution_count": 6,
   "id": "fb202e69-a685-43d3-887a-768ae0d1dcfc",
   "metadata": {},
   "outputs": [
    {
     "data": {
      "text/plain": [
       "1.0"
      ]
     },
     "execution_count": 6,
     "metadata": {},
     "output_type": "execute_result"
    }
   ],
   "source": [
    "a"
   ]
  },
  {
   "cell_type": "code",
   "execution_count": 7,
   "id": "598cb254-41c2-4f68-acc6-1d38134cd8ac",
   "metadata": {},
   "outputs": [],
   "source": [
    "b = int(a)"
   ]
  },
  {
   "cell_type": "code",
   "execution_count": 8,
   "id": "d97f79f6-38b7-4b26-a6fc-85903e48377b",
   "metadata": {},
   "outputs": [
    {
     "data": {
      "text/plain": [
       "1"
      ]
     },
     "execution_count": 8,
     "metadata": {},
     "output_type": "execute_result"
    }
   ],
   "source": [
    "b"
   ]
  },
  {
   "cell_type": "code",
   "execution_count": 9,
   "id": "115b9f70-bfbd-4684-8f7f-2b1ab5039c7b",
   "metadata": {},
   "outputs": [
    {
     "data": {
      "text/plain": [
       "(1.1, 1)"
      ]
     },
     "execution_count": 9,
     "metadata": {},
     "output_type": "execute_result"
    }
   ],
   "source": [
    "float('1.1'), int('1')"
   ]
  },
  {
   "cell_type": "code",
   "execution_count": 10,
   "id": "3d2551ac-529c-48f8-ba34-ec4cde8a0af5",
   "metadata": {},
   "outputs": [
    {
     "data": {
      "text/plain": [
       "False"
      ]
     },
     "execution_count": 10,
     "metadata": {},
     "output_type": "execute_result"
    }
   ],
   "source": [
    "'1.1'.isdigit()  # 문자열내에 숫자만 있는지 확인"
   ]
  },
  {
   "cell_type": "code",
   "execution_count": 11,
   "id": "ed901276-d309-4757-aa05-ccd6236ea42e",
   "metadata": {},
   "outputs": [
    {
     "name": "stdout",
     "output_type": "stream",
     "text": [
      "invalid literal for int() with base 10: '1.1'\n"
     ]
    }
   ],
   "source": [
    "# 문자가 들어간 문자열은 정수로 변환되지 않는다.\n",
    "try:\n",
    "    int('1.1') \n",
    "except Exception as e: \n",
    "    print(e)"
   ]
  },
  {
   "cell_type": "code",
   "execution_count": null,
   "id": "8d6777ae-71b5-4893-a61a-7c8aeac082af",
   "metadata": {},
   "outputs": [],
   "source": []
  }
 ],
 "metadata": {
  "kernelspec": {
   "display_name": "Python 3 (ipykernel)",
   "language": "python",
   "name": "python3"
  },
  "language_info": {
   "codemirror_mode": {
    "name": "ipython",
    "version": 3
   },
   "file_extension": ".py",
   "mimetype": "text/x-python",
   "name": "python",
   "nbconvert_exporter": "python",
   "pygments_lexer": "ipython3",
   "version": "3.9.13"
  }
 },
 "nbformat": 4,
 "nbformat_minor": 5
}
