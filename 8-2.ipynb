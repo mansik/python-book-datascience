{
 "cells": [
  {
   "cell_type": "markdown",
   "id": "ae2d2cef-fc9c-4462-adee-17b5a3cf4959",
   "metadata": {},
   "source": [
    "# 경우의 수\n",
    "\n",
    "* 일이 일어날 수 있는 가짓수를 구할 때 경우의 수를 사용한다. \n",
    "* 수학기호는 팩토리얼(!)로 표시\n",
    "* 특정 경우가 발생할 수가 자연수 n인 경우를 계산하려면 n!= 1 x 2 x 3 x ... x n\n",
    "* 순열(Permutation): 경우의 수에서 순서가 중요할 때 사용\n",
    "* 조합(Combination): 순서가 없는 경우 사용"
   ]
  },
  {
   "cell_type": "code",
   "execution_count": 1,
   "id": "476b5064-8214-4441-95e5-95e17d1603b9",
   "metadata": {},
   "outputs": [],
   "source": [
    "import numpy as np"
   ]
  },
  {
   "cell_type": "code",
   "execution_count": 2,
   "id": "02022761-06b3-479d-afcb-f3a2018cfef1",
   "metadata": {},
   "outputs": [],
   "source": [
    "# 10개의 원소를 가진 1차원 배열 생성\n",
    "l = np.arange(1, 11)"
   ]
  },
  {
   "cell_type": "code",
   "execution_count": 3,
   "id": "aca3180e-78c4-4589-b979-8d7bd00e4707",
   "metadata": {},
   "outputs": [
    {
     "data": {
      "text/plain": [
       "3628800"
      ]
     },
     "execution_count": 3,
     "metadata": {},
     "output_type": "execute_result"
    }
   ],
   "source": [
    "# 모든 원소의 곱\n",
    "np.prod(l)"
   ]
  },
  {
   "cell_type": "code",
   "execution_count": 4,
   "id": "39653313-793d-416d-b502-4ce1f9302a25",
   "metadata": {},
   "outputs": [],
   "source": [
    "import math"
   ]
  },
  {
   "cell_type": "code",
   "execution_count": 5,
   "id": "df9d8475-3747-4b25-8cc7-4fafa29ad43f",
   "metadata": {},
   "outputs": [
    {
     "data": {
      "text/plain": [
       "3628800"
      ]
     },
     "execution_count": 5,
     "metadata": {},
     "output_type": "execute_result"
    }
   ],
   "source": [
    "# 10! 계산 = 1 x 2 x 3 x ... x 10\n",
    "math.factorial(10)"
   ]
  },
  {
   "cell_type": "markdown",
   "id": "e7f86085-e31a-46aa-b5bd-d986e95700e0",
   "metadata": {},
   "source": [
    "## 순열(Permutation)\n",
    "\n",
    "* [순열과 조합](https://mathbang.net/545)\n",
    "* nPr = n개중에서 r개를 뽑아 줄을 세움 = n x (n-1) x (n-2) x ... x n-(r-1) = n!/(n-r)!\n",
    "  * 첫 번째로 뽑을 때는 n개중 1개를 뽑을 수 있음, n가지\n",
    "  * 두 번째로 뽑을 때는 n-1개중 1개를 뽑을 수 있음, n-1가지\n",
    "  * 세 번째로 뽑을 때는 n-2개중 1개를 뽑을 수 있음, n-2가지\n",
    "  * r 번째로 뽑을 때는 n-(r-1)개중 1개를 뽑을 수 있음, n-(r-1)가지"
   ]
  },
  {
   "cell_type": "code",
   "execution_count": 6,
   "id": "5b9406b5-6852-490c-933b-ced2d54b30ad",
   "metadata": {},
   "outputs": [],
   "source": [
    "# 원소의 개수\n",
    "n = 10"
   ]
  },
  {
   "cell_type": "code",
   "execution_count": 7,
   "id": "35961d3a-ce03-4f6e-90b4-1698bae188da",
   "metadata": {},
   "outputs": [],
   "source": [
    "r = 3"
   ]
  },
  {
   "cell_type": "code",
   "execution_count": 8,
   "id": "8f154677-6419-44b5-a459-2e80230f4506",
   "metadata": {},
   "outputs": [],
   "source": [
    "# 1부터 10까지의 원소를 가지는 1차원 배열 생성\n",
    "p = np.arange(1, (n+1))"
   ]
  },
  {
   "cell_type": "code",
   "execution_count": 9,
   "id": "6734301e-ec32-4acf-9ac6-31d3dadedd70",
   "metadata": {},
   "outputs": [
    {
     "data": {
      "text/plain": [
       "720.0"
      ]
     },
     "execution_count": 9,
     "metadata": {},
     "output_type": "execute_result"
    }
   ],
   "source": [
    "# 배열을 사용한 순열 계산 = n!/(n-r)!\n",
    "np.prod(p)/np.prod(np.arange(1, n-r+1))"
   ]
  },
  {
   "cell_type": "code",
   "execution_count": 10,
   "id": "d55981bf-c368-4721-9f59-abd8b108c9c9",
   "metadata": {},
   "outputs": [
    {
     "data": {
      "text/plain": [
       "720.0"
      ]
     },
     "execution_count": 10,
     "metadata": {},
     "output_type": "execute_result"
    }
   ],
   "source": [
    "# 순열 nPr = n!/(n-r)!\n",
    "math.factorial(n)/math.factorial(n-r)"
   ]
  },
  {
   "cell_type": "markdown",
   "id": "f8cfbb8d-2c91-4bcb-9f46-5b38846337c4",
   "metadata": {},
   "source": [
    "## 조합(Combination)\n",
    "\n",
    "* nCr = 서로 다른 n개중에서 r개를 순서에 상관없이 고르는 방법\n",
    "  * nCr = nPr/r! = n!/(r!*(n-r)!)"
   ]
  },
  {
   "cell_type": "code",
   "execution_count": 11,
   "id": "4da38742-ca3f-49c8-8091-25aee923a7a3",
   "metadata": {},
   "outputs": [
    {
     "data": {
      "text/plain": [
       "120.0"
      ]
     },
     "execution_count": 11,
     "metadata": {},
     "output_type": "execute_result"
    }
   ],
   "source": [
    "# 배을을 사용한 조합 계산 = n!/(r!*(n-r)!)\n",
    "np.prod(p)/(np.prod(np.arange(1, r+1)) * np.prod(np.arange(1, n-r+1)))"
   ]
  },
  {
   "cell_type": "code",
   "execution_count": 12,
   "id": "39c5af50-184a-4814-98f2-48fbb05a093f",
   "metadata": {},
   "outputs": [
    {
     "data": {
      "text/plain": [
       "120.0"
      ]
     },
     "execution_count": 12,
     "metadata": {},
     "output_type": "execute_result"
    }
   ],
   "source": [
    "# 조합 nCr = n!/(r!*(n-r)!)\n",
    "math.factorial(n) / (math.factorial(r) * math.factorial(n-r))"
   ]
  },
  {
   "cell_type": "code",
   "execution_count": null,
   "id": "fdc10dac-24ba-441a-b7a8-cc8473f195c8",
   "metadata": {},
   "outputs": [],
   "source": []
  }
 ],
 "metadata": {
  "kernelspec": {
   "display_name": "Python 3 (ipykernel)",
   "language": "python",
   "name": "python3"
  },
  "language_info": {
   "codemirror_mode": {
    "name": "ipython",
    "version": 3
   },
   "file_extension": ".py",
   "mimetype": "text/x-python",
   "name": "python",
   "nbconvert_exporter": "python",
   "pygments_lexer": "ipython3",
   "version": "3.9.13"
  }
 },
 "nbformat": 4,
 "nbformat_minor": 5
}
