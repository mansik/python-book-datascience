{
 "cells": [
  {
   "cell_type": "markdown",
   "id": "ae7f512b-8054-4310-955f-fc764163850b",
   "metadata": {},
   "source": [
    "# 지수, 로그와 삼각 함수"
   ]
  },
  {
   "cell_type": "code",
   "execution_count": 1,
   "id": "df60038c-8b17-48cd-b8d6-30730f9c2758",
   "metadata": {},
   "outputs": [],
   "source": [
    "import numpy as np\n",
    "import math"
   ]
  },
  {
   "cell_type": "code",
   "execution_count": 2,
   "id": "172bf2d6-2791-4ace-a361-45c055838229",
   "metadata": {},
   "outputs": [],
   "source": [
    "%matplotlib inline\n",
    "import matplotlib.pyplot as plt"
   ]
  },
  {
   "cell_type": "markdown",
   "id": "dd98403c-80ca-45df-908c-869c4c6fc468",
   "metadata": {},
   "source": [
    "## 1차원 배열 만들기"
   ]
  },
  {
   "cell_type": "code",
   "execution_count": 3,
   "id": "45e058f2-11cd-4e98-9c25-62cbcca902b6",
   "metadata": {},
   "outputs": [],
   "source": [
    "x = np.array([3, 4, 5, 6, 7, 8], dtype=float)"
   ]
  },
  {
   "cell_type": "code",
   "execution_count": 4,
   "id": "b30a3b47-61c8-4623-8cb7-52e10b0b3d16",
   "metadata": {},
   "outputs": [
    {
     "data": {
      "text/plain": [
       "dtype('float64')"
      ]
     },
     "execution_count": 4,
     "metadata": {},
     "output_type": "execute_result"
    }
   ],
   "source": [
    "x.dtype"
   ]
  },
  {
   "cell_type": "code",
   "execution_count": 5,
   "id": "dfcd698d-7e18-4abc-b8e2-c2943317b54c",
   "metadata": {},
   "outputs": [
    {
     "data": {
      "text/plain": [
       "array([3., 4., 5., 6., 7., 8.])"
      ]
     },
     "execution_count": 5,
     "metadata": {},
     "output_type": "execute_result"
    }
   ],
   "source": [
    "x"
   ]
  },
  {
   "cell_type": "markdown",
   "id": "f008ee8c-b188-4bc1-b4bc-268ad33013d3",
   "metadata": {},
   "source": [
    "## 지수의 계산"
   ]
  },
  {
   "cell_type": "code",
   "execution_count": 6,
   "id": "90169588-77f4-4bf3-aaed-a38165336467",
   "metadata": {},
   "outputs": [
    {
     "data": {
      "text/plain": [
       "100"
      ]
     },
     "execution_count": 6,
     "metadata": {},
     "output_type": "execute_result"
    }
   ],
   "source": [
    "np.power(10, 2)"
   ]
  },
  {
   "cell_type": "code",
   "execution_count": 7,
   "id": "163a7f9b-6121-4816-8a43-6726592be523",
   "metadata": {},
   "outputs": [
    {
     "data": {
      "text/plain": [
       "array([ 9., 16., 25., 36., 49., 64.])"
      ]
     },
     "execution_count": 7,
     "metadata": {},
     "output_type": "execute_result"
    }
   ],
   "source": [
    "# 넘파이 모듈은 다차원 배열을 인자로 받을 수 있다.\n",
    "np.power(x, 2)"
   ]
  },
  {
   "cell_type": "code",
   "execution_count": 8,
   "id": "fa630726-fcc0-48d6-bd5c-c81dac7c5827",
   "metadata": {},
   "outputs": [
    {
     "data": {
      "text/plain": [
       "array([  8.,  16.,  32.,  64., 128., 256.])"
      ]
     },
     "execution_count": 8,
     "metadata": {},
     "output_type": "execute_result"
    }
   ],
   "source": [
    "np.power(2, x)"
   ]
  },
  {
   "cell_type": "code",
   "execution_count": 9,
   "id": "16d711f2-7af7-4fc6-a318-e4d0c79c83af",
   "metadata": {},
   "outputs": [
    {
     "name": "stdout",
     "output_type": "stream",
     "text": [
      "only size-1 arrays can be converted to Python scalars\n"
     ]
    }
   ],
   "source": [
    "# math 모듈은 다차원 배열을 인자로 받을 수 없다. math 모듈은 스칼라값(단일값)을 처리\n",
    "try:\n",
    "    math.pow(x, 2)\n",
    "except Exception as e:\n",
    "    print(e)"
   ]
  },
  {
   "cell_type": "code",
   "execution_count": 10,
   "id": "a189e40e-3edd-4536-8a59-af31502f3613",
   "metadata": {},
   "outputs": [
    {
     "data": {
      "text/plain": [
       "8.0"
      ]
     },
     "execution_count": 10,
     "metadata": {},
     "output_type": "execute_result"
    }
   ],
   "source": [
    "math.pow(2, x[0])"
   ]
  },
  {
   "cell_type": "code",
   "execution_count": 11,
   "id": "3e4017c8-98ad-410e-87b0-8f7960d5a418",
   "metadata": {},
   "outputs": [
    {
     "data": {
      "text/plain": [
       "0.1"
      ]
     },
     "execution_count": 11,
     "metadata": {},
     "output_type": "execute_result"
    }
   ],
   "source": [
    "10**-1"
   ]
  },
  {
   "cell_type": "code",
   "execution_count": 12,
   "id": "f7c6a94a-7ea6-427f-b542-564117e0cf0e",
   "metadata": {},
   "outputs": [
    {
     "data": {
      "text/plain": [
       "array([0.33333333, 0.25      , 0.2       , 0.16666667, 0.14285714,\n",
       "       0.125     ])"
      ]
     },
     "execution_count": 12,
     "metadata": {},
     "output_type": "execute_result"
    }
   ],
   "source": [
    "x**-1"
   ]
  },
  {
   "cell_type": "code",
   "execution_count": 13,
   "id": "22044afb-c5fc-4edc-8eaf-e320c4545033",
   "metadata": {},
   "outputs": [
    {
     "data": {
      "text/plain": [
       "array([ 9., 16., 25., 36., 49., 64.])"
      ]
     },
     "execution_count": 13,
     "metadata": {},
     "output_type": "execute_result"
    }
   ],
   "source": [
    "x**2"
   ]
  },
  {
   "cell_type": "code",
   "execution_count": 14,
   "id": "c81207a7-20e7-4571-9c3c-57d89c9fc5ba",
   "metadata": {},
   "outputs": [
    {
     "data": {
      "text/plain": [
       "array([  8.,  16.,  32.,  64., 128., 256.])"
      ]
     },
     "execution_count": 14,
     "metadata": {},
     "output_type": "execute_result"
    }
   ],
   "source": [
    "2**x"
   ]
  },
  {
   "cell_type": "code",
   "execution_count": 15,
   "id": "56fb0f12-9618-47fd-adb9-c7a5d746ae45",
   "metadata": {},
   "outputs": [
    {
     "data": {
      "text/plain": [
       "array([1.73205081, 2.        , 2.23606798, 2.44948974, 2.64575131,\n",
       "       2.82842712])"
      ]
     },
     "execution_count": 15,
     "metadata": {},
     "output_type": "execute_result"
    }
   ],
   "source": [
    "np.power(x, 1/2)"
   ]
  },
  {
   "cell_type": "code",
   "execution_count": 16,
   "id": "27510a5f-d16c-4a7a-b17f-19ee9eaaf30e",
   "metadata": {},
   "outputs": [
    {
     "data": {
      "text/plain": [
       "array([1.73205081, 2.        , 2.23606798, 2.44948974, 2.64575131,\n",
       "       2.82842712])"
      ]
     },
     "execution_count": 16,
     "metadata": {},
     "output_type": "execute_result"
    }
   ],
   "source": [
    "x**(1/2)"
   ]
  },
  {
   "cell_type": "markdown",
   "id": "c6c369df-7b4c-4fde-8270-79a715e5329f",
   "metadata": {},
   "source": [
    "## e의 지수"
   ]
  },
  {
   "cell_type": "code",
   "execution_count": 17,
   "id": "99c313d7-53ef-46b5-97c0-267ba381d48b",
   "metadata": {},
   "outputs": [
    {
     "data": {
      "text/plain": [
       "array([  20.08553692,   54.59815003,  148.4131591 ,  403.42879349,\n",
       "       1096.63315843, 2980.95798704])"
      ]
     },
     "execution_count": 17,
     "metadata": {},
     "output_type": "execute_result"
    }
   ],
   "source": [
    "np.exp(x)  "
   ]
  },
  {
   "cell_type": "code",
   "execution_count": 18,
   "id": "942588d5-3b6c-4a54-9048-e6bced68e185",
   "metadata": {},
   "outputs": [
    {
     "name": "stdout",
     "output_type": "stream",
     "text": [
      "20.085536923187668\n",
      "54.598150033144236\n",
      "148.4131591025766\n",
      "403.4287934927351\n",
      "1096.6331584284585\n",
      "2980.9579870417283\n"
     ]
    }
   ],
   "source": [
    "for i in x:\n",
    "    print(math.exp(i))"
   ]
  },
  {
   "cell_type": "markdown",
   "id": "3de4e648-064d-4776-9a26-496dbe9b2877",
   "metadata": {},
   "source": [
    "## 2의 지수"
   ]
  },
  {
   "cell_type": "code",
   "execution_count": 19,
   "id": "81a30f90-cc2a-441e-84cc-404e49aaa04f",
   "metadata": {},
   "outputs": [
    {
     "data": {
      "text/plain": [
       "array([  8.,  16.,  32.,  64., 128., 256.])"
      ]
     },
     "execution_count": 19,
     "metadata": {},
     "output_type": "execute_result"
    }
   ],
   "source": [
    "np.exp2(x)"
   ]
  },
  {
   "cell_type": "code",
   "execution_count": 20,
   "id": "0e0a6e83-0aa8-4ac7-9419-514e71d42e7e",
   "metadata": {},
   "outputs": [
    {
     "data": {
      "text/plain": [
       "8.0"
      ]
     },
     "execution_count": 20,
     "metadata": {},
     "output_type": "execute_result"
    }
   ],
   "source": [
    "math.pow(2, x[0])"
   ]
  },
  {
   "cell_type": "code",
   "execution_count": 21,
   "id": "1050a324-169c-4b52-9a0d-edee46f13835",
   "metadata": {},
   "outputs": [
    {
     "data": {
      "text/plain": [
       "array([  8.,  16.,  32.,  64., 128., 256.])"
      ]
     },
     "execution_count": 21,
     "metadata": {},
     "output_type": "execute_result"
    }
   ],
   "source": [
    "np.power(2, x)"
   ]
  },
  {
   "cell_type": "markdown",
   "id": "6389063c-a2aa-4bce-b422-e1514e97d7c9",
   "metadata": {},
   "source": [
    "## 지수 그래프"
   ]
  },
  {
   "cell_type": "code",
   "execution_count": 22,
   "id": "2319e9a3-3317-4e7b-9255-6a95fe6f3464",
   "metadata": {},
   "outputs": [],
   "source": [
    "x_ = np.linspace(1, 10, 300)\n",
    "y_ = np.exp(x_)"
   ]
  },
  {
   "cell_type": "code",
   "execution_count": 23,
   "id": "6b1923a1-442b-4322-a3df-eb17720f8f50",
   "metadata": {},
   "outputs": [
    {
     "data": {
      "image/png": "[encoded data removed]",
      "text/plain": [
       "<Figure size 640x480 with 1 Axes>"
      ]
     },
     "metadata": {},
     "output_type": "display_data"
    }
   ],
   "source": [
    "plt.plot(x_, y_)\n",
    "plt.show()"
   ]
  },
  {
   "cell_type": "markdown",
   "id": "764f0732-6375-481e-bc56-9645ed455a3b",
   "metadata": {},
   "source": [
    "## 로그 함수\n",
    "\n",
    "* 데이터 분석에서 로그 함수를 이용하는 이유는 큰 수를 작은 수로 바꿔서 정규성을 높이고 분석에서 정확한 값을 구하기 위함이다."
   ]
  },
  {
   "cell_type": "code",
   "execution_count": 24,
   "id": "dcbb00ab-478d-4b82-92bf-a0dd6be2b3cf",
   "metadata": {},
   "outputs": [
    {
     "data": {
      "text/plain": [
       "array([1.09861229, 1.38629436, 1.60943791, 1.79175947, 1.94591015,\n",
       "       2.07944154])"
      ]
     },
     "execution_count": 24,
     "metadata": {},
     "output_type": "execute_result"
    }
   ],
   "source": [
    "np.log(x)"
   ]
  },
  {
   "cell_type": "code",
   "execution_count": 25,
   "id": "c35a98b7-d534-438b-8941-4bed07c7ae59",
   "metadata": {},
   "outputs": [
    {
     "name": "stdout",
     "output_type": "stream",
     "text": [
      "1.0986122886681098\n",
      "1.3862943611198906\n",
      "1.6094379124341003\n",
      "1.791759469228055\n",
      "1.9459101490553132\n",
      "2.0794415416798357\n"
     ]
    }
   ],
   "source": [
    "# math는 하나의 값을 처리한다.\n",
    "for i in x:\n",
    "    print(math.log(i))"
   ]
  },
  {
   "cell_type": "code",
   "execution_count": 26,
   "id": "3dfabe22-aa42-4398-93da-7623fe6ce472",
   "metadata": {},
   "outputs": [
    {
     "data": {
      "text/plain": [
       "array([0.47712125, 0.60205999, 0.69897   , 0.77815125, 0.84509804,\n",
       "       0.90308999])"
      ]
     },
     "execution_count": 26,
     "metadata": {},
     "output_type": "execute_result"
    }
   ],
   "source": [
    "np.log10(x)"
   ]
  },
  {
   "cell_type": "code",
   "execution_count": 27,
   "id": "7a6de584-ef49-4d8e-9963-2087022527ee",
   "metadata": {},
   "outputs": [
    {
     "data": {
      "text/plain": [
       "0.47712125471966244"
      ]
     },
     "execution_count": 27,
     "metadata": {},
     "output_type": "execute_result"
    }
   ],
   "source": [
    "# math는 하나의 값을 처리한다.\n",
    "math.log10(x[0])"
   ]
  },
  {
   "cell_type": "markdown",
   "id": "a73a961a-8bf7-468e-a76a-edfd5cc59a7c",
   "metadata": {},
   "source": [
    "## log 그래프"
   ]
  },
  {
   "cell_type": "code",
   "execution_count": 28,
   "id": "9d8aac54-1169-4db4-876d-940a44459a9f",
   "metadata": {},
   "outputs": [],
   "source": [
    "x_ = np.linspace(1, 20000, 300)\n",
    "y_ = np.log(x_)"
   ]
  },
  {
   "cell_type": "code",
   "execution_count": 29,
   "id": "fbed9f23-17c3-4832-8ce1-876577cf4d66",
   "metadata": {},
   "outputs": [
    {
     "data": {
      "image/png": "[encoded data removed]",
      "text/plain": [
       "<Figure size 640x480 with 1 Axes>"
      ]
     },
     "metadata": {},
     "output_type": "display_data"
    }
   ],
   "source": [
    "plt.plot(x_, y_)\n",
    "plt.show()"
   ]
  },
  {
   "cell_type": "markdown",
   "id": "406263c1-6788-433a-9f8b-017a6b73a053",
   "metadata": {},
   "source": [
    "## 삼각 함수"
   ]
  },
  {
   "cell_type": "code",
   "execution_count": 30,
   "id": "4a7e4f7f-c51e-40c9-af5c-8c3b10846663",
   "metadata": {},
   "outputs": [
    {
     "data": {
      "text/plain": [
       "0.0"
      ]
     },
     "execution_count": 30,
     "metadata": {},
     "output_type": "execute_result"
    }
   ],
   "source": [
    "# () 안에는 라디안 값이 들어간다.\n",
    "np.sin(0)"
   ]
  },
  {
   "cell_type": "code",
   "execution_count": 31,
   "id": "bff21311-64ea-436f-be56-a075cfe2f937",
   "metadata": {},
   "outputs": [
    {
     "data": {
      "text/plain": [
       "1.0"
      ]
     },
     "execution_count": 31,
     "metadata": {},
     "output_type": "execute_result"
    }
   ],
   "source": [
    "np.cos(0)"
   ]
  },
  {
   "cell_type": "code",
   "execution_count": 32,
   "id": "f8926f1c-5c36-4388-a936-d4fa3d70be49",
   "metadata": {},
   "outputs": [
    {
     "data": {
      "text/plain": [
       "0.5235987755982988"
      ]
     },
     "execution_count": 32,
     "metadata": {},
     "output_type": "execute_result"
    }
   ],
   "source": [
    "# 각도를 라디안으로 변환\n",
    "np.deg2rad(30)"
   ]
  },
  {
   "cell_type": "code",
   "execution_count": 33,
   "id": "c4c00eb1-d895-4a2d-8777-54b335fce7a6",
   "metadata": {},
   "outputs": [
    {
     "data": {
      "text/plain": [
       "0.49999999999999994"
      ]
     },
     "execution_count": 33,
     "metadata": {},
     "output_type": "execute_result"
    }
   ],
   "source": [
    "# 30도를 라디언으로 변경해서 sin 구하기\n",
    "np.sin(np.deg2rad(30))"
   ]
  },
  {
   "cell_type": "code",
   "execution_count": 34,
   "id": "68598784-ab07-42a1-90cc-8b80ea385f6a",
   "metadata": {},
   "outputs": [
    {
     "data": {
      "text/plain": [
       "0.8660254037844387"
      ]
     },
     "execution_count": 34,
     "metadata": {},
     "output_type": "execute_result"
    }
   ],
   "source": [
    "np.cos(np.deg2rad(30))"
   ]
  },
  {
   "cell_type": "code",
   "execution_count": 35,
   "id": "41bc2b91-5e49-4735-aa4f-23bc56372c06",
   "metadata": {},
   "outputs": [
    {
     "data": {
      "text/plain": [
       "array([3., 4., 5., 6., 7., 8.])"
      ]
     },
     "execution_count": 35,
     "metadata": {},
     "output_type": "execute_result"
    }
   ],
   "source": [
    "x"
   ]
  },
  {
   "cell_type": "code",
   "execution_count": 36,
   "id": "ab1de239-c8ce-4d74-bc53-f26fe346ba42",
   "metadata": {},
   "outputs": [
    {
     "data": {
      "text/plain": [
       "0.08715574274765817"
      ]
     },
     "execution_count": 36,
     "metadata": {},
     "output_type": "execute_result"
    }
   ],
   "source": [
    "# 각도 5도를 라디안으로 변환하기 위해서 *pi/180을 사용\n",
    "np.sin(5*np.pi/180)"
   ]
  },
  {
   "cell_type": "code",
   "execution_count": 37,
   "id": "a7888a91-3cfc-43a4-8fc4-5c45ff8a96be",
   "metadata": {},
   "outputs": [
    {
     "data": {
      "text/plain": [
       "0.08726646259971647"
      ]
     },
     "execution_count": 37,
     "metadata": {},
     "output_type": "execute_result"
    }
   ],
   "source": [
    "# 라디안 변환이 맞는지 확인\n",
    "5*np.pi/180"
   ]
  },
  {
   "cell_type": "code",
   "execution_count": 38,
   "id": "bdb4803f-d542-490f-b619-5ba773d22596",
   "metadata": {},
   "outputs": [
    {
     "data": {
      "text/plain": [
       "0.08726646259971647"
      ]
     },
     "execution_count": 38,
     "metadata": {},
     "output_type": "execute_result"
    }
   ],
   "source": [
    "np.deg2rad(5)"
   ]
  },
  {
   "cell_type": "code",
   "execution_count": 39,
   "id": "91608c89-a75e-4ee3-b567-e97a1eaf13ae",
   "metadata": {},
   "outputs": [
    {
     "data": {
      "text/plain": [
       "array([0.05233596, 0.06975647, 0.08715574, 0.10452846, 0.12186934,\n",
       "       0.1391731 ])"
      ]
     },
     "execution_count": 39,
     "metadata": {},
     "output_type": "execute_result"
    }
   ],
   "source": [
    "np.sin(x*(np.pi/180))"
   ]
  },
  {
   "cell_type": "code",
   "execution_count": 40,
   "id": "7d1ee7f0-9f94-4bcc-b828-5270d07b4cd2",
   "metadata": {},
   "outputs": [
    {
     "name": "stdout",
     "output_type": "stream",
     "text": [
      "0.052335956242943835\n",
      "0.0697564737441253\n",
      "0.08715574274765817\n",
      "0.10452846326765347\n",
      "0.12186934340514748\n",
      "0.13917310096006544\n"
     ]
    }
   ],
   "source": [
    "for i in x:\n",
    "     print(math.sin(i*(math.pi/180)))"
   ]
  },
  {
   "cell_type": "markdown",
   "id": "79598d70-3314-4045-bd69-979aa8068d27",
   "metadata": {},
   "source": [
    "# 수학 함수를 이용한 그래프 그리기"
   ]
  },
  {
   "cell_type": "code",
   "execution_count": 41,
   "id": "f7891c61-8f9d-4323-9fe5-7c0d1156086b",
   "metadata": {},
   "outputs": [],
   "source": [
    "x = np.linspace(-10, 10, 500)\n",
    "y = np.sin(x)"
   ]
  },
  {
   "cell_type": "code",
   "execution_count": 42,
   "id": "a1fa0b33-fa6e-4caa-8171-0443dfe83708",
   "metadata": {},
   "outputs": [
    {
     "ename": "NameError",
     "evalue": "name 'lt' is not defined",
     "output_type": "error",
     "traceback": [
      "\u001b[1;31m---------------------------------------------------------------------------\u001b[0m",
      "\u001b[1;31mNameError\u001b[0m                                 Traceback (most recent call last)",
      "\u001b[1;32m~\\AppData\\Local\\Temp\\ipykernel_8176\\1348562477.py\u001b[0m in \u001b[0;36m<module>\u001b[1;34m\u001b[0m\n\u001b[0;32m      1\u001b[0m \u001b[0mfig\u001b[0m\u001b[1;33m,\u001b[0m \u001b[0max\u001b[0m \u001b[1;33m=\u001b[0m \u001b[0mplt\u001b[0m\u001b[1;33m.\u001b[0m\u001b[0msubplots\u001b[0m\u001b[1;33m(\u001b[0m\u001b[0mfigsize\u001b[0m\u001b[1;33m=\u001b[0m\u001b[1;33m(\u001b[0m\u001b[1;36m8\u001b[0m\u001b[1;33m,\u001b[0m \u001b[1;36m4\u001b[0m\u001b[1;33m)\u001b[0m\u001b[1;33m)\u001b[0m\u001b[1;33m\u001b[0m\u001b[1;33m\u001b[0m\u001b[0m\n\u001b[0;32m      2\u001b[0m \u001b[0max\u001b[0m\u001b[1;33m.\u001b[0m\u001b[0mplot\u001b[0m\u001b[1;33m(\u001b[0m\u001b[0mx\u001b[0m\u001b[1;33m,\u001b[0m \u001b[0my\u001b[0m\u001b[1;33m,\u001b[0m \u001b[0mlinewidth\u001b[0m\u001b[1;33m=\u001b[0m\u001b[1;36m2\u001b[0m\u001b[1;33m)\u001b[0m\u001b[1;33m\u001b[0m\u001b[1;33m\u001b[0m\u001b[0m\n\u001b[1;32m----> 3\u001b[1;33m \u001b[0mlt\u001b[0m\u001b[1;33m.\u001b[0m\u001b[0mshow\u001b[0m\u001b[1;33m(\u001b[0m\u001b[1;33m)\u001b[0m\u001b[1;33m\u001b[0m\u001b[1;33m\u001b[0m\u001b[0m\n\u001b[0m",
      "\u001b[1;31mNameError\u001b[0m: name 'lt' is not defined"
     ]
    },
    {
     "data": {
      "image/png": "[encoded data removed]",
      "text/plain": [
       "<Figure size 800x400 with 1 Axes>"
      ]
     },
     "metadata": {},
     "output_type": "display_data"
    }
   ],
   "source": [
    "fig, ax = plt.subplots(figsize=(8, 4))\n",
    "ax.plot(x, y, linewidth=2)\n",
    "lt.show()"
   ]
  },
  {
   "cell_type": "markdown",
   "id": "7f6092f9-8014-450a-88f9-7c5d94a1d4f3",
   "metadata": {},
   "source": [
    "## 좌표 조정: spines 함수"
   ]
  },
  {
   "cell_type": "code",
   "execution_count": null,
   "id": "4ba1584f-dced-4e32-a9cb-638527b7124b",
   "metadata": {},
   "outputs": [],
   "source": [
    "# 좌표 조정:spines 함수, set_color('none')를 사용하여 축 제거\n",
    "fig, ax = plt.subplots(figsize=(8, 4))\n",
    "ax.plot(x, y, linewidth=2)\n",
    "ax.spines['right'].set_color('none') # 그래프의 오른쪽 축 삭제\n",
    "ax.spines['top'].set_visible(False) # 그래프의 위쪽 축 삭제\n",
    "plt.show()"
   ]
  },
  {
   "cell_type": "markdown",
   "id": "4240037d-04b6-4a94-b9e1-d4045c4781e1",
   "metadata": {},
   "source": [
    "## 좌표축 이동: set_position()"
   ]
  },
  {
   "cell_type": "code",
   "execution_count": null,
   "id": "a417d2d6-828b-45cd-a915-8b717fb77b77",
   "metadata": {},
   "outputs": [],
   "source": [
    "fig, ax = plt.subplots(figsize=(8, 4))\n",
    "ax.plot(x, y, linewidth=2)\n",
    "\n",
    "ax.spines['right'].set_color('none') # 그래프의 오른쪽 축 삭제\n",
    "ax.spines['top'].set_visible(False) # 그래프의 위쪽 축 삭제\n",
    "\n",
    "ax.spines['bottom'].set_position(('data',0)) # 좌표축을 0.0으로 이동\n",
    "ax.spines['left'].set_position(('data',0))\n",
    "plt.show()"
   ]
  },
  {
   "cell_type": "markdown",
   "id": "5ebfc100-9524-4d20-a63f-182cb003ddb5",
   "metadata": {},
   "source": [
    "## 좌표축 레이블 변경: axis.set_xticks()"
   ]
  },
  {
   "cell_type": "code",
   "execution_count": null,
   "id": "30c86e5e-07fe-4a9e-a8a6-ee262c1a382b",
   "metadata": {},
   "outputs": [],
   "source": [
    "fig, ax = plt.subplots(figsize=(8, 4))\n",
    "ax.plot(x, y, linewidth=2)\n",
    "\n",
    "ax.spines['right'].set_color('none') # 그래프의 오른쪽 축 삭제\n",
    "ax.spines['top'].set_visible(False) # 그래프의 위쪽 축 삭제\n",
    "\n",
    "ax.spines['bottom'].set_position(('data',0)) # 좌표축을 0.0으로 이동\n",
    "ax.spines['left'].set_position(('data',0))\n",
    "\n",
    "ax.set_xticks([-10, -5, 5, 10]) # 좌표축 레이블 변경\n",
    "ax.set_yticks([-1, -0.5, 0.5, 1]) \n",
    "plt.show()"
   ]
  },
  {
   "cell_type": "code",
   "execution_count": null,
   "id": "9fc3c09b-8c71-4dcb-a468-1230c3b776fd",
   "metadata": {},
   "outputs": [],
   "source": []
  }
 ],
 "metadata": {
  "kernelspec": {
   "display_name": "Python 3 (ipykernel)",
   "language": "python",
   "name": "python3"
  },
  "language_info": {
   "codemirror_mode": {
    "name": "ipython",
    "version": 3
   },
   "file_extension": ".py",
   "mimetype": "text/x-python",
   "name": "python",
   "nbconvert_exporter": "python",
   "pygments_lexer": "ipython3",
   "version": "3.9.13"
  }
 },
 "nbformat": 4,
 "nbformat_minor": 5
}
