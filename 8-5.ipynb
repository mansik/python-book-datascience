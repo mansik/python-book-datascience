{
 "cells": [
  {
   "cell_type": "markdown",
   "id": "a512b6b8-818d-4999-bc0a-afd523df77cb",
   "metadata": {},
   "source": [
    "# 베이지안"
   ]
  },
  {
   "cell_type": "markdown",
   "id": "875e27a5-adb3-40db-98a1-91792f936e01",
   "metadata": {},
   "source": [
    "* 두 사건의 확률을 처리할 때는 두 사건을 합쳐서 복합사건으로 처리한다.\n",
    "* 사건이 동시에 일어난 경우와 사건이 개별적으로 일어난 경우에 따라 확률을 처리하는 법칙이 다를 수 있다.\n",
    "* 이러한 확률법칙에는 조건부 확률과 베이지안 확률이 있다."
   ]
  },
  {
   "cell_type": "markdown",
   "id": "9b371b00-030e-4e44-9e28-bcc61b4b4b91",
   "metadata": {},
   "source": [
    "## 조건부 확률(연속해서 발생)\n",
    "\n",
    "* 사건 A가 일어난 후 사건 B가 일어날 확률을 조건부 확률이라고 한다.P(B:A)로 표시한다. 연속해서 발생\n",
    "* 사건 A가 발생하면 전체 표본 공간이 사건 A로 줄어들며, 이 표본 공간에서 사건 B가 발생한 것을 구하는 것이다.\n",
    "* P(B:A) = P(A ∩ B) / P(A)\n",
    "* 조건부 확률에서 두 사건이 동시에 발생할 수 있는 곱사건은\n",
    "* P(A ∩ B) = P(A) * P(B:A)"
   ]
  },
  {
   "cell_type": "markdown",
   "id": "ccf6c6de-90b8-4d85-aabd-d8da472febc9",
   "metadata": {},
   "source": [
    "## 독립사건\n",
    "\n",
    "* 두 사건이 독립되어 있어서 서로 만나는 경우가 없을 때 \n",
    "* 조건부 확률의 결과는 사건 A 내의 표본 공간에서 구할 수 없어서 사건 B를 구하는 확률이 된다.\n",
    "* P(B|A) = P(B)\n",
    "* 독립사건일 때 곱사건은 \n",
    "* P(A ∩ B) = P(A) * P(B)"
   ]
  },
  {
   "cell_type": "markdown",
   "id": "56ddf655-19fc-488b-9a46-bd9631283b4f",
   "metadata": {},
   "source": [
    "## 상호 보완적인 이벤트\n",
    "\n",
    "* 사건 A가 발생할 때 발생하지 않는 모든 사건은 여사건(complementary event)이다.\n",
    "* 여사건은 전체 확률에서 사건 A가 발생할 확률을 빼서 구한다.\n",
    "* P(A^c) = 1 - P(A)"
   ]
  },
  {
   "cell_type": "markdown",
   "id": "c8b44963-a7d9-47b1-8aeb-afdba002843b",
   "metadata": {},
   "source": [
    "## 총확률 정리"
   ]
  },
  {
   "cell_type": "markdown",
   "id": "d38204b0-fa62-4caf-b11b-be008eb995b9",
   "metadata": {},
   "source": [
    "## 베이지안 정리\n",
    "\n",
    "* 특정 표본 공간에서 사전 확률이 명확히 분해된 경우 \n",
    "* 즉 두 확률이 배반사건일 경우에 다른 사건이 발생할 때 이 사건의 결과로 기존 원인 사건을 역으로 계산하는 방식이다."
   ]
  },
  {
   "cell_type": "markdown",
   "id": "1e9e90b9-7b97-47e2-aede-3b583f3a7a71",
   "metadata": {},
   "source": [
    "## 두 그릇에 있는 쿠키의 베이지안 처리\n",
    "\n",
    "* 특정 결과에서 원인을 찾는 가장 쉬운 쿠키 문제를 베이지안 정리에 따라 계산해 보자.\n",
    "* 그릇 1에는 바닐라 쿠키 30개와 초콜릿 쿠키가 10개, 그릇 2에는 바닐라 쿠키와 초콜릿 쿠키가 20개씩 들어 있다.\n",
    "* 하나를 선택했을 때 바닐라 쿠키가 나올 경우, 이 결과를 보고 그릇 1에서 바닐라 쿠키를 선택할 확률을 구하는 것이 베이지안 방식이다."
   ]
  },
  {
   "cell_type": "markdown",
   "id": "2c03cd0e-ae2e-40a5-b9ed-c9c00d3e4f6d",
   "metadata": {},
   "source": [
    "### 그릇의 확률 만들기"
   ]
  },
  {
   "cell_type": "code",
   "execution_count": 1,
   "id": "f58066fe-19ea-4af4-8af0-0e9e559f0275",
   "metadata": {},
   "outputs": [],
   "source": [
    "import lea"
   ]
  },
  {
   "cell_type": "code",
   "execution_count": 2,
   "id": "7892a12d-eac1-4593-98ae-d86088f51bf0",
   "metadata": {},
   "outputs": [],
   "source": [
    "# 두 그릇에 대한 가설을 확률로 만들기 위해  vals 함수에 두 그릇의 정보를 넣는다.\n",
    "bowl = lea.vals(\"bowl1\", \"bowl2\", prob_type='r')"
   ]
  },
  {
   "cell_type": "code",
   "execution_count": 3,
   "id": "557210a8-c690-48ee-b881-bac944b22292",
   "metadata": {},
   "outputs": [
    {
     "data": {
      "text/plain": [
       "bowl1 : 1/2\n",
       "bowl2 : 1/2"
      ]
     },
     "execution_count": 3,
     "metadata": {},
     "output_type": "execute_result"
    }
   ],
   "source": [
    "bowl"
   ]
  },
  {
   "cell_type": "code",
   "execution_count": 4,
   "id": "36ac1fec-5cee-4741-bff3-4a6b896a9d4b",
   "metadata": {},
   "outputs": [
    {
     "data": {
      "text/plain": [
       "1/2"
      ]
     },
     "execution_count": 4,
     "metadata": {},
     "output_type": "execute_result"
    }
   ],
   "source": [
    "# 두 그릇 중에서 하나의 그릇을 선택할 확률을 p메소드로 확인\n",
    "bowl.p(\"bowl1\")"
   ]
  },
  {
   "cell_type": "code",
   "execution_count": 5,
   "id": "7d69d321-24d0-468a-a9e1-bc35dc550785",
   "metadata": {},
   "outputs": [],
   "source": [
    "# 그릇 1에 들어갈 확률을 바닐라 쿠키 30개와 초콜릿 쿠키 10개로 지정해서 구한다.\n",
    "bowl1 = lea.pmf({\"V\": 30, \"C\":10}, prob_type='r')"
   ]
  },
  {
   "cell_type": "code",
   "execution_count": 6,
   "id": "f7b535b4-7e69-48bf-96a9-56c605110574",
   "metadata": {},
   "outputs": [
    {
     "data": {
      "text/plain": [
       "C : 1/4\n",
       "V : 3/4"
      ]
     },
     "execution_count": 6,
     "metadata": {},
     "output_type": "execute_result"
    }
   ],
   "source": [
    "bowl1"
   ]
  },
  {
   "cell_type": "code",
   "execution_count": 7,
   "id": "716b08ca-d418-4b57-8140-9004e9e64e9b",
   "metadata": {},
   "outputs": [
    {
     "data": {
      "text/plain": [
       "1"
      ]
     },
     "execution_count": 7,
     "metadata": {},
     "output_type": "execute_result"
    }
   ],
   "source": [
    "bowl1.p_sum"
   ]
  },
  {
   "cell_type": "code",
   "execution_count": 8,
   "id": "68d5b180-9478-4638-8a34-c74ce8d89d80",
   "metadata": {},
   "outputs": [
    {
     "data": {
      "text/plain": [
       "3/4"
      ]
     },
     "execution_count": 8,
     "metadata": {},
     "output_type": "execute_result"
    }
   ],
   "source": [
    "# \"V\"가 나올 확률\n",
    "bowl1.p('V')"
   ]
  },
  {
   "cell_type": "code",
   "execution_count": 9,
   "id": "f4dd30a2-9ef6-4ab5-b2f9-d44f005bad7c",
   "metadata": {},
   "outputs": [
    {
     "data": {
      "text/plain": [
       "1/4"
      ]
     },
     "execution_count": 9,
     "metadata": {},
     "output_type": "execute_result"
    }
   ],
   "source": [
    "bowl1.p('C')"
   ]
  },
  {
   "cell_type": "code",
   "execution_count": 10,
   "id": "7b2710a9-2738-4ab4-8f29-dfbfad9cbbd9",
   "metadata": {},
   "outputs": [],
   "source": [
    "# 그릇 2에는 바닐라 쿠키와 초콜릿 쿠키가 각각 20개씩 배정해서 확률을 구한다.\n",
    "bowl2 = lea.pmf({\"V\": 20, \"C\": 20}, prob_type='r')"
   ]
  },
  {
   "cell_type": "code",
   "execution_count": 11,
   "id": "8ce7cb17-4e08-4bc8-b41d-683d834fde65",
   "metadata": {},
   "outputs": [
    {
     "data": {
      "text/plain": [
       "C : 1/2\n",
       "V : 1/2"
      ]
     },
     "execution_count": 11,
     "metadata": {},
     "output_type": "execute_result"
    }
   ],
   "source": [
    "bowl2"
   ]
  },
  {
   "cell_type": "markdown",
   "id": "a6ce05f1-1539-4023-a8de-9ad6ae658064",
   "metadata": {},
   "source": [
    "### 확률 분포 그리기\n",
    "\n",
    "* 두 그릇에 든 내용을 기초로 확률분포를 만든다.\n",
    "* 두 그릇의 확률정보는 ps 속성으로 확인해서 두 개의 열에 각각 넣는다."
   ]
  },
  {
   "cell_type": "code",
   "execution_count": 12,
   "id": "8781c4cf-503a-46c5-8e77-642b803b1e70",
   "metadata": {},
   "outputs": [],
   "source": [
    "import pandas as pd"
   ]
  },
  {
   "cell_type": "code",
   "execution_count": 13,
   "id": "5f8a0855-23c3-491d-8aa3-997acadfade7",
   "metadata": {},
   "outputs": [],
   "source": [
    "data = {'bowl1': bowl1.ps, 'bowl2': bowl2.ps}"
   ]
  },
  {
   "cell_type": "code",
   "execution_count": 14,
   "id": "000ca718-14a2-4299-b6bf-9adfb1d7a491",
   "metadata": {},
   "outputs": [
    {
     "data": {
      "text/plain": [
       "{'bowl1': (1/4, 3/4), 'bowl2': (1/2, 1/2)}"
      ]
     },
     "execution_count": 14,
     "metadata": {},
     "output_type": "execute_result"
    }
   ],
   "source": [
    "data"
   ]
  },
  {
   "cell_type": "code",
   "execution_count": 15,
   "id": "2ff6401b-fed8-4380-b8ae-213e150ed434",
   "metadata": {},
   "outputs": [],
   "source": [
    "# 확률분포표 생성\n",
    "df = pd.DataFrame(data, index=['chocolate', 'vanilla'])"
   ]
  },
  {
   "cell_type": "code",
   "execution_count": 16,
   "id": "3ce6fd3c-fa4c-42bd-b709-a2bee23e3757",
   "metadata": {},
   "outputs": [
    {
     "data": {
      "text/html": [
       "<div>\n",
       "<style scoped>\n",
       "    .dataframe tbody tr th:only-of-type {\n",
       "        vertical-align: middle;\n",
       "    }\n",
       "\n",
       "    .dataframe tbody tr th {\n",
       "        vertical-align: top;\n",
       "    }\n",
       "\n",
       "    .dataframe thead th {\n",
       "        text-align: right;\n",
       "    }\n",
       "</style>\n",
       "<table border=\"1\" class=\"dataframe\">\n",
       "  <thead>\n",
       "    <tr style=\"text-align: right;\">\n",
       "      <th></th>\n",
       "      <th>bowl1</th>\n",
       "      <th>bowl2</th>\n",
       "    </tr>\n",
       "  </thead>\n",
       "  <tbody>\n",
       "    <tr>\n",
       "      <th>chocolate</th>\n",
       "      <td>1/4</td>\n",
       "      <td>1/2</td>\n",
       "    </tr>\n",
       "    <tr>\n",
       "      <th>vanilla</th>\n",
       "      <td>3/4</td>\n",
       "      <td>1/2</td>\n",
       "    </tr>\n",
       "  </tbody>\n",
       "</table>\n",
       "</div>"
      ],
      "text/plain": [
       "          bowl1 bowl2\n",
       "chocolate   1/4   1/2\n",
       "vanilla     3/4   1/2"
      ]
     },
     "execution_count": 16,
     "metadata": {},
     "output_type": "execute_result"
    }
   ],
   "source": [
    "df"
   ]
  },
  {
   "cell_type": "code",
   "execution_count": 17,
   "id": "12be770c-8b21-4f7a-95ca-0a5cb2ead8ba",
   "metadata": {},
   "outputs": [],
   "source": [
    "# 이 분포를 막대그래프로 그릴 때 유리수를 처리하지 못하므로 실수로 자료형을 변환 후 막대그래프를 그린다.\n",
    "df_ = df.astype('float')"
   ]
  },
  {
   "cell_type": "code",
   "execution_count": 18,
   "id": "1a5a042a-f336-4b2d-8ae3-953bb9c403db",
   "metadata": {},
   "outputs": [
    {
     "data": {
      "text/plain": [
       "<AxesSubplot: >"
      ]
     },
     "execution_count": 18,
     "metadata": {},
     "output_type": "execute_result"
    },
    {
     "data": {
      "image/png": "[encoded data removed]",
      "text/plain": [
       "<Figure size 640x480 with 1 Axes>"
      ]
     },
     "metadata": {},
     "output_type": "display_data"
    }
   ],
   "source": [
    "df_.plot(kind='bar')"
   ]
  },
  {
   "cell_type": "markdown",
   "id": "01df5044-c9c5-43cf-940f-3e0101b9d768",
   "metadata": {},
   "source": [
    "### 전체 쿠키에 대한 확률을 만들기"
   ]
  },
  {
   "cell_type": "code",
   "execution_count": 19,
   "id": "2c625513-2e01-4647-83c5-a37cf9bdfb8a",
   "metadata": {},
   "outputs": [],
   "source": [
    "cookie = lea.pmf({'vanilla': 50, 'chocolate':30}, prob_type='r')"
   ]
  },
  {
   "cell_type": "code",
   "execution_count": 20,
   "id": "4701ef58-1366-4c80-86b5-046daf926d5c",
   "metadata": {},
   "outputs": [
    {
     "data": {
      "text/plain": [
       "chocolate : 3/8\n",
       "vanilla   : 5/8"
      ]
     },
     "execution_count": 20,
     "metadata": {},
     "output_type": "execute_result"
    }
   ],
   "source": [
    "cookie"
   ]
  },
  {
   "cell_type": "code",
   "execution_count": 21,
   "id": "aacf3f7f-32a6-486c-80f9-a86d5d0ef3eb",
   "metadata": {},
   "outputs": [
    {
     "data": {
      "text/plain": [
       "5/8"
      ]
     },
     "execution_count": 21,
     "metadata": {},
     "output_type": "execute_result"
    }
   ],
   "source": [
    "# 바닐라 확률 구하기\n",
    "cookie.p('vanilla')"
   ]
  },
  {
   "cell_type": "markdown",
   "id": "c7492c1e-dd91-4ce7-9c0b-0306e8c7cb2c",
   "metadata": {},
   "source": [
    "### 바닐라 쿠키 전체에서 그릇 1에 해당하는 경우의 확률 구하기\n",
    "\n",
    "* 베이지안 확률에서 구하는 사후 확률은 바닐라 쿠키 전체에서 그릇 1에 해당하는 경우를 구하는 것이다.\n",
    "* 각각의 확률을 별도로 구성해서(bowl1, bowl2, cookie) 조건부 확률로 표시되지 않지만, \n",
    "* 전체 쿠키 중에서 바닐라를 선택할 확률을 구하고 그중에서 그릇 1이 선택될 때 그 안에 바닐라 쿠키의 비율을 구하면 된다."
   ]
  },
  {
   "cell_type": "code",
   "execution_count": 22,
   "id": "0b70b3d4-0356-477c-b365-c0282151cd13",
   "metadata": {},
   "outputs": [
    {
     "data": {
      "text/plain": [
       "3/4"
      ]
     },
     "execution_count": 22,
     "metadata": {},
     "output_type": "execute_result"
    }
   ],
   "source": [
    "# 그릇 1에서 바닐라 쿠키를 선택할 확률\n",
    "bowl1.p('V')"
   ]
  },
  {
   "cell_type": "code",
   "execution_count": 23,
   "id": "6761a2fc-145c-48c6-8f3a-a6c34e435ce4",
   "metadata": {},
   "outputs": [
    {
     "data": {
      "text/plain": [
       "1/2"
      ]
     },
     "execution_count": 23,
     "metadata": {},
     "output_type": "execute_result"
    }
   ],
   "source": [
    "# 그릇 1, 그릇 2 중에서 그릇 1을 선택할 확률\n",
    "bowl.p('bowl1')"
   ]
  },
  {
   "cell_type": "code",
   "execution_count": 24,
   "id": "570f8051-eaf0-43cb-96ab-4206eba1301b",
   "metadata": {},
   "outputs": [
    {
     "data": {
      "text/plain": [
       "3/8"
      ]
     },
     "execution_count": 24,
     "metadata": {},
     "output_type": "execute_result"
    }
   ],
   "source": [
    "# 바닐라 쿠키가 그릇 1에 있을 확률, 두 사건이 연속으로 일어나므로 곱한다.\n",
    "bowl1.p('V') * bowl.p('bowl1')"
   ]
  },
  {
   "cell_type": "code",
   "execution_count": 25,
   "id": "5564ef10-77c9-4fcb-8b4f-214bd08ca416",
   "metadata": {},
   "outputs": [
    {
     "data": {
      "text/plain": [
       "3/5"
      ]
     },
     "execution_count": 25,
     "metadata": {},
     "output_type": "execute_result"
    }
   ],
   "source": [
    "# 바닐라 쿠키를 선택했을 때 바닐라 쿠키가 그릇 1에 있을 확률을 구한다.실제 구하려는 확률이다.\n",
    "bowl1.p('V') * bowl.p('bowl1') / cookie.p('vanilla')"
   ]
  },
  {
   "cell_type": "markdown",
   "id": "b70f8875-9c3e-4d48-a9a4-438ee7915f74",
   "metadata": {},
   "source": [
    "### 확률 분포표로 확률 계산하기"
   ]
  },
  {
   "cell_type": "code",
   "execution_count": 26,
   "id": "faa497c7-00c3-4000-9593-f4ff61d8e7ba",
   "metadata": {},
   "outputs": [],
   "source": [
    "# 변수에 논리값 할당\n",
    "(T, F) = (True, False)"
   ]
  },
  {
   "cell_type": "code",
   "execution_count": 27,
   "id": "2f15f402-4c6c-44de-a7db-b519ef6283c9",
   "metadata": {},
   "outputs": [],
   "source": [
    "# 2개의 그릇에 2종류의 쿠키를 넣어서 4개로 구분해 쿠키를 표시하였다.\n",
    "# (1, 2, 3, 4) = (그릇1, 그릇2, 바닐라 쿠키, 초콜릿 쿠키)\n",
    "# (T, F, T, F) = 그릇 1 = True, 바닐라 쿠키 = True 즉, 그릇 1의 바닐라 쿠키\n",
    "# (T, F, F, T) = 그릇 1 = True, 초콜릿 쿠키 = True 즉, 그릇 1의 초콜릿 쿠키\n",
    "_bowl = lea.pmf({(T, F, T, F): 30, (T, F, F, T): 10, (F, T, T, F):20, (F, T, F, T):20},\n",
    "                normalization=False, prob_type='r')"
   ]
  },
  {
   "cell_type": "code",
   "execution_count": 28,
   "id": "f8c4f2b3-a933-47a8-a3c9-a67823f45b00",
   "metadata": {},
   "outputs": [
    {
     "data": {
      "text/plain": [
       "(False, True , False, True ) : 20\n",
       "(False, True , True , False) : 20\n",
       "(True , False, False, True ) : 10\n",
       "(True , False, True , False) : 30"
      ]
     },
     "execution_count": 28,
     "metadata": {},
     "output_type": "execute_result"
    }
   ],
   "source": [
    "_bowl"
   ]
  },
  {
   "cell_type": "code",
   "execution_count": 29,
   "id": "8191758e-3249-4c0a-8dc0-fe6aa90014cb",
   "metadata": {},
   "outputs": [],
   "source": [
    "# 논리값에 대한 열이름 부여, as_joint 메소드로 그릇의 이름과 쿠키의 이름을 부여\n",
    "bowl = _bowl.as_joint('bowl1', 'bowl2', 'vanilla', 'chocolate')"
   ]
  },
  {
   "cell_type": "code",
   "execution_count": 30,
   "id": "5eef8fe5-8d6c-4dfe-816c-d538e7979603",
   "metadata": {},
   "outputs": [
    {
     "data": {
      "text/plain": [
       " bowl1, bowl2, vanilla, chocolate\n",
       "(False, True , False  , True     ) : 2/8\n",
       "(False, True , True   , False    ) : 2/8\n",
       "(True , False, False  , True     ) : 1/8\n",
       "(True , False, True   , False    ) : 3/8"
      ]
     },
     "execution_count": 30,
     "metadata": {},
     "output_type": "execute_result"
    }
   ],
   "source": [
    "bowl"
   ]
  },
  {
   "cell_type": "code",
   "execution_count": 31,
   "id": "c96fe30a-0fcb-46f1-8e0d-777e90dc8760",
   "metadata": {},
   "outputs": [
    {
     "data": {
      "text/plain": [
       "(_(bowl1=False, bowl2=True, vanilla=False, chocolate=True),\n",
       " _(bowl1=False, bowl2=True, vanilla=True, chocolate=False),\n",
       " _(bowl1=True, bowl2=False, vanilla=False, chocolate=True),\n",
       " _(bowl1=True, bowl2=False, vanilla=True, chocolate=False))"
      ]
     },
     "execution_count": 31,
     "metadata": {},
     "output_type": "execute_result"
    }
   ],
   "source": [
    "# 그릇의 쿠키의 표시가 명확한지 support 속성으로 확인\n",
    "bowl.support"
   ]
  },
  {
   "cell_type": "code",
   "execution_count": 32,
   "id": "b3aa7e83-75f6-44b2-854a-837f6f3bb9b0",
   "metadata": {},
   "outputs": [
    {
     "data": {
      "text/plain": [
       "3/8"
      ]
     },
     "execution_count": 32,
     "metadata": {},
     "output_type": "execute_result"
    }
   ],
   "source": [
    "# 전체 분포에서 해당하는 전체 확률을 가져왔기 때문에 실제 원하는 값을 구한 결과는 아님\n",
    "lea.P(bowl.bowl1 & bowl.vanilla)"
   ]
  },
  {
   "cell_type": "code",
   "execution_count": 33,
   "id": "eeb8df2a-0102-4158-b536-856452456207",
   "metadata": {},
   "outputs": [
    {
     "data": {
      "text/plain": [
       "(1/4, 1/4, 1/8, 3/8)"
      ]
     },
     "execution_count": 33,
     "metadata": {},
     "output_type": "execute_result"
    }
   ],
   "source": [
    "# 확률분포의 전체 확률 확인\n",
    "bowl.ps"
   ]
  },
  {
   "cell_type": "code",
   "execution_count": 34,
   "id": "c253f0f0-7a74-41ad-bb24-ee3aec113833",
   "metadata": {},
   "outputs": [
    {
     "data": {
      "text/plain": [
       " bowl1, bowl2, vanilla, chocolate\n",
       "(False, True , True   , False    ) : 2/5\n",
       "(True , False, True   , False    ) : 3/5"
      ]
     },
     "execution_count": 34,
     "metadata": {},
     "output_type": "execute_result"
    }
   ],
   "source": [
    "# 바닐라 쿠키일 경우의 조건부 확률을 구한다.\n",
    "bowl.given(bowl.vanilla)"
   ]
  },
  {
   "cell_type": "code",
   "execution_count": 35,
   "id": "8fa0d501-6786-4cd4-96ac-9eeaf54b670e",
   "metadata": {},
   "outputs": [
    {
     "data": {
      "text/plain": [
       "1/2"
      ]
     },
     "execution_count": 35,
     "metadata": {},
     "output_type": "execute_result"
    }
   ],
   "source": [
    "# 전체 분포에서 그릇 1인 확률\n",
    "lea.P(bowl.bowl1)"
   ]
  },
  {
   "cell_type": "code",
   "execution_count": 36,
   "id": "3f26e574-88dd-4d9e-8eda-6fd6f09bdc3b",
   "metadata": {},
   "outputs": [
    {
     "data": {
      "text/plain": [
       "3/5"
      ]
     },
     "execution_count": 36,
     "metadata": {},
     "output_type": "execute_result"
    }
   ],
   "source": [
    "# 그릇 1이 바닐라 쿠키일 경우의 확률\n",
    "# 사후 확률로 조건부 확률을 given으로 지정하고 그중에서 그릇 1이 선택될 확률이다.\n",
    "# 엄밀히 말하면, 바닐라 쿠키를 선택했을 때 바닐라 쿠키가 그릇 1에 있을 확률을 구한다.실제 구하려는 확률이다.\n",
    "lea.P(bowl.bowl1.given(bowl.vanilla))"
   ]
  },
  {
   "cell_type": "code",
   "execution_count": null,
   "id": "436ab2a4-1cec-464e-b98a-60f3d8538f0e",
   "metadata": {},
   "outputs": [],
   "source": []
  }
 ],
 "metadata": {
  "kernelspec": {
   "display_name": "Python 3 (ipykernel)",
   "language": "python",
   "name": "python3"
  },
  "language_info": {
   "codemirror_mode": {
    "name": "ipython",
    "version": 3
   },
   "file_extension": ".py",
   "mimetype": "text/x-python",
   "name": "python",
   "nbconvert_exporter": "python",
   "pygments_lexer": "ipython3",
   "version": "3.9.13"
  }
 },
 "nbformat": 4,
 "nbformat_minor": 5
}
