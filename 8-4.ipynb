{
 "cells": [
  {
   "cell_type": "markdown",
   "id": "4b55c3a6-dbc8-424f-aef1-564320b2b91e",
   "metadata": {},
   "source": [
    "# 확률 변수와 확률분포"
   ]
  },
  {
   "cell_type": "markdown",
   "id": "d73ac454-6ed0-4165-a4e1-26094e7fe9bd",
   "metadata": {},
   "source": [
    "## 확률 변수(random variable)\n",
    "\n",
    "* 개별 근원사건에 실숫값을 대응시키는 함수를 확률변수라고 한다.\n",
    "* 문자로 표시한다.\n",
    "* 셀 수 있는 숫자로 변환하는 경우와 연속하는 숫자로 변환하는 경우가 있다.\n",
    "* 이산확률변수: 정수나 실수 등 값이 유한하고 셀 수 있는 경우\n",
    "* 연속확률변수: 연속하는 구간의 모든 값을 가지는 경우"
   ]
  },
  {
   "cell_type": "markdown",
   "id": "0c5d7aa9-2557-48d2-afc8-3445e8450bd4",
   "metadata": {},
   "source": [
    "## 확률분포(Probability distribution)\n",
    "\n",
    "* 확률 변수의 값과 대응하는 확률값을 나타내는 표 또는 수식을 확률분포라고 한다."
   ]
  },
  {
   "cell_type": "markdown",
   "id": "93f42214-3771-446e-9f97-4257e94019ce",
   "metadata": {},
   "source": [
    "## 이산확률: [lea 모듈을 사용](https://bitbucket.org/piedenis/lea/src/dev_lea3/)"
   ]
  },
  {
   "cell_type": "code",
   "execution_count": 1,
   "id": "189c8f9b-5824-4c59-bc0e-8610c34b8673",
   "metadata": {},
   "outputs": [
    {
     "name": "stdout",
     "output_type": "stream",
     "text": [
      "Requirement already satisfied: lea in c:\\users\\kmans\\anaconda3\\lib\\site-packages (3.4.2)\n"
     ]
    }
   ],
   "source": [
    "!pip install lea"
   ]
  },
  {
   "cell_type": "code",
   "execution_count": 2,
   "id": "bfaf3df2-6965-4441-bbce-558f61d4c9ae",
   "metadata": {},
   "outputs": [],
   "source": [
    "from lea import leaf\n",
    "import lea\n",
    "import numpy as np"
   ]
  },
  {
   "cell_type": "markdown",
   "id": "500729b1-4f91-41df-aaa6-b3ef49463407",
   "metadata": {},
   "source": [
    "### 주사위 던지기(leaf.dice)를 사용한 이산확률 만들기"
   ]
  },
  {
   "cell_type": "markdown",
   "id": "9c578c28-dab8-4dff-b189-a6fc399b20ec",
   "metadata": {},
   "source": [
    "#### 주사위를 한번 던지기"
   ]
  },
  {
   "cell_type": "code",
   "execution_count": 3,
   "id": "9d22a251-2b9d-4029-9189-0e1ed45a4fb5",
   "metadata": {},
   "outputs": [],
   "source": [
    "# 주사위를 한 번 던질 경우의 확률과 확률값을 구함. \n",
    "dice = leaf.dice(1, prob_type='r')  # 1:한 번 던짐, prob_type='r': 출력을 분수로 표시"
   ]
  },
  {
   "cell_type": "code",
   "execution_count": 4,
   "id": "55013d18-f84b-465a-9bbe-6011001fff4a",
   "metadata": {},
   "outputs": [
    {
     "data": {
      "text/plain": [
       "1 : 1/6\n",
       "2 : 1/6\n",
       "3 : 1/6\n",
       "4 : 1/6\n",
       "5 : 1/6\n",
       "6 : 1/6"
      ]
     },
     "execution_count": 4,
     "metadata": {},
     "output_type": "execute_result"
    }
   ],
   "source": [
    "dice\n",
    "# 각각의 확률변수가 나올 확률"
   ]
  },
  {
   "cell_type": "code",
   "execution_count": 5,
   "id": "66e179ab-e20d-43ac-aa48-e4ecad135334",
   "metadata": {},
   "outputs": [
    {
     "data": {
      "text/plain": [
       "(1, 2, 3, 4, 5, 6)"
      ]
     },
     "execution_count": 5,
     "metadata": {},
     "output_type": "execute_result"
    }
   ],
   "source": [
    "# 확률 변수 조회\n",
    "dice.support"
   ]
  },
  {
   "cell_type": "code",
   "execution_count": 6,
   "id": "38a90f20-ed74-4bcc-8c63-5ee74f896f06",
   "metadata": {},
   "outputs": [
    {
     "data": {
      "text/plain": [
       "(1/6, 1/6, 1/6, 1/6, 1/6, 1/6)"
      ]
     },
     "execution_count": 6,
     "metadata": {},
     "output_type": "execute_result"
    }
   ],
   "source": [
    "# 주사위의 결과들이 나올 확률 확인\n",
    "dice.ps"
   ]
  },
  {
   "cell_type": "code",
   "execution_count": 7,
   "id": "a970adef-14ed-45c2-b664-49b7ad7fe45e",
   "metadata": {},
   "outputs": [
    {
     "data": {
      "text/plain": [
       "1"
      ]
     },
     "execution_count": 7,
     "metadata": {},
     "output_type": "execute_result"
    }
   ],
   "source": [
    "# 모든 확률의 합은 1, 모든 근원사건의 합도 1\n",
    "dice.p_sum"
   ]
  },
  {
   "cell_type": "code",
   "execution_count": 8,
   "id": "17a9c8ee-f023-4386-b611-276ed6c260df",
   "metadata": {},
   "outputs": [],
   "source": [
    "# 확률분포표를 만들기 위해 pandas 모듈 사용\n",
    "import pandas as pd"
   ]
  },
  {
   "cell_type": "code",
   "execution_count": 9,
   "id": "a9704f39-143c-4209-b01f-7a59df090907",
   "metadata": {},
   "outputs": [],
   "source": [
    "# 값은 확률, 인덱스는 확률변수\n",
    "df = pd.DataFrame(dice.ps, index=dice.support, columns=['f(dice)'])"
   ]
  },
  {
   "cell_type": "code",
   "execution_count": 10,
   "id": "d3e01334-8328-4660-bceb-ef55ccf32234",
   "metadata": {},
   "outputs": [
    {
     "data": {
      "text/html": [
       "<div>\n",
       "<style scoped>\n",
       "    .dataframe tbody tr th:only-of-type {\n",
       "        vertical-align: middle;\n",
       "    }\n",
       "\n",
       "    .dataframe tbody tr th {\n",
       "        vertical-align: top;\n",
       "    }\n",
       "\n",
       "    .dataframe thead th {\n",
       "        text-align: right;\n",
       "    }\n",
       "</style>\n",
       "<table border=\"1\" class=\"dataframe\">\n",
       "  <thead>\n",
       "    <tr style=\"text-align: right;\">\n",
       "      <th></th>\n",
       "      <th>1</th>\n",
       "      <th>2</th>\n",
       "      <th>3</th>\n",
       "      <th>4</th>\n",
       "      <th>5</th>\n",
       "      <th>6</th>\n",
       "    </tr>\n",
       "  </thead>\n",
       "  <tbody>\n",
       "    <tr>\n",
       "      <th>f(dice)</th>\n",
       "      <td>1/6</td>\n",
       "      <td>1/6</td>\n",
       "      <td>1/6</td>\n",
       "      <td>1/6</td>\n",
       "      <td>1/6</td>\n",
       "      <td>1/6</td>\n",
       "    </tr>\n",
       "  </tbody>\n",
       "</table>\n",
       "</div>"
      ],
      "text/plain": [
       "           1    2    3    4    5    6\n",
       "f(dice)  1/6  1/6  1/6  1/6  1/6  1/6"
      ]
     },
     "execution_count": 10,
     "metadata": {},
     "output_type": "execute_result"
    }
   ],
   "source": [
    "# df값을 Transpose로 확인: Transpose index and columns.(행과 열을 바꿔서 한눈에 파악하도록 함)\n",
    "df.T"
   ]
  },
  {
   "cell_type": "code",
   "execution_count": 11,
   "id": "0f61a560-ff00-4655-8e4b-cb32f7a8e9d6",
   "metadata": {},
   "outputs": [
    {
     "data": {
      "image/png": "[encoded data removed]",
      "text/plain": [
       "<Figure size 640x480 with 1 Axes>"
      ]
     },
     "metadata": {},
     "output_type": "display_data"
    }
   ],
   "source": [
    "# 위의 dataframe와 관계없이 dice.ps, dice.support를 이용한 그래프를 그릴 수 있는 plot 함수 존재\n",
    "dice.plot()"
   ]
  },
  {
   "cell_type": "code",
   "execution_count": 12,
   "id": "e89ddcb6-4322-4ce1-9273-a976b13f6e0d",
   "metadata": {},
   "outputs": [],
   "source": [
    "# 하나의 주사위를 굴려서 결과 확인\n",
    "x = dice.random_draw(1)"
   ]
  },
  {
   "cell_type": "code",
   "execution_count": 13,
   "id": "11f84a2f-50c9-43b9-9aa4-5272c28996e5",
   "metadata": {},
   "outputs": [
    {
     "data": {
      "text/plain": [
       "(2,)"
      ]
     },
     "execution_count": 13,
     "metadata": {},
     "output_type": "execute_result"
    }
   ],
   "source": [
    "x"
   ]
  },
  {
   "cell_type": "code",
   "execution_count": 14,
   "id": "c82ea46e-dd9b-4fd3-86f2-931e13c24f4b",
   "metadata": {},
   "outputs": [
    {
     "data": {
      "text/plain": [
       "1/6"
      ]
     },
     "execution_count": 14,
     "metadata": {},
     "output_type": "execute_result"
    }
   ],
   "source": [
    "# 주사위 결과에 대한 확률\n",
    "dice.p(x[0])"
   ]
  },
  {
   "cell_type": "markdown",
   "id": "03103779-67f2-4ec0-89fa-a986feac12bd",
   "metadata": {},
   "source": [
    "#### 주사위를 두 번 굴리는 경우\n",
    "\n",
    "* 주사위를 두 번 굴려서 두 주사위의 합을 기준으로 확률을 확인\n",
    "* 주사위를 두번 굴려서 발생하는 경우의 수는 36이며, 이중에서 합의 최소값은 2, 최대값은 12이다."
   ]
  },
  {
   "cell_type": "code",
   "execution_count": 15,
   "id": "871d6830-7434-4f58-a4ab-7a7353fc69dd",
   "metadata": {},
   "outputs": [],
   "source": [
    "dice2 = leaf.dice(2, prob_type='r')"
   ]
  },
  {
   "cell_type": "code",
   "execution_count": 16,
   "id": "e31a2114-68e9-4f39-b812-93d969a14fd3",
   "metadata": {},
   "outputs": [
    {
     "data": {
      "text/plain": [
       " 2 : 1/36\n",
       " 3 : 2/36\n",
       " 4 : 3/36\n",
       " 5 : 4/36\n",
       " 6 : 5/36\n",
       " 7 : 6/36\n",
       " 8 : 5/36\n",
       " 9 : 4/36\n",
       "10 : 3/36\n",
       "11 : 2/36\n",
       "12 : 1/36"
      ]
     },
     "execution_count": 16,
     "metadata": {},
     "output_type": "execute_result"
    }
   ],
   "source": [
    "dice2"
   ]
  },
  {
   "cell_type": "code",
   "execution_count": 17,
   "id": "66a892ef-969c-45f4-86cb-8a6e58b31163",
   "metadata": {},
   "outputs": [
    {
     "data": {
      "text/plain": [
       "1"
      ]
     },
     "execution_count": 17,
     "metadata": {},
     "output_type": "execute_result"
    }
   ],
   "source": [
    "# 모든 확률값의 합은 1이다.\n",
    "dice2.p_sum"
   ]
  },
  {
   "cell_type": "code",
   "execution_count": 18,
   "id": "9cac267e-b4d1-4318-b845-6223082fe82b",
   "metadata": {},
   "outputs": [],
   "source": [
    "# 데이터프레임으로 확률분포 확인\n",
    "df2 = pd.DataFrame(dice2.ps, index=dice2.support, columns=['f(dice2)'])"
   ]
  },
  {
   "cell_type": "code",
   "execution_count": 19,
   "id": "416f7955-8f65-48a9-aca3-635a7aeb0c54",
   "metadata": {},
   "outputs": [
    {
     "data": {
      "text/html": [
       "<div>\n",
       "<style scoped>\n",
       "    .dataframe tbody tr th:only-of-type {\n",
       "        vertical-align: middle;\n",
       "    }\n",
       "\n",
       "    .dataframe tbody tr th {\n",
       "        vertical-align: top;\n",
       "    }\n",
       "\n",
       "    .dataframe thead th {\n",
       "        text-align: right;\n",
       "    }\n",
       "</style>\n",
       "<table border=\"1\" class=\"dataframe\">\n",
       "  <thead>\n",
       "    <tr style=\"text-align: right;\">\n",
       "      <th></th>\n",
       "      <th>2</th>\n",
       "      <th>3</th>\n",
       "      <th>4</th>\n",
       "      <th>5</th>\n",
       "      <th>6</th>\n",
       "      <th>7</th>\n",
       "      <th>8</th>\n",
       "      <th>9</th>\n",
       "      <th>10</th>\n",
       "      <th>11</th>\n",
       "      <th>12</th>\n",
       "    </tr>\n",
       "  </thead>\n",
       "  <tbody>\n",
       "    <tr>\n",
       "      <th>f(dice2)</th>\n",
       "      <td>1/36</td>\n",
       "      <td>1/18</td>\n",
       "      <td>1/12</td>\n",
       "      <td>1/9</td>\n",
       "      <td>5/36</td>\n",
       "      <td>1/6</td>\n",
       "      <td>5/36</td>\n",
       "      <td>1/9</td>\n",
       "      <td>1/12</td>\n",
       "      <td>1/18</td>\n",
       "      <td>1/36</td>\n",
       "    </tr>\n",
       "  </tbody>\n",
       "</table>\n",
       "</div>"
      ],
      "text/plain": [
       "            2     3     4    5     6    7     8    9     10    11    12\n",
       "f(dice2)  1/36  1/18  1/12  1/9  5/36  1/6  5/36  1/9  1/12  1/18  1/36"
      ]
     },
     "execution_count": 19,
     "metadata": {},
     "output_type": "execute_result"
    }
   ],
   "source": [
    "# df2 값 확인\n",
    "df2.T"
   ]
  },
  {
   "cell_type": "code",
   "execution_count": 20,
   "id": "840808ff-4e9c-4c17-a3a0-3465d89b7c8f",
   "metadata": {},
   "outputs": [
    {
     "data": {
      "image/png": "[encoded data removed]",
      "text/plain": [
       "<Figure size 640x480 with 1 Axes>"
      ]
     },
     "metadata": {},
     "output_type": "display_data"
    }
   ],
   "source": [
    "dice2.plot()"
   ]
  },
  {
   "cell_type": "code",
   "execution_count": 21,
   "id": "780ea234-c3d1-45ef-9c0e-819cc89224b6",
   "metadata": {},
   "outputs": [],
   "source": [
    "# 주사위를 굴려서 나온 결과 확인\n",
    "x = dice2.random_draw(1) # 주사위를 한 번 던져서 나온 결과"
   ]
  },
  {
   "cell_type": "code",
   "execution_count": 22,
   "id": "b4100c12-18cd-4a64-ba64-40e951b190f3",
   "metadata": {},
   "outputs": [
    {
     "data": {
      "text/plain": [
       "(7,)"
      ]
     },
     "execution_count": 22,
     "metadata": {},
     "output_type": "execute_result"
    }
   ],
   "source": [
    "x"
   ]
  },
  {
   "cell_type": "code",
   "execution_count": 23,
   "id": "be7e8920-6672-4f0d-a339-fedfaccaa01a",
   "metadata": {},
   "outputs": [
    {
     "data": {
      "text/plain": [
       "1/6"
      ]
     },
     "execution_count": 23,
     "metadata": {},
     "output_type": "execute_result"
    }
   ],
   "source": [
    "# 위 결과가 나온 확률\n",
    "dice2.p(x[0])"
   ]
  },
  {
   "cell_type": "markdown",
   "id": "0e6003f8-c578-4ef4-872c-2c98aa78486f",
   "metadata": {},
   "source": [
    "### 특정 심벌(lea.vals)을 사용해서 이산확률 만들기"
   ]
  },
  {
   "cell_type": "code",
   "execution_count": 24,
   "id": "cf477e62-a5f0-40bc-a307-830c41753f1d",
   "metadata": {},
   "outputs": [],
   "source": [
    "# 특정 이벤트를 영어 대문자, 출력을 분수로\n",
    "symbol = lea.vals(\"A\", \"B\", \"B\", \"C\", \"C\", \"C\", prob_type='r')"
   ]
  },
  {
   "cell_type": "code",
   "execution_count": 25,
   "id": "eee342d3-5ce7-4d2f-b53b-c0f64d7ce15d",
   "metadata": {},
   "outputs": [
    {
     "data": {
      "text/plain": [
       "A : 1/6\n",
       "B : 2/6\n",
       "C : 3/6"
      ]
     },
     "execution_count": 25,
     "metadata": {},
     "output_type": "execute_result"
    }
   ],
   "source": [
    "symbol"
   ]
  },
  {
   "cell_type": "code",
   "execution_count": 26,
   "id": "6e96ee60-ae0c-43ad-aba9-4e0269040902",
   "metadata": {},
   "outputs": [
    {
     "data": {
      "text/plain": [
       "1"
      ]
     },
     "execution_count": 26,
     "metadata": {},
     "output_type": "execute_result"
    }
   ],
   "source": [
    "# 확률값의 합계\n",
    "symbol.p_sum"
   ]
  },
  {
   "cell_type": "code",
   "execution_count": 27,
   "id": "96447f74-8185-47b0-b094-d6e5c3741969",
   "metadata": {},
   "outputs": [
    {
     "data": {
      "text/plain": [
       "1"
      ]
     },
     "execution_count": 27,
     "metadata": {},
     "output_type": "execute_result"
    }
   ],
   "source": [
    "# 각 확률값을 모두 더하면 1\n",
    "symbol.p('A') + symbol.p('B') + symbol.p('C')"
   ]
  },
  {
   "cell_type": "markdown",
   "id": "a96bdcda-ec2b-4b92-84b4-b598b435253e",
   "metadata": {},
   "source": [
    "### 확률질량함수(lea.pmf)를 이용해 이산확률 만들기"
   ]
  },
  {
   "cell_type": "code",
   "execution_count": 28,
   "id": "7df1a0ba-1861-4dd7-bd41-eaa9dbe5ab3f",
   "metadata": {},
   "outputs": [],
   "source": [
    "# 문자열을 키로, 발생할 개수는 값으로 딕셔너리에 넣어서 처리\n",
    "symbol2 = lea.pmf({\"A\":1, \"B\": 2, \"C\": 3})"
   ]
  },
  {
   "cell_type": "code",
   "execution_count": 29,
   "id": "7ce27313-b69a-4e11-9a83-e398f68aa7fc",
   "metadata": {},
   "outputs": [
    {
     "data": {
      "text/plain": [
       "A : 0.16666666666666666\n",
       "B : 0.3333333333333333\n",
       "C : 0.5"
      ]
     },
     "execution_count": 29,
     "metadata": {},
     "output_type": "execute_result"
    }
   ],
   "source": [
    "symbol2"
   ]
  },
  {
   "cell_type": "code",
   "execution_count": 30,
   "id": "9f9c6ce8-183d-4fd7-99b5-1f110fee0c67",
   "metadata": {},
   "outputs": [
    {
     "data": {
      "text/plain": [
       "1.0"
      ]
     },
     "execution_count": 30,
     "metadata": {},
     "output_type": "execute_result"
    }
   ],
   "source": [
    "# 확률값의 합계\n",
    "symbol2.p_sum"
   ]
  },
  {
   "cell_type": "markdown",
   "id": "aa0f6885-ed8a-46d2-8b96-87fbd67d1b7f",
   "metadata": {},
   "source": [
    "### 동전 던지기(lea.vals 이용)\n",
    "\n",
    "* 동전의 앞면(Head), 뒷면(Tail)이 나올 확률"
   ]
  },
  {
   "cell_type": "code",
   "execution_count": 31,
   "id": "b484e3c2-16ab-4a86-8c0b-d559ac4c0f6b",
   "metadata": {},
   "outputs": [],
   "source": [
    "# 동전을 처리하는 이산확률 생성\n",
    "flip = lea.vals('Head', 'Tail', prob_type='r')"
   ]
  },
  {
   "cell_type": "code",
   "execution_count": 32,
   "id": "9deafd5d-311b-48e6-b55b-2ee5ffaa82e6",
   "metadata": {},
   "outputs": [
    {
     "data": {
      "text/plain": [
       "Head : 1/2\n",
       "Tail : 1/2"
      ]
     },
     "execution_count": 32,
     "metadata": {},
     "output_type": "execute_result"
    }
   ],
   "source": [
    "flip"
   ]
  },
  {
   "cell_type": "code",
   "execution_count": 33,
   "id": "a77bea8a-b042-4bf2-bfd5-aed951fe5c7a",
   "metadata": {},
   "outputs": [
    {
     "data": {
      "text/plain": [
       "1"
      ]
     },
     "execution_count": 33,
     "metadata": {},
     "output_type": "execute_result"
    }
   ],
   "source": [
    "flip.p_sum"
   ]
  },
  {
   "cell_type": "code",
   "execution_count": 34,
   "id": "607e42c7-e6e5-4ad0-bc2f-89f5c9c0ba75",
   "metadata": {},
   "outputs": [
    {
     "data": {
      "text/plain": [
       "1/2"
      ]
     },
     "execution_count": 34,
     "metadata": {},
     "output_type": "execute_result"
    }
   ],
   "source": [
    "# 확률을 구하는 함수 P에 flip이 뒷면인 경우를 전달해서 확률을 구한다.(방법1)\n",
    "lea.P(flip == 'Tail')"
   ]
  },
  {
   "cell_type": "code",
   "execution_count": 35,
   "id": "c1a93484-7cbe-44db-98de-49458cd022d6",
   "metadata": {},
   "outputs": [
    {
     "data": {
      "text/plain": [
       "1/2"
      ]
     },
     "execution_count": 35,
     "metadata": {},
     "output_type": "execute_result"
    }
   ],
   "source": [
    "# flip객체의 메소드를 이용하여 확률을 구한다.(방법2)\n",
    "flip.p('Head')"
   ]
  },
  {
   "cell_type": "code",
   "execution_count": 36,
   "id": "d538bf36-5771-47f3-990b-f53fb6c6238c",
   "metadata": {},
   "outputs": [],
   "source": [
    "# 데이터프레임을 사용해 확률분포표 만들기\n",
    "df = pd.DataFrame(flip.ps, index=flip.support, columns=['coin'])"
   ]
  },
  {
   "cell_type": "code",
   "execution_count": 37,
   "id": "60749866-c9da-45bd-92f9-34ff1fc657ba",
   "metadata": {},
   "outputs": [
    {
     "data": {
      "text/html": [
       "<div>\n",
       "<style scoped>\n",
       "    .dataframe tbody tr th:only-of-type {\n",
       "        vertical-align: middle;\n",
       "    }\n",
       "\n",
       "    .dataframe tbody tr th {\n",
       "        vertical-align: top;\n",
       "    }\n",
       "\n",
       "    .dataframe thead th {\n",
       "        text-align: right;\n",
       "    }\n",
       "</style>\n",
       "<table border=\"1\" class=\"dataframe\">\n",
       "  <thead>\n",
       "    <tr style=\"text-align: right;\">\n",
       "      <th></th>\n",
       "      <th>Head</th>\n",
       "      <th>Tail</th>\n",
       "    </tr>\n",
       "  </thead>\n",
       "  <tbody>\n",
       "    <tr>\n",
       "      <th>coin</th>\n",
       "      <td>1/2</td>\n",
       "      <td>1/2</td>\n",
       "    </tr>\n",
       "  </tbody>\n",
       "</table>\n",
       "</div>"
      ],
      "text/plain": [
       "     Head Tail\n",
       "coin  1/2  1/2"
      ]
     },
     "execution_count": 37,
     "metadata": {},
     "output_type": "execute_result"
    }
   ],
   "source": [
    "df.T"
   ]
  },
  {
   "cell_type": "markdown",
   "id": "032ed5ea-f4b7-4c2e-810b-0d2637acd3e0",
   "metadata": {},
   "source": [
    "### 동전 던지기 구현"
   ]
  },
  {
   "cell_type": "code",
   "execution_count": 38,
   "id": "ac43610b-7958-4c9c-9e31-7af62e42c913",
   "metadata": {},
   "outputs": [],
   "source": [
    "import random"
   ]
  },
  {
   "cell_type": "code",
   "execution_count": 39,
   "id": "ef8aeb97-fcbd-489a-9ee3-ea619bda76cf",
   "metadata": {},
   "outputs": [
    {
     "data": {
      "text/plain": [
       "('Head', 'Head', 'Tail', 'Tail', 'Tail')"
      ]
     },
     "execution_count": 39,
     "metadata": {},
     "output_type": "execute_result"
    }
   ],
   "source": [
    "random.seed(100) # random에 전달되는 값이 동일한 경우 결과도 동일한 값을 가지기 위해서 seed사용\n",
    "flip.random(5) # 동전을 5번 던져서 결과 확인"
   ]
  },
  {
   "cell_type": "code",
   "execution_count": 40,
   "id": "4283724a-a91e-474d-88f9-4183cfef1f89",
   "metadata": {},
   "outputs": [
    {
     "data": {
      "text/plain": [
       "('Head', 'Head', 'Tail', 'Head', 'Tail')"
      ]
     },
     "execution_count": 40,
     "metadata": {},
     "output_type": "execute_result"
    }
   ],
   "source": [
    "random.seed(200)\n",
    "flip.random(5)"
   ]
  },
  {
   "cell_type": "code",
   "execution_count": 41,
   "id": "92a771ec-d36a-4757-b73d-ed4312247d46",
   "metadata": {},
   "outputs": [
    {
     "data": {
      "text/plain": [
       "('Head', 'Head', 'Tail', 'Tail', 'Tail')"
      ]
     },
     "execution_count": 41,
     "metadata": {},
     "output_type": "execute_result"
    }
   ],
   "source": [
    "random.seed(100) # 동일한 seed일 경우 동일한 결과\n",
    "flip.random(5)"
   ]
  },
  {
   "cell_type": "markdown",
   "id": "c418513e-fcaf-44f3-bb2e-18c57393fa0f",
   "metadata": {},
   "source": [
    "### 주사위의 결과가 짝수가 나올 확률 구하기"
   ]
  },
  {
   "cell_type": "code",
   "execution_count": 42,
   "id": "4026c191-8006-4056-9585-42c9945122d7",
   "metadata": {},
   "outputs": [],
   "source": [
    "b = lea.P((dice==2) | (dice==4) | (dice==6))"
   ]
  },
  {
   "cell_type": "code",
   "execution_count": 43,
   "id": "c1b99867-f2ef-4cc9-ba23-c1d590972045",
   "metadata": {},
   "outputs": [
    {
     "data": {
      "text/plain": [
       "1/2"
      ]
     },
     "execution_count": 43,
     "metadata": {},
     "output_type": "execute_result"
    }
   ],
   "source": [
    "b"
   ]
  },
  {
   "cell_type": "code",
   "execution_count": 44,
   "id": "83748a7b-1ec2-4c17-9c6f-677a74cd680f",
   "metadata": {},
   "outputs": [
    {
     "data": {
      "text/plain": [
       "1/3"
      ]
     },
     "execution_count": 44,
     "metadata": {},
     "output_type": "execute_result"
    }
   ],
   "source": [
    "# 주사위 굴리기의 결과가 짝수가 나왔을 때 2가 나온 경우를 계산\n",
    "lea.P(dice==2) / lea.P((dice==2)|(dice==4)|(dice==6))"
   ]
  },
  {
   "cell_type": "markdown",
   "id": "5e5cd7c4-659e-406a-b455-10e5f8d97240",
   "metadata": {},
   "source": [
    "### 주사위의 결과가 특정값(4)이 나올 확률 구하기"
   ]
  },
  {
   "cell_type": "code",
   "execution_count": 45,
   "id": "c41b9a3f-7fd9-45dc-9673-2dba3c593932",
   "metadata": {},
   "outputs": [
    {
     "data": {
      "text/plain": [
       "1/6"
      ]
     },
     "execution_count": 45,
     "metadata": {},
     "output_type": "execute_result"
    }
   ],
   "source": [
    "# 방법 1. 4가 나올 확률\n",
    "lea.P(dice==4)"
   ]
  },
  {
   "cell_type": "code",
   "execution_count": 46,
   "id": "8a983d11-1f69-4abb-95ef-37b5698c5451",
   "metadata": {},
   "outputs": [
    {
     "data": {
      "text/plain": [
       "1/2"
      ]
     },
     "execution_count": 46,
     "metadata": {},
     "output_type": "execute_result"
    }
   ],
   "source": [
    "# 방법 2. 짝수가 나올 확률\n",
    "lea.P(dice % 2 == 0)"
   ]
  },
  {
   "cell_type": "code",
   "execution_count": 47,
   "id": "9eb308c9-ee9b-4b4f-bf32-8f1f59d7e438",
   "metadata": {},
   "outputs": [
    {
     "data": {
      "text/plain": [
       "False : 5/6\n",
       "True  : 1/6"
      ]
     },
     "execution_count": 47,
     "metadata": {},
     "output_type": "execute_result"
    }
   ],
   "source": [
    "# 방법 3. 4가 나올 확률\n",
    "dice == 4"
   ]
  },
  {
   "cell_type": "code",
   "execution_count": 48,
   "id": "c55430cb-d0aa-41e6-b247-d453f90c007c",
   "metadata": {},
   "outputs": [
    {
     "data": {
      "text/plain": [
       "1/3"
      ]
     },
     "execution_count": 48,
     "metadata": {},
     "output_type": "execute_result"
    }
   ],
   "source": [
    "# 방법 4. 주사위 굴리기의 결과가 짝수가 나왔을 때 2가 나온 경우를 계산\n",
    "# 특정조건이 주어졌을 경우 조건부 확률인 given을 사용한다. \n",
    "#  연속해서 조건부 확률이 주어질 때 다른 사건이 발생하는 것을 p 메소드 인자로 전달해 확률을 구한다.\n",
    "dice.given((dice % 2 == 0)).p(4)"
   ]
  },
  {
   "cell_type": "markdown",
   "id": "714e13a0-7120-4b8d-ad0c-82548d82ff19",
   "metadata": {},
   "source": [
    "### 특정 범위의 숫자(lea.interval)를 확률로 표시(이산확률 만들기)"
   ]
  },
  {
   "cell_type": "code",
   "execution_count": 49,
   "id": "a7bd6c79-5195-408e-b7ec-911e8b863492",
   "metadata": {},
   "outputs": [],
   "source": [
    "# 두개의 범위를 표시하는 숫자(1, 6)를 지정해서 이산확률 만들기 -> 주사위 한번 던지기와 동일한 결과\n",
    "die1 = lea.interval(1, 6, prob_type='r')"
   ]
  },
  {
   "cell_type": "code",
   "execution_count": 50,
   "id": "087eb9ca-196d-4d11-b9a5-ee1b8c40984b",
   "metadata": {},
   "outputs": [],
   "source": [
    "# 기존 확률의 복사본 생성\n",
    "die2 = dice.new()"
   ]
  },
  {
   "cell_type": "code",
   "execution_count": 51,
   "id": "a27f1f63-e8e3-44ee-bd33-0c1925ed29d5",
   "metadata": {},
   "outputs": [],
   "source": [
    "# 두 확률 결합\n",
    "die12 = lea.joint(die1, die2)"
   ]
  },
  {
   "cell_type": "code",
   "execution_count": 52,
   "id": "4919558e-fec6-4c5a-844a-c24fd99cb7fd",
   "metadata": {},
   "outputs": [],
   "source": [
    "# 확률분포로 확인하기 위해서 데이터프레임으로 변환\n",
    "df = pd.DataFrame(die12.ps, index=die12.support, columns=['dice joint'])"
   ]
  },
  {
   "cell_type": "code",
   "execution_count": 53,
   "id": "b5a15634-1305-4196-8b23-9804f1db7b43",
   "metadata": {},
   "outputs": [
    {
     "data": {
      "text/html": [
       "<div>\n",
       "<style scoped>\n",
       "    .dataframe tbody tr th:only-of-type {\n",
       "        vertical-align: middle;\n",
       "    }\n",
       "\n",
       "    .dataframe tbody tr th {\n",
       "        vertical-align: top;\n",
       "    }\n",
       "\n",
       "    .dataframe thead tr th {\n",
       "        text-align: left;\n",
       "    }\n",
       "</style>\n",
       "<table border=\"1\" class=\"dataframe\">\n",
       "  <thead>\n",
       "    <tr>\n",
       "      <th></th>\n",
       "      <th colspan=\"6\" halign=\"left\">1</th>\n",
       "      <th colspan=\"4\" halign=\"left\">2</th>\n",
       "      <th>...</th>\n",
       "      <th colspan=\"4\" halign=\"left\">5</th>\n",
       "      <th colspan=\"6\" halign=\"left\">6</th>\n",
       "    </tr>\n",
       "    <tr>\n",
       "      <th></th>\n",
       "      <th>1</th>\n",
       "      <th>2</th>\n",
       "      <th>3</th>\n",
       "      <th>4</th>\n",
       "      <th>5</th>\n",
       "      <th>6</th>\n",
       "      <th>1</th>\n",
       "      <th>2</th>\n",
       "      <th>3</th>\n",
       "      <th>4</th>\n",
       "      <th>...</th>\n",
       "      <th>3</th>\n",
       "      <th>4</th>\n",
       "      <th>5</th>\n",
       "      <th>6</th>\n",
       "      <th>1</th>\n",
       "      <th>2</th>\n",
       "      <th>3</th>\n",
       "      <th>4</th>\n",
       "      <th>5</th>\n",
       "      <th>6</th>\n",
       "    </tr>\n",
       "  </thead>\n",
       "  <tbody>\n",
       "    <tr>\n",
       "      <th>dice joint</th>\n",
       "      <td>1/36</td>\n",
       "      <td>1/36</td>\n",
       "      <td>1/36</td>\n",
       "      <td>1/36</td>\n",
       "      <td>1/36</td>\n",
       "      <td>1/36</td>\n",
       "      <td>1/36</td>\n",
       "      <td>1/36</td>\n",
       "      <td>1/36</td>\n",
       "      <td>1/36</td>\n",
       "      <td>...</td>\n",
       "      <td>1/36</td>\n",
       "      <td>1/36</td>\n",
       "      <td>1/36</td>\n",
       "      <td>1/36</td>\n",
       "      <td>1/36</td>\n",
       "      <td>1/36</td>\n",
       "      <td>1/36</td>\n",
       "      <td>1/36</td>\n",
       "      <td>1/36</td>\n",
       "      <td>1/36</td>\n",
       "    </tr>\n",
       "  </tbody>\n",
       "</table>\n",
       "<p>1 rows × 36 columns</p>\n",
       "</div>"
      ],
      "text/plain": [
       "               1                                   2                    ...  \\\n",
       "               1     2     3     4     5     6     1     2     3     4  ...   \n",
       "dice joint  1/36  1/36  1/36  1/36  1/36  1/36  1/36  1/36  1/36  1/36  ...   \n",
       "\n",
       "               5                       6                                \n",
       "               3     4     5     6     1     2     3     4     5     6  \n",
       "dice joint  1/36  1/36  1/36  1/36  1/36  1/36  1/36  1/36  1/36  1/36  \n",
       "\n",
       "[1 rows x 36 columns]"
      ]
     },
     "execution_count": 53,
     "metadata": {},
     "output_type": "execute_result"
    }
   ],
   "source": [
    "# df 확인(한눈에 보이도록 Transpose 함)\n",
    "df.T"
   ]
  },
  {
   "cell_type": "code",
   "execution_count": 54,
   "id": "6d26a2d6-9a7b-4c6c-ab92-eb43b4f47a1d",
   "metadata": {},
   "outputs": [
    {
     "data": {
      "text/plain": [
       "1"
      ]
     },
     "execution_count": 54,
     "metadata": {},
     "output_type": "execute_result"
    }
   ],
   "source": [
    "die12.p_sum"
   ]
  },
  {
   "cell_type": "code",
   "execution_count": 55,
   "id": "b6a3c9de-767a-4424-b2b9-907494615f6c",
   "metadata": {},
   "outputs": [
    {
     "data": {
      "text/plain": [
       "(1, 1) : 1/6\n",
       "(1, 2) : 1/6\n",
       "(1, 3) : 1/6\n",
       "(1, 4) : 1/6\n",
       "(1, 5) : 1/6\n",
       "(1, 6) : 1/6"
      ]
     },
     "execution_count": 55,
     "metadata": {},
     "output_type": "execute_result"
    }
   ],
   "source": [
    "# 특정 조건부 확률 구하기: 첫번째 주사위가 2보다 작은 수가 나올 조건부 확률을 구한다.\n",
    "die12.given(die1<2)"
   ]
  },
  {
   "cell_type": "code",
   "execution_count": 56,
   "id": "eb0f9d71-0778-4078-a920-ead1ee3bdc67",
   "metadata": {},
   "outputs": [
    {
     "data": {
      "text/plain": [
       "1"
      ]
     },
     "execution_count": 56,
     "metadata": {},
     "output_type": "execute_result"
    }
   ],
   "source": [
    "# 조건부 확률의 합\n",
    "die2.given(die1<2).p_sum"
   ]
  },
  {
   "cell_type": "code",
   "execution_count": null,
   "id": "5ae6e425-fdce-49ae-b219-983f0bbe905b",
   "metadata": {},
   "outputs": [],
   "source": []
  }
 ],
 "metadata": {
  "kernelspec": {
   "display_name": "Python 3 (ipykernel)",
   "language": "python",
   "name": "python3"
  },
  "language_info": {
   "codemirror_mode": {
    "name": "ipython",
    "version": 3
   },
   "file_extension": ".py",
   "mimetype": "text/x-python",
   "name": "python",
   "nbconvert_exporter": "python",
   "pygments_lexer": "ipython3",
   "version": "3.9.13"
  }
 },
 "nbformat": 4,
 "nbformat_minor": 5
}
