{
 "cells": [
  {
   "cell_type": "markdown",
   "id": "19ba4637-ed47-44f1-9169-76161ff12be8",
   "metadata": {},
   "source": [
    "# 문자열"
   ]
  },
  {
   "cell_type": "markdown",
   "id": "14a04520-8cfd-4a39-ad1c-e5a44a0f21c1",
   "metadata": {},
   "source": [
    "* 파이썬은 유니코드와 아스키코드 문자 세트 문자열을 지원한다.\n",
    "  * 한 바이트 문자 단위로 처리하는 bytes\n",
    "  * 텍스트로 처리하는 유니코드 문자열 str"
   ]
  },
  {
   "cell_type": "markdown",
   "id": "24a2fa98-d711-4a52-ab8e-dd5fc612fbad",
   "metadata": {},
   "source": [
    "## 리터럴 표기법으로 문자열 객체 생성"
   ]
  },
  {
   "cell_type": "code",
   "execution_count": 1,
   "id": "796da99a-3fad-43a1-bf80-e9beb7fc3c2d",
   "metadata": {},
   "outputs": [],
   "source": [
    "# 유니코드 문자열은 영문 이외의 한글등 다양한 언어로 정의 한다.\n",
    "s = \"문자열\""
   ]
  },
  {
   "cell_type": "code",
   "execution_count": 2,
   "id": "1753e8b6-4c62-41bd-b17a-6701d1e52819",
   "metadata": {},
   "outputs": [],
   "source": [
    "# 바이트 문자열은 영어와 숫자로만 구성(문자열 기호인 \"앞에 b를 붙인다)\n",
    "b = b\"string\"  "
   ]
  },
  {
   "cell_type": "code",
   "execution_count": 3,
   "id": "478c7a7a-7c30-497a-a3b5-fdeff3b078d4",
   "metadata": {},
   "outputs": [
    {
     "data": {
      "text/plain": [
       "(True, False)"
      ]
     },
     "execution_count": 3,
     "metadata": {},
     "output_type": "execute_result"
    }
   ],
   "source": [
    "isinstance(s, str), isinstance(s, bytes)"
   ]
  },
  {
   "cell_type": "code",
   "execution_count": 4,
   "id": "a26267ae-cdbe-435a-b4ac-8cf2c2a35c8d",
   "metadata": {},
   "outputs": [
    {
     "data": {
      "text/plain": [
       "(True, False)"
      ]
     },
     "execution_count": 4,
     "metadata": {},
     "output_type": "execute_result"
    }
   ],
   "source": [
    "isinstance(b, bytes), isinstance(b, str)"
   ]
  },
  {
   "cell_type": "markdown",
   "id": "af10d55e-a136-4882-880f-b8542d45fb39",
   "metadata": {},
   "source": [
    "## 문자열 내의 원소 검색"
   ]
  },
  {
   "cell_type": "code",
   "execution_count": 5,
   "id": "e5577407-246d-47f7-b0fc-a25985c822b3",
   "metadata": {},
   "outputs": [
    {
     "data": {
      "text/plain": [
       "('문', 115)"
      ]
     },
     "execution_count": 5,
     "metadata": {},
     "output_type": "execute_result"
    }
   ],
   "source": [
    "s[0], b[0]  # 하나의 원소를 인덱스 정보로 조회"
   ]
  },
  {
   "cell_type": "code",
   "execution_count": 6,
   "id": "c534757c-ef0a-433d-ba2e-0d64a17835f0",
   "metadata": {},
   "outputs": [
    {
     "data": {
      "text/plain": [
       "'s'"
      ]
     },
     "execution_count": 6,
     "metadata": {},
     "output_type": "execute_result"
    }
   ],
   "source": [
    "chr(b[0])  # byte를 문자로 변환"
   ]
  },
  {
   "cell_type": "code",
   "execution_count": 7,
   "id": "a2bca298-5097-44f4-a51a-de2322f868b0",
   "metadata": {},
   "outputs": [
    {
     "data": {
      "text/plain": [
       "('열', 103)"
      ]
     },
     "execution_count": 7,
     "metadata": {},
     "output_type": "execute_result"
    }
   ],
   "source": [
    "s[-1], b[-1]  # 역방향 검색"
   ]
  },
  {
   "cell_type": "code",
   "execution_count": 8,
   "id": "e23d651d-da3f-4a86-a552-6eb6cd695379",
   "metadata": {},
   "outputs": [
    {
     "data": {
      "text/plain": [
       "'g'"
      ]
     },
     "execution_count": 8,
     "metadata": {},
     "output_type": "execute_result"
    }
   ],
   "source": [
    "chr(b[-1])"
   ]
  },
  {
   "cell_type": "markdown",
   "id": "7b8b0c87-7017-46ae-bcf1-733af26022f3",
   "metadata": {},
   "source": [
    "## 문자열 갱신"
   ]
  },
  {
   "cell_type": "markdown",
   "id": "09da1201-d858-42ae-8df3-e1a031b4dda3",
   "metadata": {},
   "source": [
    "* 문자열은 변경할 수 없다."
   ]
  },
  {
   "cell_type": "code",
   "execution_count": 9,
   "id": "ffdf0ca8-326b-404d-a66c-4a604711c515",
   "metadata": {},
   "outputs": [
    {
     "name": "stdout",
     "output_type": "stream",
     "text": [
      "'str' object does not support item assignment\n"
     ]
    }
   ],
   "source": [
    "try:\n",
    "    s[0] = 100\n",
    "except Exception as e:\n",
    "    print(e)"
   ]
  },
  {
   "cell_type": "code",
   "execution_count": 10,
   "id": "cce62468-ea44-4616-852a-ceea6193be0b",
   "metadata": {},
   "outputs": [
    {
     "name": "stdout",
     "output_type": "stream",
     "text": [
      "'bytes' object does not support item assignment\n"
     ]
    }
   ],
   "source": [
    "try:\n",
    "    b[0] = 100\n",
    "except Exception as e:\n",
    "    print(e)"
   ]
  },
  {
   "cell_type": "markdown",
   "id": "f6acd1ea-cc96-4dd8-9e86-8d0028f3f30e",
   "metadata": {},
   "source": [
    "## 문자열 변환(encode)"
   ]
  },
  {
   "cell_type": "code",
   "execution_count": 11,
   "id": "b9dc7e2a-9de6-43fc-8256-ab666c466dbe",
   "metadata": {},
   "outputs": [],
   "source": [
    "bs = s.encode()  # 유니코드 문자열을 바이트 문자열로 암호화하기"
   ]
  },
  {
   "cell_type": "code",
   "execution_count": 12,
   "id": "85dc794d-05a0-4127-900f-ec0ae51d0009",
   "metadata": {},
   "outputs": [
    {
     "data": {
      "text/plain": [
       "True"
      ]
     },
     "execution_count": 12,
     "metadata": {},
     "output_type": "execute_result"
    }
   ],
   "source": [
    "isinstance(bs, bytes)"
   ]
  },
  {
   "cell_type": "code",
   "execution_count": 13,
   "id": "b880eb8d-3278-49e3-b2f9-9b2b63dad354",
   "metadata": {},
   "outputs": [
    {
     "data": {
      "text/plain": [
       "9"
      ]
     },
     "execution_count": 13,
     "metadata": {},
     "output_type": "execute_result"
    }
   ],
   "source": [
    "len(bs)"
   ]
  },
  {
   "cell_type": "code",
   "execution_count": 14,
   "id": "d0f41a35-d46e-4e3e-a3d5-179c500c64a3",
   "metadata": {},
   "outputs": [
    {
     "data": {
      "text/plain": [
       "b'\\xeb\\xac\\xb8\\xec\\x9e\\x90\\xec\\x97\\xb4'"
      ]
     },
     "execution_count": 14,
     "metadata": {},
     "output_type": "execute_result"
    }
   ],
   "source": [
    "bs"
   ]
  },
  {
   "cell_type": "code",
   "execution_count": 15,
   "id": "20ee6987-5be9-4394-a3cf-c3f297e56128",
   "metadata": {},
   "outputs": [
    {
     "data": {
      "text/plain": [
       "'문자열'"
      ]
     },
     "execution_count": 15,
     "metadata": {},
     "output_type": "execute_result"
    }
   ],
   "source": [
    "bs.decode()  # 복호화"
   ]
  },
  {
   "cell_type": "code",
   "execution_count": null,
   "id": "3c2a2cb8-3fc3-4227-8635-a5a00437a8b7",
   "metadata": {},
   "outputs": [],
   "source": []
  }
 ],
 "metadata": {
  "kernelspec": {
   "display_name": "Python 3 (ipykernel)",
   "language": "python",
   "name": "python3"
  },
  "language_info": {
   "codemirror_mode": {
    "name": "ipython",
    "version": 3
   },
   "file_extension": ".py",
   "mimetype": "text/x-python",
   "name": "python",
   "nbconvert_exporter": "python",
   "pygments_lexer": "ipython3",
   "version": "3.9.13"
  }
 },
 "nbformat": 4,
 "nbformat_minor": 5
}
