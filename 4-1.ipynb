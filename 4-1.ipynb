{
 "cells": [
  {
   "cell_type": "markdown",
   "id": "bc59b373-fc2b-40b8-9c92-64a74b355a44",
   "metadata": {},
   "source": [
    "# 판다스\n",
    "\n",
    "* Series: 1차원 배열 구조(index)\n",
    "* DataFrame: 2차원 배열 구조(행, 열)\n",
    "* [10 minutes to pandas 사이트](https://pandas.pydata.org/docs/user_guide/10min.html)"
   ]
  },
  {
   "cell_type": "markdown",
   "id": "f8ef44fb-0faa-48f2-affa-7313140f7ee0",
   "metadata": {},
   "source": [
    "# Series 클래스"
   ]
  },
  {
   "cell_type": "markdown",
   "id": "77c40321-0e26-474b-af02-2d4021123e72",
   "metadata": {},
   "source": [
    "* 1차원의 배열 구조\n",
    "* 인덱스 레이블(label)에 이름을 붙여서 처리할 수 있다.\n",
    "* Series는 판다스 모듈의 가장 기본적인 클래스이다."
   ]
  },
  {
   "cell_type": "markdown",
   "id": "31122528-a69b-4288-9231-8cac45de132f",
   "metadata": {},
   "source": [
    "## Series 객체 만들기"
   ]
  },
  {
   "cell_type": "code",
   "execution_count": 1,
   "id": "24452381-2518-49f0-b0b6-304fa05356b6",
   "metadata": {},
   "outputs": [],
   "source": [
    "import pandas as pd"
   ]
  },
  {
   "cell_type": "code",
   "execution_count": 2,
   "id": "83db1ed4-230e-4e7c-9521-7810bb89b6d0",
   "metadata": {},
   "outputs": [],
   "source": [
    "s = pd.Series([1, 2, 3, 4], index=list('abcd'))"
   ]
  },
  {
   "cell_type": "code",
   "execution_count": 3,
   "id": "07a8fe9d-221a-4a3b-8159-876497334349",
   "metadata": {},
   "outputs": [
    {
     "data": {
      "text/plain": [
       "a    1\n",
       "b    2\n",
       "c    3\n",
       "d    4\n",
       "dtype: int64"
      ]
     },
     "execution_count": 3,
     "metadata": {},
     "output_type": "execute_result"
    }
   ],
   "source": [
    "s"
   ]
  },
  {
   "cell_type": "code",
   "execution_count": 4,
   "id": "3166d139-f1d3-4503-8733-526add468c27",
   "metadata": {},
   "outputs": [
    {
     "data": {
      "text/plain": [
       "array([1, 2, 3, 4], dtype=int64)"
      ]
     },
     "execution_count": 4,
     "metadata": {},
     "output_type": "execute_result"
    }
   ],
   "source": [
    "s.values"
   ]
  },
  {
   "cell_type": "markdown",
   "id": "c93479aa-feef-47b4-9266-ee4a6d0a97cf",
   "metadata": {},
   "source": [
    "## 시리즈의 메타 정보 확인"
   ]
  },
  {
   "cell_type": "code",
   "execution_count": 5,
   "id": "638e8c31-eddd-480c-b2a5-d9cea20d86ac",
   "metadata": {},
   "outputs": [
    {
     "data": {
      "text/plain": [
       "Index(['a', 'b', 'c', 'd'], dtype='object')"
      ]
     },
     "execution_count": 5,
     "metadata": {},
     "output_type": "execute_result"
    }
   ],
   "source": [
    "s.index"
   ]
  },
  {
   "cell_type": "code",
   "execution_count": 6,
   "id": "5257a8a0-a296-4a09-8e61-20323cbd62e5",
   "metadata": {},
   "outputs": [
    {
     "data": {
      "text/plain": [
       "((4,), 1, 4)"
      ]
     },
     "execution_count": 6,
     "metadata": {},
     "output_type": "execute_result"
    }
   ],
   "source": [
    "s.shape, s.ndim, s.size  # 형상, 차원, 크기"
   ]
  },
  {
   "cell_type": "markdown",
   "id": "4e8cfaf4-bdb1-4dbc-abb2-2f3693a6f51b",
   "metadata": {},
   "source": [
    "## 색인 검색"
   ]
  },
  {
   "cell_type": "code",
   "execution_count": 7,
   "id": "fbf4f0dd-a7dd-4f7c-a344-4b7656c6ee66",
   "metadata": {},
   "outputs": [
    {
     "data": {
      "text/plain": [
       "(1, 1)"
      ]
     },
     "execution_count": 7,
     "metadata": {},
     "output_type": "execute_result"
    }
   ],
   "source": [
    "# index 이름 또는 index 위치로 원소 조회\n",
    "s[0], s['a']"
   ]
  },
  {
   "cell_type": "markdown",
   "id": "86aaff41-af2e-4603-a98d-e2766465f5cb",
   "metadata": {},
   "source": [
    "## 슬라이스 검색"
   ]
  },
  {
   "cell_type": "code",
   "execution_count": 8,
   "id": "134fb19f-a639-4de2-ac2f-9a92798f0f7d",
   "metadata": {},
   "outputs": [
    {
     "data": {
      "text/plain": [
       "a    1\n",
       "b    2\n",
       "dtype: int64"
      ]
     },
     "execution_count": 8,
     "metadata": {},
     "output_type": "execute_result"
    }
   ],
   "source": [
    "# index position으로 조회\n",
    "s[0:2]"
   ]
  },
  {
   "cell_type": "code",
   "execution_count": 9,
   "id": "070e4ae1-0815-402f-957e-88e234df5319",
   "metadata": {},
   "outputs": [
    {
     "data": {
      "text/plain": [
       "a    1\n",
       "b    2\n",
       "c    3\n",
       "dtype: int64"
      ]
     },
     "execution_count": 9,
     "metadata": {},
     "output_type": "execute_result"
    }
   ],
   "source": [
    "# index name으로 조회\n",
    "s['a':'c']"
   ]
  },
  {
   "cell_type": "markdown",
   "id": "6d6ca2af-c3ea-4395-a31c-f8d2bc883f3b",
   "metadata": {},
   "source": [
    "## 슬라이스로 생성한 객체는 사본 객체가 아니다. 같은 메모리를 공유한다."
   ]
  },
  {
   "cell_type": "code",
   "execution_count": 10,
   "id": "79a5f97a-c8ee-40ea-8159-8b37562925d6",
   "metadata": {},
   "outputs": [],
   "source": [
    "sv = s['a':'c']"
   ]
  },
  {
   "cell_type": "code",
   "execution_count": 11,
   "id": "3c604559-4343-4075-8931-cd1a063f592d",
   "metadata": {},
   "outputs": [],
   "source": [
    "# 같은 데이터를 참조하는지 확인(같은 메모리 공유 여부)\n",
    "import numpy as np"
   ]
  },
  {
   "cell_type": "code",
   "execution_count": 12,
   "id": "39a6d044-b74e-4dce-9131-9055c7fc4cc2",
   "metadata": {},
   "outputs": [
    {
     "data": {
      "text/plain": [
       "True"
      ]
     },
     "execution_count": 12,
     "metadata": {},
     "output_type": "execute_result"
    }
   ],
   "source": [
    "# True로 판다스는 슬라이스로 생성한 객체는 같은 데이터를 공유한다.\n",
    "np.may_share_memory(sv, s) "
   ]
  },
  {
   "cell_type": "code",
   "execution_count": 13,
   "id": "8e0d43a4-e38f-4a79-8770-fd9db4cdf082",
   "metadata": {},
   "outputs": [
    {
     "data": {
      "text/plain": [
       "a    1\n",
       "b    2\n",
       "c    3\n",
       "dtype: int64"
      ]
     },
     "execution_count": 13,
     "metadata": {},
     "output_type": "execute_result"
    }
   ],
   "source": [
    "sv"
   ]
  },
  {
   "cell_type": "code",
   "execution_count": 14,
   "id": "3282dffa-4ede-40d0-a337-8e709f2317bb",
   "metadata": {},
   "outputs": [],
   "source": [
    "sv['a'] = 999"
   ]
  },
  {
   "cell_type": "code",
   "execution_count": 15,
   "id": "bae5028e-f2ff-4514-9550-f347985e1964",
   "metadata": {},
   "outputs": [
    {
     "data": {
      "text/plain": [
       "a    999\n",
       "b      2\n",
       "c      3\n",
       "dtype: int64"
      ]
     },
     "execution_count": 15,
     "metadata": {},
     "output_type": "execute_result"
    }
   ],
   "source": [
    "sv"
   ]
  },
  {
   "cell_type": "code",
   "execution_count": 16,
   "id": "124707c0-8115-49c1-a778-9e7179597262",
   "metadata": {},
   "outputs": [
    {
     "data": {
      "text/plain": [
       "a    999\n",
       "b      2\n",
       "c      3\n",
       "d      4\n",
       "dtype: int64"
      ]
     },
     "execution_count": 16,
     "metadata": {},
     "output_type": "execute_result"
    }
   ],
   "source": [
    "s"
   ]
  },
  {
   "cell_type": "markdown",
   "id": "fab2af4e-165d-43c6-b649-885d4e826d86",
   "metadata": {},
   "source": [
    "## 레이블을 사용해서 색인 연산으로 원소 추가 가능하다. \n",
    "\n",
    "* numpy, list에서는 불가했다."
   ]
  },
  {
   "cell_type": "code",
   "execution_count": 17,
   "id": "a2c61eb1-c9fb-455d-99c5-114df3e8591e",
   "metadata": {},
   "outputs": [],
   "source": [
    "# 색인연산으로 원소 추가\n",
    "s['e'] = 100"
   ]
  },
  {
   "cell_type": "code",
   "execution_count": 18,
   "id": "9b8df784-fde7-49f7-a679-29b0e668bcf5",
   "metadata": {},
   "outputs": [
    {
     "data": {
      "text/plain": [
       "a    999\n",
       "b      2\n",
       "c      3\n",
       "d      4\n",
       "e    100\n",
       "dtype: int64"
      ]
     },
     "execution_count": 18,
     "metadata": {},
     "output_type": "execute_result"
    }
   ],
   "source": [
    "s"
   ]
  },
  {
   "cell_type": "code",
   "execution_count": 19,
   "id": "85daee11-6926-446b-b8cf-34340498c861",
   "metadata": {},
   "outputs": [
    {
     "name": "stdout",
     "output_type": "stream",
     "text": [
      "index 5 is out of bounds for axis 0 with size 5\n"
     ]
    }
   ],
   "source": [
    "# 정수 index로 추가는 안된다.\n",
    "try:\n",
    "    s[5] = 200\n",
    "except Exception as e:\n",
    "    print(e)"
   ]
  },
  {
   "cell_type": "markdown",
   "id": "b9cd4af6-a007-4380-a51c-c2efd20882f8",
   "metadata": {},
   "source": [
    "## 데이터프레임으로 전환"
   ]
  },
  {
   "cell_type": "code",
   "execution_count": 20,
   "id": "25ad9c3e-6239-4355-a08b-e8c11126a9ff",
   "metadata": {},
   "outputs": [
    {
     "data": {
      "text/html": [
       "<div>\n",
       "<style scoped>\n",
       "    .dataframe tbody tr th:only-of-type {\n",
       "        vertical-align: middle;\n",
       "    }\n",
       "\n",
       "    .dataframe tbody tr th {\n",
       "        vertical-align: top;\n",
       "    }\n",
       "\n",
       "    .dataframe thead th {\n",
       "        text-align: right;\n",
       "    }\n",
       "</style>\n",
       "<table border=\"1\" class=\"dataframe\">\n",
       "  <thead>\n",
       "    <tr style=\"text-align: right;\">\n",
       "      <th></th>\n",
       "      <th>0</th>\n",
       "    </tr>\n",
       "  </thead>\n",
       "  <tbody>\n",
       "    <tr>\n",
       "      <th>a</th>\n",
       "      <td>999</td>\n",
       "    </tr>\n",
       "    <tr>\n",
       "      <th>b</th>\n",
       "      <td>2</td>\n",
       "    </tr>\n",
       "    <tr>\n",
       "      <th>c</th>\n",
       "      <td>3</td>\n",
       "    </tr>\n",
       "    <tr>\n",
       "      <th>d</th>\n",
       "      <td>4</td>\n",
       "    </tr>\n",
       "    <tr>\n",
       "      <th>e</th>\n",
       "      <td>100</td>\n",
       "    </tr>\n",
       "  </tbody>\n",
       "</table>\n",
       "</div>"
      ],
      "text/plain": [
       "     0\n",
       "a  999\n",
       "b    2\n",
       "c    3\n",
       "d    4\n",
       "e  100"
      ]
     },
     "execution_count": 20,
     "metadata": {},
     "output_type": "execute_result"
    }
   ],
   "source": [
    "# 데이터프레임으로 전환하면 하나의 열을 가진 데이터프레임으로 변환한다.\n",
    "s.to_frame()"
   ]
  },
  {
   "cell_type": "code",
   "execution_count": null,
   "id": "adaee5b7-4370-4885-8e62-3c602b09c65e",
   "metadata": {},
   "outputs": [],
   "source": []
  }
 ],
 "metadata": {
  "kernelspec": {
   "display_name": "Python 3 (ipykernel)",
   "language": "python",
   "name": "python3"
  },
  "language_info": {
   "codemirror_mode": {
    "name": "ipython",
    "version": 3
   },
   "file_extension": ".py",
   "mimetype": "text/x-python",
   "name": "python",
   "nbconvert_exporter": "python",
   "pygments_lexer": "ipython3",
   "version": "3.9.13"
  }
 },
 "nbformat": 4,
 "nbformat_minor": 5
}
