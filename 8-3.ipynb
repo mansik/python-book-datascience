{
 "cells": [
  {
   "cell_type": "markdown",
   "id": "ac7195b7-3238-4af6-8aa6-7365d1cccda4",
   "metadata": {},
   "source": [
    "# 확률의 원리\n",
    "\n",
    "* 확률(probability)이란 어떤 사건이 우연히 발샐할 가능성, 즉 불확실성을 말한다.\n",
    "* 파이썬에서 제공하는 lea 모듈로 이산확률을 기준으로 확률의 원리를 알아보자"
   ]
  },
  {
   "cell_type": "markdown",
   "id": "8e974f55-e23f-4dd5-8287-6a027a8d3fd5",
   "metadata": {},
   "source": [
    "## 확률의 기본용어\n",
    "\n",
    "* 시행(trial): 같은 조건에서 여러 번 반복할 수 있고 그 결과가 우연에 의해 결정되는 실험이나 관찰\n",
    "* 표본공간(sample space): 어떤 시행에서 일어날 수 있는 모든 가능한 결과의 집합. 표본 공간은 어떤 시행이 반드시 일어나는 사건이므로 전사건이라고도 한다. S = {E1 E2 E3 ... En}\n",
    "* 사건(event): 어떤 시행에서 얻어지는 결과. 이 결과는 표본 공간의 부분집합이 된다.\n",
    "* 근원사건(fundamental event): 표본 공간의 부분집합 중 한 개의 원소로 이루어진 것을 말한다. E ={1}\n",
    "* 여사건(complementary event): 어떤 사건 A가 일어나지 않는 사건. A^c = S-A\n",
    "* 공사건(null event): 절대로 일어나지 않는 사건. E = Φ"
   ]
  },
  {
   "cell_type": "markdown",
   "id": "fa3b4937-2eb1-494b-bcb3-1f6b2d1db648",
   "metadata": {},
   "source": [
    "## 확률의 기본 산식"
   ]
  },
  {
   "cell_type": "markdown",
   "id": "828e2445-e60b-4280-9615-9d3844d64204",
   "metadata": {},
   "source": [
    "* 확률은 어떤 시행(trial)에서 사건(event) A가 일어날 가능성을 수로 나타낸 것을 말한다. 이것을 사건 A가 일어날 확률이라고 한다.\n",
    "* 이때 표본공간의 개수는 n(S)이고, 사건 A가 발생할 개수는 n(A)이다.\n",
    "* 이를 수식으로 표시하면 사건 A가 일어날 확률 P(A) = n(A)/n(S) = A가 발생할 경우의 수/표본 공간의 크기"
   ]
  },
  {
   "cell_type": "markdown",
   "id": "daeb1e62-f097-421b-b0a0-a71b211d493f",
   "metadata": {},
   "source": [
    "## 기본 확률 계산"
   ]
  },
  {
   "cell_type": "code",
   "execution_count": 1,
   "id": "7e3bdbe3-7fa1-407d-9acc-1df337baef89",
   "metadata": {},
   "outputs": [],
   "source": [
    "import numpy as np"
   ]
  },
  {
   "cell_type": "code",
   "execution_count": 2,
   "id": "0a6e01a5-3dd1-4d38-b42e-93d7a0c3147f",
   "metadata": {},
   "outputs": [],
   "source": [
    "S = np.array(10)"
   ]
  },
  {
   "cell_type": "code",
   "execution_count": 3,
   "id": "b9d12313-f730-451b-b936-9773cbe71091",
   "metadata": {},
   "outputs": [],
   "source": [
    "A = np.array(3)"
   ]
  },
  {
   "cell_type": "code",
   "execution_count": 4,
   "id": "8527fd61-52f2-4c2b-b0b0-bf050150249b",
   "metadata": {},
   "outputs": [],
   "source": [
    "# 확률 계산\n",
    "P_A = A/S"
   ]
  },
  {
   "cell_type": "code",
   "execution_count": 5,
   "id": "a8e92d80-b86e-4ab9-846f-5332916726e4",
   "metadata": {},
   "outputs": [
    {
     "data": {
      "text/plain": [
       "0.3"
      ]
     },
     "execution_count": 5,
     "metadata": {},
     "output_type": "execute_result"
    }
   ],
   "source": [
    "# 확률의 결과\n",
    "P_A"
   ]
  },
  {
   "cell_type": "markdown",
   "id": "97f7199a-df57-49b6-a6b7-4dcad60e1681",
   "metadata": {},
   "source": [
    "## 확률의 기본 성질"
   ]
  },
  {
   "cell_type": "markdown",
   "id": "506ddd68-2573-49da-a2b2-89565ffacaea",
   "metadata": {},
   "source": [
    "* 표본 공간 S에서 임의의 사건 A가 발생하면 이 사건의 확률은 0과 1 사이의 실숫값이다.\n",
    "* 0 ≤ P(A) ≤ 1\n",
    "\n",
    "* 표본 공간이 발생할 수 있는 확률의 값은 항상 1이다.\n",
    "* P(S) = n(S)/n(S) = 1\n",
    "\n",
    "* 이 표본 공간에서 아무것도 발생하지 않을 공사건의 확률은 항상 0이다.\n",
    "* P(Φ) = 0"
   ]
  },
  {
   "cell_type": "markdown",
   "id": "dfc9b13d-a35e-44e7-a5b6-115bce36e69a",
   "metadata": {},
   "source": [
    "## 확률의 곱사건"
   ]
  },
  {
   "cell_type": "markdown",
   "id": "ed3fa761-6457-4f52-967b-79a467dd68f1",
   "metadata": {},
   "source": [
    "* 두 개의 사건이 동시에 발생할 경우 둘 중에서 한 사건이 발생할 경우를 확률로 표시할 수 있다.\n",
    "* 사건 A와 B가 동시에 일어날 확률을 두 사건의 곱사건(product event)이라고 한다.\n",
    "* 곱사건을 표시할 때는 교집합, and 또는 쉼표를 사용한다.\n",
    "* P(A ∩ B) = P(A and B) = P(A, B)\n",
    "* 사건 A, B가 동시에 일어나지 않는 경우를 배반사건(exclusive event)이라고 한다. 배반사건을 표시할 때는 곱사건은 0이다.\n",
    "* P(A ∩ B) = P(A and B) = 0"
   ]
  },
  {
   "cell_type": "markdown",
   "id": "34ac7899-a2d2-4daa-aa61-70218827070b",
   "metadata": {},
   "source": [
    "## 확률의 합사건"
   ]
  },
  {
   "cell_type": "markdown",
   "id": "b613b26b-de39-4a90-af02-cc0971a1a748",
   "metadata": {},
   "source": [
    "* A와 B 두 사건에서 하나가 발생할 확률을 합사건(sum event)이라고 한다.\n",
    "* 합사건은 합집합 또는 or를 사용한다.\n",
    "* P(A ∪ B) = P(A or B)\n",
    "* P(A ∪ B) = P(A) + P(B) - P(A ∩ B)"
   ]
  },
  {
   "cell_type": "markdown",
   "id": "6b08ce8f-4ba5-4e51-a68e-83917998570c",
   "metadata": {},
   "source": [
    "## 배반사건"
   ]
  },
  {
   "cell_type": "markdown",
   "id": "7b136c7f-b436-4de1-a131-9da825edd047",
   "metadata": {},
   "source": [
    "* 두 사건이 서로 배타성을 가지는(동시에 일어나지 않는) 배반사건일 경우는 곱사건은 0이다. \n",
    "P(A ∩ B) = 0"
   ]
  }
 ],
 "metadata": {
  "kernelspec": {
   "display_name": "Python 3 (ipykernel)",
   "language": "python",
   "name": "python3"
  },
  "language_info": {
   "codemirror_mode": {
    "name": "ipython",
    "version": 3
   },
   "file_extension": ".py",
   "mimetype": "text/x-python",
   "name": "python",
   "nbconvert_exporter": "python",
   "pygments_lexer": "ipython3",
   "version": "3.9.13"
  }
 },
 "nbformat": 4,
 "nbformat_minor": 5
}
