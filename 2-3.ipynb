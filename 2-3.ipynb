{
 "cells": [
  {
   "cell_type": "markdown",
   "id": "1db259fd-49d1-421e-96ae-bf3fdaf4055f",
   "metadata": {},
   "source": [
    "# 파이썬 클래스와 객체"
   ]
  },
  {
   "cell_type": "markdown",
   "id": "ee4ce355-8c43-458b-937c-2c2452037b06",
   "metadata": {},
   "source": [
    "## 클래스 정의\n",
    "\n",
    "* class(클래스), object(객체), instance(인스턴스), attribute(속성), method(메서드), Inheritance(상속)\n",
    "* 클래스와 객체\n",
    "  * 클래스를 이용해서 여러개의 객체를 만든다. \n",
    "  * 클래스와 객체의 관계를 확인하는 내장함수: isinstance(object name, class name)\n",
    "* 객체와 인스턴스\n",
    "  * `a = Cookie()`에서 `a는 객체`이다, `a는 Cookie의 인스턴스`이다.\n",
    "  * 즉 인스턴스는 특정 객체(a)가 어떤 클래스(Cookie)의 객체인지를 관계 위주로 설명할 때 사용한다.\n",
    "  * `a는 인스턴스`보다는 `a는 객체`가, `a는 Cookie의 객체`보다는 `a는 Cookie의 인스턴스`가 잘 어울린다.\n",
    "* attribute(속성) : class내의 함수(function)와 변수(variable)\n",
    "* data attribute : class내의 변수(variable)\n",
    "* method(메서드) : class내의 함수(function)를 객체에서 호출할때 method라고 한다."
   ]
  },
  {
   "cell_type": "code",
   "execution_count": 1,
   "id": "7c9a650f-4421-4d7d-a5c9-69718a48db67",
   "metadata": {},
   "outputs": [],
   "source": [
    "class Klass(object): # object class에서 상속\n",
    "    \"\"\"A simple example class\"\"\"  # docstring(클래스 설명) : __doc__로 접근\n",
    "    def __init__(self, name):  # 객체 초기화, 객체 생성시 자동으로 호출\n",
    "        self.name = name\n",
    "        \n",
    "    def getName(self):  # method\n",
    "        return self.name"
   ]
  },
  {
   "cell_type": "markdown",
   "id": "7089dd52-b7c5-4b90-a955-a5ad6297df7d",
   "metadata": {},
   "source": [
    "## 객체 생성"
   ]
  },
  {
   "cell_type": "code",
   "execution_count": 2,
   "id": "09fb450b-264a-4416-943c-cfb5ff1d6531",
   "metadata": {},
   "outputs": [],
   "source": [
    "k = Klass(\"객체 생성\")"
   ]
  },
  {
   "cell_type": "code",
   "execution_count": 3,
   "id": "48eede77-9460-466f-b09f-2e4eed4614eb",
   "metadata": {},
   "outputs": [
    {
     "data": {
      "text/plain": [
       "'A simple example class'"
      ]
     },
     "execution_count": 3,
     "metadata": {},
     "output_type": "execute_result"
    }
   ],
   "source": [
    "k.__doc__"
   ]
  },
  {
   "cell_type": "code",
   "execution_count": 4,
   "id": "9dd51de6-5d41-4edf-9e56-148d4a84132c",
   "metadata": {},
   "outputs": [
    {
     "data": {
      "text/plain": [
       "'A simple example class'"
      ]
     },
     "execution_count": 4,
     "metadata": {},
     "output_type": "execute_result"
    }
   ],
   "source": [
    "Klass.__doc__"
   ]
  },
  {
   "cell_type": "code",
   "execution_count": 5,
   "id": "6e75dc72-e348-44ac-b3ab-6ef4c5a3df4d",
   "metadata": {},
   "outputs": [
    {
     "data": {
      "text/plain": [
       "'객체 생성'"
      ]
     },
     "execution_count": 5,
     "metadata": {},
     "output_type": "execute_result"
    }
   ],
   "source": [
    "k.name # 객체의 속성에 직접 접근"
   ]
  },
  {
   "cell_type": "code",
   "execution_count": 6,
   "id": "8f4fab12-282d-4113-966f-4748640610c0",
   "metadata": {},
   "outputs": [
    {
     "data": {
      "text/plain": [
       "'객체 생성'"
      ]
     },
     "execution_count": 6,
     "metadata": {},
     "output_type": "execute_result"
    }
   ],
   "source": [
    "k.getName()  # 메소드를 사용해 객체의 속성 조회"
   ]
  },
  {
   "cell_type": "code",
   "execution_count": 7,
   "id": "0e1f817b-0dcc-42d2-b1c0-a9500324be9a",
   "metadata": {},
   "outputs": [
    {
     "data": {
      "text/plain": [
       "True"
      ]
     },
     "execution_count": 7,
     "metadata": {},
     "output_type": "execute_result"
    }
   ],
   "source": [
    "isinstance(k, Klass)  # 클래스와 객체의 관계를 확인"
   ]
  },
  {
   "cell_type": "markdown",
   "id": "f11d5aa2-ad37-43b6-8f22-4aa258a17f9e",
   "metadata": {},
   "source": [
    "## 함수와 메스드 구분\n",
    "\n",
    "* 함수: 클래스로 사용시\n",
    "* 메서드: 객체로 사용시"
   ]
  },
  {
   "cell_type": "markdown",
   "id": "5ac9d447-eac3-4607-8c6a-329b7588a325",
   "metadata": {},
   "source": [
    "### 함수(function)"
   ]
  },
  {
   "cell_type": "code",
   "execution_count": 8,
   "id": "ea6208eb-bb39-496f-bdc6-73db6a17d3bd",
   "metadata": {},
   "outputs": [
    {
     "data": {
      "text/plain": [
       "mappingproxy({'__module__': '__main__',\n",
       "              '__doc__': 'A simple example class',\n",
       "              '__init__': <function __main__.Klass.__init__(self, name)>,\n",
       "              'getName': <function __main__.Klass.getName(self)>,\n",
       "              '__dict__': <attribute '__dict__' of 'Klass' objects>,\n",
       "              '__weakref__': <attribute '__weakref__' of 'Klass' objects>})"
      ]
     },
     "execution_count": 8,
     "metadata": {},
     "output_type": "execute_result"
    }
   ],
   "source": [
    "Klass.__dict__  # 클래스의 이름공간 확인"
   ]
  },
  {
   "cell_type": "code",
   "execution_count": 9,
   "id": "6bc2371e-3ee1-4723-84c7-98d7671bf8ad",
   "metadata": {},
   "outputs": [
    {
     "data": {
      "text/plain": [
       "<function __main__.Klass.__init__(self, name)>"
      ]
     },
     "execution_count": 9,
     "metadata": {},
     "output_type": "execute_result"
    }
   ],
   "source": [
    "Klass.__init__  ## 클래스에서 초기화 함수를 이름으로 조회하면 function으로 나옴"
   ]
  },
  {
   "cell_type": "code",
   "execution_count": 10,
   "id": "8eb1ce67-0e03-4a2a-8a01-99b60ca5daeb",
   "metadata": {},
   "outputs": [],
   "source": [
    "Klass.__init__(k, \"함수로 갱신\")  # 클래스에서 초기화 함수 사용시 self 자리에 객체를 넣어서 사용"
   ]
  },
  {
   "cell_type": "code",
   "execution_count": 11,
   "id": "f7c73c8b-345c-4d1b-a36c-b1888dd47600",
   "metadata": {},
   "outputs": [
    {
     "data": {
      "text/plain": [
       "'함수로 갱신'"
      ]
     },
     "execution_count": 11,
     "metadata": {},
     "output_type": "execute_result"
    }
   ],
   "source": [
    "k.name"
   ]
  },
  {
   "cell_type": "markdown",
   "id": "a7592486-7ba8-416d-a833-7f24c10a082c",
   "metadata": {},
   "source": [
    "### 메서드(method)"
   ]
  },
  {
   "cell_type": "code",
   "execution_count": 12,
   "id": "85999837-249c-470f-a10f-749ecfef5ab6",
   "metadata": {},
   "outputs": [
    {
     "data": {
      "text/plain": [
       "<bound method Klass.__init__ of <__main__.Klass object at 0x00000227D196BA60>>"
      ]
     },
     "execution_count": 12,
     "metadata": {},
     "output_type": "execute_result"
    }
   ],
   "source": [
    "k.__init__  # 객체에서 초기화 함수를 접근하면 출력이 bound method로 나옴"
   ]
  },
  {
   "cell_type": "code",
   "execution_count": 13,
   "id": "b8ca4cc0-156e-4141-819c-80d30bfa6e80",
   "metadata": {},
   "outputs": [],
   "source": [
    "k.__init__(\"메서드로 갱신\")  # 메서드로 초기화 함수 사용"
   ]
  },
  {
   "cell_type": "code",
   "execution_count": 14,
   "id": "5a6be2e4-2402-434a-8548-06344b9cc017",
   "metadata": {},
   "outputs": [
    {
     "data": {
      "text/plain": [
       "'메서드로 갱신'"
      ]
     },
     "execution_count": 14,
     "metadata": {},
     "output_type": "execute_result"
    }
   ],
   "source": [
    "k.name"
   ]
  },
  {
   "cell_type": "code",
   "execution_count": null,
   "id": "50274794-b3da-49cd-82f2-208fb0b30ce2",
   "metadata": {},
   "outputs": [],
   "source": []
  }
 ],
 "metadata": {
  "kernelspec": {
   "display_name": "Python 3 (ipykernel)",
   "language": "python",
   "name": "python3"
  },
  "language_info": {
   "codemirror_mode": {
    "name": "ipython",
    "version": 3
   },
   "file_extension": ".py",
   "mimetype": "text/x-python",
   "name": "python",
   "nbconvert_exporter": "python",
   "pygments_lexer": "ipython3",
   "version": "3.9.13"
  }
 },
 "nbformat": 4,
 "nbformat_minor": 5
}
